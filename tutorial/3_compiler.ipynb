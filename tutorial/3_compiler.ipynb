{
 "cells": [
  {
   "cell_type": "markdown",
   "metadata": {},
   "source": [
    "# Compiler\n",
    "\n",
    "A `qvm.compiler.Compiler` is used to automate the management of fragments and mapping of fragments to backends of `qvm.circuit.DistributedCircuit`s.\n",
    "\n",
    "Every `qvm.compiler.Compiler` exposes the `run()` method, which takes a `DistributedCircuit` and returns a `DistributedCircuit`.\n",
    "\n",
    "## Single Backend\n",
    "\n",
    "The `SingleBackend` compiler is a simple compiler that maps every fragment to the same backend."
   ]
  },
  {
   "cell_type": "code",
   "execution_count": null,
   "metadata": {},
   "outputs": [],
   "source": []
  },
  {
   "cell_type": "code",
   "execution_count": null,
   "metadata": {},
   "outputs": [],
   "source": []
  }
 ],
 "metadata": {
  "kernelspec": {
   "display_name": "Python 3.9.13 ('.venv': poetry)",
   "language": "python",
   "name": "python3"
  },
  "language_info": {
   "name": "python",
   "version": "3.9.13"
  },
  "orig_nbformat": 4,
  "vscode": {
   "interpreter": {
    "hash": "44ac6c1e5305fe8f09df029b12b2b4501a5500b64ed8bc5660d06451bb1a3b4a"
   }
  }
 },
 "nbformat": 4,
 "nbformat_minor": 2
}
