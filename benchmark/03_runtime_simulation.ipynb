{
 "cells": [
  {
   "cell_type": "code",
   "execution_count": 1,
   "metadata": {},
   "outputs": [
    {
     "name": "stderr",
     "output_type": "stream",
     "text": [
      "/home/di75piq/qtpu/.venv/lib/python3.11/site-packages/cupy/_environment.py:369: UserWarning: CuPy failed to preload library (/home/di75piq/qtpu/.venv/lib/python3.11/site-packages/cutensor/lib/libcutensor.so.2): OSError (libcublasLt.so.11: cannot open shared object file: No such file or directory)\n",
      "  warnings.warn(msg)\n"
     ]
    },
    {
     "ename": "NameError",
     "evalue": "name 'QuantumCircuit' is not defined",
     "output_type": "error",
     "traceback": [
      "\u001b[0;31m---------------------------------------------------------------------------\u001b[0m",
      "\u001b[0;31mNameError\u001b[0m                                 Traceback (most recent call last)",
      "Cell \u001b[0;32mIn[1], line 5\u001b[0m\n\u001b[1;32m      1\u001b[0m \u001b[38;5;28;01mfrom\u001b[39;00m \u001b[38;5;21;01mcuquantum\u001b[39;00m \u001b[38;5;28;01mimport\u001b[39;00m Network, CircuitToEinsum, contract, contract_path\n\u001b[1;32m      2\u001b[0m \u001b[38;5;28;01mimport\u001b[39;00m \u001b[38;5;21;01mcupy\u001b[39;00m \u001b[38;5;28;01mas\u001b[39;00m \u001b[38;5;21;01mcp\u001b[39;00m\n\u001b[0;32m----> 5\u001b[0m \u001b[38;5;28;01mdef\u001b[39;00m \u001b[38;5;21mrun_cutensor\u001b[39m(circuit: \u001b[43mQuantumCircuit\u001b[49m):\n\u001b[1;32m      6\u001b[0m     myconverter \u001b[38;5;241m=\u001b[39m CircuitToEinsum(circuit, dtype\u001b[38;5;241m=\u001b[39m\u001b[38;5;124m\"\u001b[39m\u001b[38;5;124mcomplex128\u001b[39m\u001b[38;5;124m\"\u001b[39m, backend\u001b[38;5;241m=\u001b[39mcp)\n\u001b[1;32m      7\u001b[0m     pauli_string \u001b[38;5;241m=\u001b[39m \u001b[38;5;124m\"\u001b[39m\u001b[38;5;124mZ\u001b[39m\u001b[38;5;124m\"\u001b[39m \u001b[38;5;241m*\u001b[39m circuit\u001b[38;5;241m.\u001b[39mnum_qubits\n",
      "\u001b[0;31mNameError\u001b[0m: name 'QuantumCircuit' is not defined"
     ]
    }
   ],
   "source": [
    "from cuquantum import Network, CircuitToEinsum, contract, contract_path\n",
    "import cupy as cp\n",
    "\n",
    "\n",
    "def run_cutensor(circuit: QuantumCircuit):\n",
    "    myconverter = CircuitToEinsum(circuit, dtype=\"complex128\", backend=cp)\n",
    "    pauli_string = \"Z\" * circuit.num_qubits\n",
    "    expression, operands = myconverter.expectation(pauli_string, lightcone=True)\n",
    "\n",
    "    with Network(expression, *operands) as tn:\n",
    "        start = perf_counter()\n",
    "        path, info = tn.contract_path()\n",
    "        tn.autotune(iterations=5)\n",
    "        compile_time = perf_counter() - start\n",
    "\n",
    "        print(info)\n",
    "\n",
    "        start = perf_counter()\n",
    "        result = tn.contract()\n",
    "        exec_time = perf_counter() - start\n",
    "\n",
    "    return result, {\n",
    "        \"cutensor_compile\": compile_time,\n",
    "        \"cutensor_exec\": exec_time,\n",
    "        \"cutensor_cost\": info.opt_cost,\n",
    "    }"
   ]
  },
  {
   "cell_type": "code",
   "execution_count": null,
   "metadata": {},
   "outputs": [],
   "source": [
    "from benchmark.ansatz import (\n",
    "    generate_ansatz,\n",
    "    qaoa,\n",
    "    generate_seperator_graph,\n",
    "    generate_clustered_graph,\n",
    ")\n",
    "\n",
    "\n",
    "edges = generate_seperator_graph(5, 15, 3)\n",
    "# edges = generate_clustered_graph(3, 4, 2)\n",
    "\n",
    "circuit = qaoa(edges, 2)\n",
    "# print(circuit)\n",
    "\n",
    "result, info = run_cutensor(circuit)\n",
    "print(result)\n",
    "print(info)"
   ]
  }
 ],
 "metadata": {
  "kernelspec": {
   "display_name": ".venv",
   "language": "python",
   "name": "python3"
  },
  "language_info": {
   "codemirror_mode": {
    "name": "ipython",
    "version": 3
   },
   "file_extension": ".py",
   "mimetype": "text/x-python",
   "name": "python",
   "nbconvert_exporter": "python",
   "pygments_lexer": "ipython3",
   "version": "3.11.9"
  }
 },
 "nbformat": 4,
 "nbformat_minor": 2
}
