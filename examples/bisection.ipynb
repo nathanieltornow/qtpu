{
 "cells": [
  {
   "cell_type": "code",
   "execution_count": 1,
   "metadata": {},
   "outputs": [
    {
     "data": {
      "image/png": "[encoded data removed]",
      "text/plain": [
       "<Figure size 376.831x198.994 with 1 Axes>"
      ]
     },
     "execution_count": 1,
     "metadata": {},
     "output_type": "execute_result"
    }
   ],
   "source": [
    "import numpy as np\n",
    "from qiskit.circuit import QuantumCircuit\n",
    "from qiskit.circuit.library import EfficientSU2\n",
    "from IPython.display import display\n",
    "\n",
    "from qvm.virtual_gates import WireCut\n",
    "\n",
    "# num_qubits = 4\n",
    "# circuit = EfficientSU2(\n",
    "#     num_qubits=num_qubits,\n",
    "#     reps=2,\n",
    "#     entanglement=\"linear\",\n",
    "#     su2_gates=[\"rx\", \"ry\"],\n",
    "# )\n",
    "# circuit.measure_all()\n",
    "# circuit = circuit.decompose()\n",
    "\n",
    "# params = [(np.pi * i) / 16 for i in range(len(circuit.parameters))]\n",
    "# circuit = circuit.bind_parameters(params)\n",
    "circuit = QuantumCircuit(3)\n",
    "circuit.h(0)\n",
    "circuit.cx(0, 1)\n",
    "circuit.append(WireCut(), [1], [])\n",
    "circuit.cx(1, 2)\n",
    "\n",
    "circuit.draw(output=\"mpl\", scale=0.7)"
   ]
  },
  {
   "cell_type": "code",
   "execution_count": 2,
   "metadata": {},
   "outputs": [
    {
     "data": {
      "image/png": "[encoded data removed]",
      "text/plain": [
       "<Figure size 412.167x257.522 with 1 Axes>"
      ]
     },
     "execution_count": 2,
     "metadata": {},
     "output_type": "execute_result"
    }
   ],
   "source": [
    "from qvm.cut_library.bisection import bisect_wire, bisect_gate\n",
    "from qvm.cut_library.util import compact_unary_gates, wire_cuts_to_vchans\n",
    "from qiskit.visualization import dag_drawer\n",
    "from qiskit.converters import circuit_to_dag\n",
    "\n",
    "import networkx as nx\n",
    "\n",
    "cut_circ = wire_cuts_to_vchans(circuit)\n",
    "cut_circ.draw(output=\"mpl\", scale=0.7)\n",
    "\n",
    "# nx.draw(circuit_to_dag(circuit))\n",
    "# dag = circuit_to_dag(circuit)\n",
    "# dag_drawer(dag, scale=0.7)\n",
    "# circuit = gate_bisection(circuit)\n",
    "# circuit.draw(output=\"mpl\", scale=0.7)\n",
    "\n",
    "# from qvm.cut_library.util import extract_fragments\n",
    "\n",
    "# circuits = extract_fragments(circuit)\n",
    "# for circ in circuits.values():\n",
    "#     display(circ.draw('mpl'))"
   ]
  },
  {
   "cell_type": "code",
   "execution_count": 3,
   "metadata": {},
   "outputs": [
    {
     "ename": "SyntaxError",
     "evalue": "invalid syntax (2798389150.py, line 2)",
     "output_type": "error",
     "traceback": [
      "\u001b[0;36m  Cell \u001b[0;32mIn[3], line 2\u001b[0;36m\u001b[0m\n\u001b[0;31m    from qvm.\u001b[0m\n\u001b[0m             ^\u001b[0m\n\u001b[0;31mSyntaxError\u001b[0m\u001b[0;31m:\u001b[0m invalid syntax\n"
     ]
    }
   ],
   "source": [
    "from qvm.virtualizer import GateVirtualizer\n",
    "from qvm.\n",
    "\n",
    "virtualizer = GateVirtualizer(circuit)\n",
    "insts = virtualizer.instantiations()\n",
    "for inst in insts[:3]:\n",
    "    display(inst.decompose().draw(output=\"mpl\", scale=0.5))"
   ]
  }
 ],
 "metadata": {
  "kernelspec": {
   "display_name": ".venv",
   "language": "python",
   "name": "python3"
  },
  "language_info": {
   "codemirror_mode": {
    "name": "ipython",
    "version": 3
   },
   "file_extension": ".py",
   "mimetype": "text/x-python",
   "name": "python",
   "nbconvert_exporter": "python",
   "pygments_lexer": "ipython3",
   "version": "3.10.9"
  },
  "orig_nbformat": 4,
  "vscode": {
   "interpreter": {
    "hash": "a326f8ca64cbbe0ab024cd18502af5674268cbd4d9944bacf2d57f99fbf874bc"
   }
  }
 },
 "nbformat": 4,
 "nbformat_minor": 2
}
