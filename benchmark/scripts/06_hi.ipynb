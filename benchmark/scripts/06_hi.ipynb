{
 "cells": [
  {
   "cell_type": "code",
   "execution_count": 2,
   "metadata": {},
   "outputs": [
    {
     "name": "stdout",
     "output_type": "stream",
     "text": [
      "True\n",
      "Evaluating 10440 circuits\n"
     ]
    }
   ],
   "source": [
    "import numpy as np\n",
    "import quimb.tensor as qtn\n",
    "from uncertainties import ufloat\n",
    "\n",
    "from qtpu.compiler.compiler import compile_reach_size\n",
    "from qtpu.circuit import circuit_to_hybrid_tn\n",
    "\n",
    "import cotengra as ctg\n",
    "from benchmark.ansatz import vqe\n",
    "\n",
    "\n",
    "def add_uncertainties(tensor, uncertainty=0.01):\n",
    "    return np.array([ufloat(val, uncertainty) for val in tensor.flatten()]).reshape(\n",
    "        tensor.shape\n",
    "    )\n",
    "\n",
    "\n",
    "circ, _ = vqe(50, 2)\n",
    "circ.measure_all()\n",
    "cut_circ = compile_reach_size(circ, 5, n_trials=10)\n",
    "\n",
    "tn = circuit_to_hybrid_tn(cut_circ)\n",
    "\n",
    "\n",
    "from qtpu.contract import evaluate_hybrid_tn\n",
    "\n",
    "\n",
    "tn = evaluate_hybrid_tn(tn)"
   ]
  },
  {
   "cell_type": "code",
   "execution_count": 4,
   "metadata": {},
   "outputs": [
    {
     "name": "stdout",
     "output_type": "stream",
     "text": [
      "19\n"
     ]
    }
   ],
   "source": [
    "eq, tensors = tn.get_equation(), tn.tensors\n",
    "operands = [t.data for t in tensors]\n",
    "\n",
    "\n",
    "operands = [add_uncertainties(t) for t in operands]\n",
    "\n",
    "\n",
    "print(len(operands))\n",
    "# print(naive_contract_einsum(eq, *operands))\n"
   ]
  },
  {
   "cell_type": "code",
   "execution_count": 6,
   "metadata": {},
   "outputs": [
    {
     "ename": "",
     "evalue": "",
     "output_type": "error",
     "traceback": [
      "\u001b[1;31mThe Kernel crashed while executing code in the current cell or a previous cell. \n",
      "\u001b[1;31mPlease review the code in the cell(s) to identify a possible cause of the failure. \n",
      "\u001b[1;31mClick <a href='https://aka.ms/vscodeJupyterKernelCrash'>here</a> for more info. \n",
      "\u001b[1;31mView Jupyter <a href='command:jupyter.viewOutput'>log</a> for further details."
     ]
    }
   ],
   "source": [
    "np.einsum(eq, *operands)"
   ]
  },
  {
   "cell_type": "code",
   "execution_count": null,
   "metadata": {},
   "outputs": [],
   "source": []
  }
 ],
 "metadata": {
  "kernelspec": {
   "display_name": ".venv",
   "language": "python",
   "name": "python3"
  },
  "language_info": {
   "codemirror_mode": {
    "name": "ipython",
    "version": 3
   },
   "file_extension": ".py",
   "mimetype": "text/x-python",
   "name": "python",
   "nbconvert_exporter": "python",
   "pygments_lexer": "ipython3",
   "version": "3.11.9"
  }
 },
 "nbformat": 4,
 "nbformat_minor": 2
}
