{
 "cells": [
  {
   "cell_type": "code",
   "execution_count": 24,
   "metadata": {},
   "outputs": [],
   "source": [
    "import os\n",
    "import pandas as pd\n",
    "\n",
    "from qiskit.circuit import QuantumCircuit\n",
    "import optuna\n",
    "import qtpu\n",
    "from qtpu.compiler.terminators import reach_num_qubits\n",
    "from qtpu.compiler.success import success_num_nodes\n",
    "from qtpu.compiler import trial_to_hybrid_tn\n",
    "\n",
    "from benchmark._plot_util import *\n",
    "from benchmark.util import get_hybrid_tn_info, append_to_csv, get_base_info\n",
    "from benchmark.benchmarks import *"
   ]
  },
  {
   "cell_type": "code",
   "execution_count": 25,
   "metadata": {},
   "outputs": [],
   "source": [
    "def get_highest_cost_trial(study: optuna.Study):\n",
    "    return trial_to_hybrid_tn(\n",
    "        max(study.best_trials, key=lambda t: (t.values[0], t.values[1]))\n",
    "    )"
   ]
  },
  {
   "cell_type": "code",
   "execution_count": 27,
   "metadata": {},
   "outputs": [
    {
     "data": {
      "application/vnd.jupyter.widget-view+json": {
       "model_id": "a7a252b64a724290addb4cc8bc48a0eb",
       "version_major": 2,
       "version_minor": 0
      },
      "text/plain": [
       "  0%|          | 0/100 [00:00<?, ?it/s]"
      ]
     },
     "metadata": {},
     "output_type": "display_data"
    },
    {
     "name": "stderr",
     "output_type": "stream",
     "text": [
      "/home/nate/qvm/benchmark/util.py:76: RuntimeWarning: divide by zero encountered in log10\n",
      "  ) + np.log10(len(hybrid_tn.classical_tensors) + len(hybrid_tn.quantum_tensors) - 1)\n"
     ]
    },
    {
     "data": {
      "application/vnd.jupyter.widget-view+json": {
       "model_id": "f671d230adf849f3b6f73b30d425369d",
       "version_major": 2,
       "version_minor": 0
      },
      "text/plain": [
       "  0%|          | 0/100 [00:00<?, ?it/s]"
      ]
     },
     "metadata": {},
     "output_type": "display_data"
    },
    {
     "data": {
      "application/vnd.jupyter.widget-view+json": {
       "model_id": "f95646ba03494f1693ac59a783496744",
       "version_major": 2,
       "version_minor": 0
      },
      "text/plain": [
       "  0%|          | 0/100 [00:00<?, ?it/s]"
      ]
     },
     "metadata": {},
     "output_type": "display_data"
    },
    {
     "data": {
      "application/vnd.jupyter.widget-view+json": {
       "model_id": "57821c7cc8a24836b0b95faa916ddf1d",
       "version_major": 2,
       "version_minor": 0
      },
      "text/plain": [
       "  0%|          | 0/100 [00:00<?, ?it/s]"
      ]
     },
     "metadata": {},
     "output_type": "display_data"
    },
    {
     "data": {
      "application/vnd.jupyter.widget-view+json": {
       "model_id": "a4b15de0fc944e38abac6f536f56bf7d",
       "version_major": 2,
       "version_minor": 0
      },
      "text/plain": [
       "  0%|          | 0/100 [00:00<?, ?it/s]"
      ]
     },
     "metadata": {},
     "output_type": "display_data"
    },
    {
     "data": {
      "application/vnd.jupyter.widget-view+json": {
       "model_id": "503397f1cc324ed586dfe2cd283f29e7",
       "version_major": 2,
       "version_minor": 0
      },
      "text/plain": [
       "  0%|          | 0/100 [00:00<?, ?it/s]"
      ]
     },
     "metadata": {},
     "output_type": "display_data"
    }
   ],
   "source": [
    "circuit = cluster_ansatz(10 * [20], 5)\n",
    "\n",
    "for cost in [1e6, 1e7]:\n",
    "    htn = qtpu.cut(\n",
    "        circuit,\n",
    "        max_cost=cost,\n",
    "        show_progress_bar=True,\n",
    "        # terminate_fn=reach_num_qubits(20),\n",
    "    )\n",
    "    for qt in htn.quantum_tensors:\n",
    "        print(qt.shape)\n",
    "\n",
    "    # circuit = brick_ansatz(100, 3)\n",
    "    # study = qtpu.compiler.hyper_optimize(\n",
    "    #     circuit, max_cost=(5, cost), show_progress_bar=True\n",
    "    # )\n",
    "\n",
    "    # for trial in study.best_trials:\n",
    "    #     htn = trial_to_hybrid_tn(trial)\n",
    "    info = get_hybrid_tn_info(htn)\n",
    "    base_info = get_base_info(circuit)\n",
    "    append_to_csv(\n",
    "        \"results/fidelity2.csv\",\n",
    "        {\n",
    "            \"name\": \"brick_100_3\",\n",
    "            \"given_cost\": np.log10(cost),\n",
    "            **info,\n",
    "            **base_info,\n",
    "        },\n",
    "    )"
   ]
  },
  {
   "cell_type": "code",
   "execution_count": null,
   "metadata": {},
   "outputs": [
    {
     "data": {
      "text/html": [
       "<div>\n",
       "<style scoped>\n",
       "    .dataframe tbody tr th:only-of-type {\n",
       "        vertical-align: middle;\n",
       "    }\n",
       "\n",
       "    .dataframe tbody tr th {\n",
       "        vertical-align: top;\n",
       "    }\n",
       "\n",
       "    .dataframe thead th {\n",
       "        text-align: right;\n",
       "    }\n",
       "</style>\n",
       "<table border=\"1\" class=\"dataframe\">\n",
       "  <thead>\n",
       "    <tr style=\"text-align: right;\">\n",
       "      <th></th>\n",
       "      <th>name</th>\n",
       "      <th>given_cost</th>\n",
       "      <th>contract_cost</th>\n",
       "      <th>bruteforce_cost</th>\n",
       "      <th>num_qpds</th>\n",
       "      <th>num_subcircuits</th>\n",
       "      <th>num_instances</th>\n",
       "      <th>esp</th>\n",
       "      <th>depth</th>\n",
       "      <th>max_qubits</th>\n",
       "      <th>swap_count</th>\n",
       "      <th>cx_count</th>\n",
       "      <th>2q_count</th>\n",
       "      <th>base_qubits</th>\n",
       "      <th>base_depth</th>\n",
       "      <th>base_esp</th>\n",
       "      <th>base_swap_count</th>\n",
       "      <th>base_cx_count</th>\n",
       "      <th>base_2q_count</th>\n",
       "      <th>rel_cx</th>\n",
       "    </tr>\n",
       "  </thead>\n",
       "  <tbody>\n",
       "    <tr>\n",
       "      <th>0</th>\n",
       "      <td>brick_100_3</td>\n",
       "      <td>2.0</td>\n",
       "      <td>2.158</td>\n",
       "      <td>1.681</td>\n",
       "      <td>2</td>\n",
       "      <td>2</td>\n",
       "      <td>32</td>\n",
       "      <td>0.099</td>\n",
       "      <td>112</td>\n",
       "      <td>100</td>\n",
       "      <td>0</td>\n",
       "      <td>2277</td>\n",
       "      <td>2277</td>\n",
       "      <td>100</td>\n",
       "      <td>112</td>\n",
       "      <td>0.099</td>\n",
       "      <td>0</td>\n",
       "      <td>2278</td>\n",
       "      <td>2278</td>\n",
       "      <td>0.999561</td>\n",
       "    </tr>\n",
       "    <tr>\n",
       "      <th>1</th>\n",
       "      <td>brick_100_3</td>\n",
       "      <td>3.0</td>\n",
       "      <td>3.151</td>\n",
       "      <td>2.602</td>\n",
       "      <td>3</td>\n",
       "      <td>2</td>\n",
       "      <td>200</td>\n",
       "      <td>0.249</td>\n",
       "      <td>111</td>\n",
       "      <td>60</td>\n",
       "      <td>0</td>\n",
       "      <td>1370</td>\n",
       "      <td>1370</td>\n",
       "      <td>100</td>\n",
       "      <td>112</td>\n",
       "      <td>0.099</td>\n",
       "      <td>0</td>\n",
       "      <td>2278</td>\n",
       "      <td>2278</td>\n",
       "      <td>0.601405</td>\n",
       "    </tr>\n",
       "    <tr>\n",
       "      <th>2</th>\n",
       "      <td>brick_100_3</td>\n",
       "      <td>4.0</td>\n",
       "      <td>3.151</td>\n",
       "      <td>2.602</td>\n",
       "      <td>3</td>\n",
       "      <td>2</td>\n",
       "      <td>200</td>\n",
       "      <td>0.249</td>\n",
       "      <td>111</td>\n",
       "      <td>60</td>\n",
       "      <td>0</td>\n",
       "      <td>1370</td>\n",
       "      <td>1370</td>\n",
       "      <td>100</td>\n",
       "      <td>112</td>\n",
       "      <td>0.099</td>\n",
       "      <td>0</td>\n",
       "      <td>2278</td>\n",
       "      <td>2278</td>\n",
       "      <td>0.601405</td>\n",
       "    </tr>\n",
       "    <tr>\n",
       "      <th>3</th>\n",
       "      <td>brick_100_3</td>\n",
       "      <td>5.0</td>\n",
       "      <td>4.112</td>\n",
       "      <td>5.602</td>\n",
       "      <td>7</td>\n",
       "      <td>4</td>\n",
       "      <td>10216</td>\n",
       "      <td>0.395</td>\n",
       "      <td>96</td>\n",
       "      <td>41</td>\n",
       "      <td>0</td>\n",
       "      <td>917</td>\n",
       "      <td>917</td>\n",
       "      <td>100</td>\n",
       "      <td>112</td>\n",
       "      <td>0.099</td>\n",
       "      <td>0</td>\n",
       "      <td>2278</td>\n",
       "      <td>2278</td>\n",
       "      <td>0.402546</td>\n",
       "    </tr>\n",
       "    <tr>\n",
       "      <th>4</th>\n",
       "      <td>brick_100_3</td>\n",
       "      <td>6.0</td>\n",
       "      <td>4.736</td>\n",
       "      <td>9.592</td>\n",
       "      <td>12</td>\n",
       "      <td>5</td>\n",
       "      <td>47125</td>\n",
       "      <td>0.626</td>\n",
       "      <td>79</td>\n",
       "      <td>20</td>\n",
       "      <td>0</td>\n",
       "      <td>462</td>\n",
       "      <td>462</td>\n",
       "      <td>100</td>\n",
       "      <td>112</td>\n",
       "      <td>0.099</td>\n",
       "      <td>0</td>\n",
       "      <td>2278</td>\n",
       "      <td>2278</td>\n",
       "      <td>0.202809</td>\n",
       "    </tr>\n",
       "    <tr>\n",
       "      <th>5</th>\n",
       "      <td>brick_100_3</td>\n",
       "      <td>7.0</td>\n",
       "      <td>4.736</td>\n",
       "      <td>9.592</td>\n",
       "      <td>12</td>\n",
       "      <td>5</td>\n",
       "      <td>47125</td>\n",
       "      <td>0.626</td>\n",
       "      <td>79</td>\n",
       "      <td>20</td>\n",
       "      <td>0</td>\n",
       "      <td>462</td>\n",
       "      <td>462</td>\n",
       "      <td>100</td>\n",
       "      <td>112</td>\n",
       "      <td>0.099</td>\n",
       "      <td>0</td>\n",
       "      <td>2278</td>\n",
       "      <td>2278</td>\n",
       "      <td>0.202809</td>\n",
       "    </tr>\n",
       "  </tbody>\n",
       "</table>\n",
       "</div>"
      ],
      "text/plain": [
       "          name  given_cost  contract_cost  bruteforce_cost  num_qpds  \\\n",
       "0  brick_100_3         2.0          2.158            1.681         2   \n",
       "1  brick_100_3         3.0          3.151            2.602         3   \n",
       "2  brick_100_3         4.0          3.151            2.602         3   \n",
       "3  brick_100_3         5.0          4.112            5.602         7   \n",
       "4  brick_100_3         6.0          4.736            9.592        12   \n",
       "5  brick_100_3         7.0          4.736            9.592        12   \n",
       "\n",
       "   num_subcircuits  num_instances    esp  depth  max_qubits  swap_count  \\\n",
       "0                2             32  0.099    112         100           0   \n",
       "1                2            200  0.249    111          60           0   \n",
       "2                2            200  0.249    111          60           0   \n",
       "3                4          10216  0.395     96          41           0   \n",
       "4                5          47125  0.626     79          20           0   \n",
       "5                5          47125  0.626     79          20           0   \n",
       "\n",
       "   cx_count  2q_count  base_qubits  base_depth  base_esp  base_swap_count  \\\n",
       "0      2277      2277          100         112     0.099                0   \n",
       "1      1370      1370          100         112     0.099                0   \n",
       "2      1370      1370          100         112     0.099                0   \n",
       "3       917       917          100         112     0.099                0   \n",
       "4       462       462          100         112     0.099                0   \n",
       "5       462       462          100         112     0.099                0   \n",
       "\n",
       "   base_cx_count  base_2q_count    rel_cx  \n",
       "0           2278           2278  0.999561  \n",
       "1           2278           2278  0.601405  \n",
       "2           2278           2278  0.601405  \n",
       "3           2278           2278  0.402546  \n",
       "4           2278           2278  0.202809  \n",
       "5           2278           2278  0.202809  "
      ]
     },
     "execution_count": 17,
     "metadata": {},
     "output_type": "execute_result"
    }
   ],
   "source": [
    "df = pd.read_csv(\"results/fidelity2.csv\")\n",
    "\n",
    "df[\"rel_cx\"] = df[\"cx_count\"] / df[\"base_cx_count\"]\n",
    "df"
   ]
  },
  {
   "cell_type": "code",
   "execution_count": null,
   "metadata": {},
   "outputs": [
    {
     "data": {
      "image/png": "[encoded data removed]",
      "text/plain": [
       "<Figure size 450x200 with 1 Axes>"
      ]
     },
     "metadata": {},
     "output_type": "display_data"
    }
   ],
   "source": [
    "names = [\"brick_100_3\"]\n",
    "\n",
    "fig, axes = plt.subplots(1, len(names), figsize=(4.5, 2.0))\n",
    "axes = [axes] if len(names) == 1 else axes\n",
    "\n",
    "\n",
    "for name, ax in zip(names, axes):\n",
    "    df_ = df[df[\"name\"] == name]\n",
    "\n",
    "    df_[\"contract_cost\"] = np.ceil(df_[\"contract_cost\"])\n",
    "    df_ = df_[[\"contract_cost\", \"rel_cx\"]]\n",
    "    df_ = df_.groupby(\"contract_cost\").mean().reset_index()\n",
    "    # plot contract_cost on x-axis, esp on y-axis\n",
    "    df_.plot.bar(x=\"contract_cost\", y=\"rel_cx\", ax=ax, legend=False)\n",
    "    # ax.plot(df_[\"contract_cost\"], df_[\"rel_cx\"], label=\"ESP\", marker=\"o\")\n",
    "\n",
    "fig;"
   ]
  },
  {
   "cell_type": "code",
   "execution_count": null,
   "metadata": {},
   "outputs": [],
   "source": []
  },
  {
   "cell_type": "code",
   "execution_count": null,
   "metadata": {},
   "outputs": [],
   "source": []
  }
 ],
 "metadata": {
  "kernelspec": {
   "display_name": ".venv",
   "language": "python",
   "name": "python3"
  },
  "language_info": {
   "codemirror_mode": {
    "name": "ipython",
    "version": 3
   },
   "file_extension": ".py",
   "mimetype": "text/x-python",
   "name": "python",
   "nbconvert_exporter": "python",
   "pygments_lexer": "ipython3",
   "version": "3.11.8"
  }
 },
 "nbformat": 4,
 "nbformat_minor": 2
}
