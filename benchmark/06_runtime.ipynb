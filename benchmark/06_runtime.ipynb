{
 "cells": [
  {
   "cell_type": "code",
   "execution_count": 1,
   "metadata": {},
   "outputs": [],
   "source": [
    "from time import perf_counter\n",
    "\n",
    "from qiskit_aer.primitives import Sampler\n",
    "\n",
    "from qtpu.compiler.compiler import compile_reach_size\n",
    "from qtpu.evaluate import evaluate_sampler\n",
    "\n",
    "from benchmark.ckt import run_qtpu, cut_ckt, run_ckt\n",
    "from benchmark.ansatz import generate_ansatz\n",
    "from benchmark.util import append_to_csv"
   ]
  },
  {
   "cell_type": "code",
   "execution_count": 2,
   "metadata": {},
   "outputs": [],
   "source": [
    "QPU_SIZES = [5, 20]\n",
    "XS, S, M, L, XL = 15, 30, 70, 100, 200"
   ]
  },
  {
   "cell_type": "code",
   "execution_count": 3,
   "metadata": {},
   "outputs": [],
   "source": [
    "benchmarks = [\n",
    "    {\"name\": \"vqe\", \"num_qubits\": size, \"depth\": d}\n",
    "    for size in [XS, S, M]\n",
    "    for d in [3]\n",
    "]"
   ]
  },
  {
   "cell_type": "code",
   "execution_count": 4,
   "metadata": {},
   "outputs": [],
   "source": [
    "def compile_and_run_qtpu(circuit, qpu_size):\n",
    "    start = perf_counter()\n",
    "    circuit = circuit.copy()\n",
    "    circuit.measure_all()\n",
    "    cut_circ = compile_reach_size(circuit, qpu_size, show_progress_bar=True)\n",
    "    # print(cut_circ)\n",
    "    compile_time = perf_counter() - start\n",
    "    # evaluate_sampler(Sampler(), 10000)\n",
    "    res, data = run_qtpu(cut_circ, .5)\n",
    "    print(res)\n",
    "\n",
    "    return {\"qtpu_compile\": compile_time, **data}\n",
    "\n",
    "\n",
    "def compile_and_run_ckt(circuit, qpu_size):\n",
    "    start = perf_counter()\n",
    "    cut_circ = cut_ckt(circuit, qpu_size)\n",
    "    compile_time = perf_counter() - start\n",
    "\n",
    "    res, data = run_ckt(cut_circ, Sampler(), 100)\n",
    "    print(res)\n",
    "\n",
    "    return {\"ckt_compile\": compile_time, **data}"
   ]
  },
  {
   "cell_type": "code",
   "execution_count": 5,
   "metadata": {},
   "outputs": [
    {
     "data": {
      "application/vnd.jupyter.widget-view+json": {
       "model_id": "c780106f1c2649129b46bf5427a2d328",
       "version_major": 2,
       "version_minor": 0
      },
      "text/plain": [
       "  0%|          | 0/100 [00:00<?, ?it/s]"
      ]
     },
     "metadata": {},
     "output_type": "display_data"
    },
    {
     "name": "stdout",
     "output_type": "stream",
     "text": [
      "[FrozenTrial(number=0, state=1, values=[186840.0, 0.9955098858248878], datetime_start=datetime.datetime(2024, 8, 10, 21, 38, 45, 44681), datetime_complete=datetime.datetime(2024, 8, 10, 21, 38, 45, 53534), params={'compress': 'qubits', 'choose_leaf': 'qubits', 'random_strength': 3.911296561246107, 'weight_edges': 'const', 'imbalance': 0.042493818406859535, 'imbalance_decay': 4.981026482690801, 'parts': 6, 'parts_decay': 0.6609854898472375, 'mode': 'recursive', 'objective': 'cut', 'fix_output_nodes': ''}, user_attrs={'ir': <qtpu.compiler.compress.CompressedIR object at 0x7f61ee711d10>, 'tree': <ContractionTree(N=15, branches=5, complete=False)>}, system_attrs={'nsga2:generation': 0}, intermediate_values={}, distributions={'compress': CategoricalDistribution(choices=('qubits', '2q', 'none')), 'choose_leaf': CategoricalDistribution(choices=('qubits',)), 'random_strength': FloatDistribution(high=10.0, log=False, low=0.01, step=None), 'weight_edges': CategoricalDistribution(choices=('const', 'log')), 'imbalance': FloatDistribution(high=1.0, log=False, low=0.01, step=None), 'imbalance_decay': FloatDistribution(high=5.0, log=False, low=-5.0, step=None), 'parts': IntDistribution(high=16, log=False, low=2, step=1), 'parts_decay': FloatDistribution(high=1.0, log=False, low=0.0, step=None), 'mode': CategoricalDistribution(choices=('direct', 'recursive')), 'objective': CategoricalDistribution(choices=('cut', 'km1')), 'fix_output_nodes': CategoricalDistribution(choices=('auto', ''))}, trial_id=0, value=None), FrozenTrial(number=4, state=1, values=[93528.0, 0.9940176658287095], datetime_start=datetime.datetime(2024, 8, 10, 21, 38, 45, 178678), datetime_complete=datetime.datetime(2024, 8, 10, 21, 38, 45, 186236), params={'compress': 'qubits', 'choose_leaf': 'qubits', 'random_strength': 4.417849384987722, 'weight_edges': 'const', 'imbalance': 0.6953998216236622, 'imbalance_decay': -2.3676732309920845, 'parts': 6, 'parts_decay': 0.9260757867481467, 'mode': 'direct', 'objective': 'km1', 'fix_output_nodes': 'auto'}, user_attrs={'ir': <qtpu.compiler.compress.CompressedIR object at 0x7f61e69c2790>, 'tree': <ContractionTree(N=15, branches=3, complete=False)>}, system_attrs={'nsga2:generation': 0}, intermediate_values={}, distributions={'compress': CategoricalDistribution(choices=('qubits', '2q', 'none')), 'choose_leaf': CategoricalDistribution(choices=('qubits',)), 'random_strength': FloatDistribution(high=10.0, log=False, low=0.01, step=None), 'weight_edges': CategoricalDistribution(choices=('const', 'log')), 'imbalance': FloatDistribution(high=1.0, log=False, low=0.01, step=None), 'imbalance_decay': FloatDistribution(high=5.0, log=False, low=-5.0, step=None), 'parts': IntDistribution(high=16, log=False, low=2, step=1), 'parts_decay': FloatDistribution(high=1.0, log=False, low=0.0, step=None), 'mode': CategoricalDistribution(choices=('direct', 'recursive')), 'objective': CategoricalDistribution(choices=('cut', 'km1')), 'fix_output_nodes': CategoricalDistribution(choices=('auto', ''))}, trial_id=4, value=None), FrozenTrial(number=7, state=1, values=[93528.0, 0.9940176658287095], datetime_start=datetime.datetime(2024, 8, 10, 21, 38, 46, 90613), datetime_complete=datetime.datetime(2024, 8, 10, 21, 38, 46, 98128), params={'compress': 'qubits', 'choose_leaf': 'qubits', 'random_strength': 3.3256331901965623, 'weight_edges': 'const', 'imbalance': 0.6610290085493147, 'imbalance_decay': 4.711182236813752, 'parts': 16, 'parts_decay': 0.6852498271566188, 'mode': 'direct', 'objective': 'km1', 'fix_output_nodes': 'auto'}, user_attrs={'ir': <qtpu.compiler.compress.CompressedIR object at 0x7f61bf31a310>, 'tree': <ContractionTree(N=15, branches=3, complete=False)>}, system_attrs={'nsga2:generation': 0}, intermediate_values={}, distributions={'compress': CategoricalDistribution(choices=('qubits', '2q', 'none')), 'choose_leaf': CategoricalDistribution(choices=('qubits',)), 'random_strength': FloatDistribution(high=10.0, log=False, low=0.01, step=None), 'weight_edges': CategoricalDistribution(choices=('const', 'log')), 'imbalance': FloatDistribution(high=1.0, log=False, low=0.01, step=None), 'imbalance_decay': FloatDistribution(high=5.0, log=False, low=-5.0, step=None), 'parts': IntDistribution(high=16, log=False, low=2, step=1), 'parts_decay': FloatDistribution(high=1.0, log=False, low=0.0, step=None), 'mode': CategoricalDistribution(choices=('direct', 'recursive')), 'objective': CategoricalDistribution(choices=('cut', 'km1')), 'fix_output_nodes': CategoricalDistribution(choices=('auto', ''))}, trial_id=7, value=None), FrozenTrial(number=12, state=1, values=[233496.0, 0.995808598531185], datetime_start=datetime.datetime(2024, 8, 10, 21, 38, 46, 809643), datetime_complete=datetime.datetime(2024, 8, 10, 21, 38, 46, 819065), params={'compress': 'qubits', 'choose_leaf': 'qubits', 'random_strength': 3.8238125955787856, 'weight_edges': 'const', 'imbalance': 0.7735939910718006, 'imbalance_decay': -3.052671006768791, 'parts': 11, 'parts_decay': 0.827794209192115, 'mode': 'recursive', 'objective': 'km1', 'fix_output_nodes': ''}, user_attrs={'ir': <qtpu.compiler.compress.CompressedIR object at 0x7f61be995fd0>, 'tree': <ContractionTree(N=15, branches=6, complete=False)>}, system_attrs={'nsga2:generation': 0}, intermediate_values={}, distributions={'compress': CategoricalDistribution(choices=('qubits', '2q', 'none')), 'choose_leaf': CategoricalDistribution(choices=('qubits',)), 'random_strength': FloatDistribution(high=10.0, log=False, low=0.01, step=None), 'weight_edges': CategoricalDistribution(choices=('const', 'log')), 'imbalance': FloatDistribution(high=1.0, log=False, low=0.01, step=None), 'imbalance_decay': FloatDistribution(high=5.0, log=False, low=-5.0, step=None), 'parts': IntDistribution(high=16, log=False, low=2, step=1), 'parts_decay': FloatDistribution(high=1.0, log=False, low=0.0, step=None), 'mode': CategoricalDistribution(choices=('direct', 'recursive')), 'objective': CategoricalDistribution(choices=('cut', 'km1')), 'fix_output_nodes': CategoricalDistribution(choices=('auto', ''))}, trial_id=12, value=None), FrozenTrial(number=21, state=1, values=[140184.0, 0.9943159307794598], datetime_start=datetime.datetime(2024, 8, 10, 21, 38, 49, 226285), datetime_complete=datetime.datetime(2024, 8, 10, 21, 38, 49, 233241), params={'compress': 'qubits', 'choose_leaf': 'qubits', 'random_strength': 6.018258414422616, 'weight_edges': 'log', 'imbalance': 0.10145141684310852, 'imbalance_decay': -1.832925547397346, 'parts': 6, 'parts_decay': 0.5928171858817215, 'mode': 'recursive', 'objective': 'cut', 'fix_output_nodes': ''}, user_attrs={'ir': <qtpu.compiler.compress.CompressedIR object at 0x7f61bcba9250>, 'tree': <ContractionTree(N=15, branches=4, complete=False)>}, system_attrs={'nsga2:generation': 0}, intermediate_values={}, distributions={'compress': CategoricalDistribution(choices=('qubits', '2q', 'none')), 'choose_leaf': CategoricalDistribution(choices=('qubits',)), 'random_strength': FloatDistribution(high=10.0, log=False, low=0.01, step=None), 'weight_edges': CategoricalDistribution(choices=('const', 'log')), 'imbalance': FloatDistribution(high=1.0, log=False, low=0.01, step=None), 'imbalance_decay': FloatDistribution(high=5.0, log=False, low=-5.0, step=None), 'parts': IntDistribution(high=16, log=False, low=2, step=1), 'parts_decay': FloatDistribution(high=1.0, log=False, low=0.0, step=None), 'mode': CategoricalDistribution(choices=('direct', 'recursive')), 'objective': CategoricalDistribution(choices=('cut', 'km1')), 'fix_output_nodes': CategoricalDistribution(choices=('auto', ''))}, trial_id=21, value=None), FrozenTrial(number=24, state=1, values=[606744.0, 0.9985010495451366], datetime_start=datetime.datetime(2024, 8, 10, 21, 38, 49, 788129), datetime_complete=datetime.datetime(2024, 8, 10, 21, 38, 49, 794510), params={'compress': 'qubits', 'choose_leaf': 'qubits', 'random_strength': 2.5841758759605358, 'weight_edges': 'const', 'imbalance': 0.3486206622670806, 'imbalance_decay': -1.8501166931443214, 'parts': 16, 'parts_decay': 0.9166795061113812, 'mode': 'direct', 'objective': 'cut', 'fix_output_nodes': ''}, user_attrs={'ir': <qtpu.compiler.compress.CompressedIR object at 0x7f61bc176c10>, 'tree': <ContractionTree(N=15)>}, system_attrs={'nsga2:generation': 0}, intermediate_values={}, distributions={'compress': CategoricalDistribution(choices=('qubits', '2q', 'none')), 'choose_leaf': CategoricalDistribution(choices=('qubits',)), 'random_strength': FloatDistribution(high=10.0, log=False, low=0.01, step=None), 'weight_edges': CategoricalDistribution(choices=('const', 'log')), 'imbalance': FloatDistribution(high=1.0, log=False, low=0.01, step=None), 'imbalance_decay': FloatDistribution(high=5.0, log=False, low=-5.0, step=None), 'parts': IntDistribution(high=16, log=False, low=2, step=1), 'parts_decay': FloatDistribution(high=1.0, log=False, low=0.0, step=None), 'mode': CategoricalDistribution(choices=('direct', 'recursive')), 'objective': CategoricalDistribution(choices=('cut', 'km1')), 'fix_output_nodes': CategoricalDistribution(choices=('auto', ''))}, trial_id=24, value=None), FrozenTrial(number=37, state=1, values=[3300494344.0, 0.9988006597800496], datetime_start=datetime.datetime(2024, 8, 10, 21, 38, 52, 495456), datetime_complete=datetime.datetime(2024, 8, 10, 21, 38, 52, 707560), params={'compress': 'none', 'choose_leaf': 'qubits', 'random_strength': 0.4597073607541048, 'weight_edges': 'const', 'imbalance': 0.9099994812484092, 'imbalance_decay': 3.2456807409828574, 'parts': 15, 'parts_decay': 0.04681492338140725, 'mode': 'direct', 'objective': 'km1', 'fix_output_nodes': ''}, user_attrs={'ir': <qtpu.compiler.compress.CompressedIR object at 0x7f61999b20d0>, 'tree': <ContractionTree(N=219, branches=39, complete=False)>}, system_attrs={'nsga2:generation': 0}, intermediate_values={}, distributions={'compress': CategoricalDistribution(choices=('qubits', '2q', 'none')), 'choose_leaf': CategoricalDistribution(choices=('qubits',)), 'random_strength': FloatDistribution(high=10.0, log=False, low=0.01, step=None), 'weight_edges': CategoricalDistribution(choices=('const', 'log')), 'imbalance': FloatDistribution(high=1.0, log=False, low=0.01, step=None), 'imbalance_decay': FloatDistribution(high=5.0, log=False, low=-5.0, step=None), 'parts': IntDistribution(high=16, log=False, low=2, step=1), 'parts_decay': FloatDistribution(high=1.0, log=False, low=0.0, step=None), 'mode': CategoricalDistribution(choices=('direct', 'recursive')), 'objective': CategoricalDistribution(choices=('cut', 'km1')), 'fix_output_nodes': CategoricalDistribution(choices=('auto', ''))}, trial_id=37, value=None), FrozenTrial(number=39, state=1, values=[93528.0, 0.9940176658287095], datetime_start=datetime.datetime(2024, 8, 10, 21, 38, 53, 198030), datetime_complete=datetime.datetime(2024, 8, 10, 21, 38, 53, 205438), params={'compress': 'qubits', 'choose_leaf': 'qubits', 'random_strength': 2.415569319208004, 'weight_edges': 'log', 'imbalance': 0.01959105431071206, 'imbalance_decay': 2.1072082143035757, 'parts': 11, 'parts_decay': 0.7163117921076652, 'mode': 'direct', 'objective': 'cut', 'fix_output_nodes': 'auto'}, user_attrs={'ir': <qtpu.compiler.compress.CompressedIR object at 0x7f61cbfae710>, 'tree': <ContractionTree(N=15, branches=3, complete=False)>}, system_attrs={'nsga2:generation': 0}, intermediate_values={}, distributions={'compress': CategoricalDistribution(choices=('qubits', '2q', 'none')), 'choose_leaf': CategoricalDistribution(choices=('qubits',)), 'random_strength': FloatDistribution(high=10.0, log=False, low=0.01, step=None), 'weight_edges': CategoricalDistribution(choices=('const', 'log')), 'imbalance': FloatDistribution(high=1.0, log=False, low=0.01, step=None), 'imbalance_decay': FloatDistribution(high=5.0, log=False, low=-5.0, step=None), 'parts': IntDistribution(high=16, log=False, low=2, step=1), 'parts_decay': FloatDistribution(high=1.0, log=False, low=0.0, step=None), 'mode': CategoricalDistribution(choices=('direct', 'recursive')), 'objective': CategoricalDistribution(choices=('cut', 'km1')), 'fix_output_nodes': CategoricalDistribution(choices=('auto', ''))}, trial_id=39, value=None), FrozenTrial(number=41, state=1, values=[93528.0, 0.9940176658287095], datetime_start=datetime.datetime(2024, 8, 10, 21, 38, 53, 254748), datetime_complete=datetime.datetime(2024, 8, 10, 21, 38, 53, 262228), params={'compress': 'qubits', 'choose_leaf': 'qubits', 'random_strength': 5.224907750961628, 'weight_edges': 'const', 'imbalance': 0.3547512703113221, 'imbalance_decay': -1.370040988509312, 'parts': 2, 'parts_decay': 0.01723944313107517, 'mode': 'direct', 'objective': 'km1', 'fix_output_nodes': 'auto'}, user_attrs={'ir': <qtpu.compiler.compress.CompressedIR object at 0x7f61e93b2050>, 'tree': <ContractionTree(N=15, branches=3, complete=False)>}, system_attrs={'nsga2:generation': 0}, intermediate_values={}, distributions={'compress': CategoricalDistribution(choices=('qubits', '2q', 'none')), 'choose_leaf': CategoricalDistribution(choices=('qubits',)), 'random_strength': FloatDistribution(high=10.0, log=False, low=0.01, step=None), 'weight_edges': CategoricalDistribution(choices=('const', 'log')), 'imbalance': FloatDistribution(high=1.0, log=False, low=0.01, step=None), 'imbalance_decay': FloatDistribution(high=5.0, log=False, low=-5.0, step=None), 'parts': IntDistribution(high=16, log=False, low=2, step=1), 'parts_decay': FloatDistribution(high=1.0, log=False, low=0.0, step=None), 'mode': CategoricalDistribution(choices=('direct', 'recursive')), 'objective': CategoricalDistribution(choices=('cut', 'km1')), 'fix_output_nodes': CategoricalDistribution(choices=('auto', ''))}, trial_id=41, value=None), FrozenTrial(number=45, state=1, values=[186840.0, 0.9955098858248878], datetime_start=datetime.datetime(2024, 8, 10, 21, 38, 53, 906114), datetime_complete=datetime.datetime(2024, 8, 10, 21, 38, 53, 913558), params={'compress': 'qubits', 'choose_leaf': 'qubits', 'random_strength': 7.715272989372571, 'weight_edges': 'const', 'imbalance': 0.2386666601481646, 'imbalance_decay': 4.186149691063859, 'parts': 6, 'parts_decay': 0.36474488712458253, 'mode': 'direct', 'objective': 'cut', 'fix_output_nodes': ''}, user_attrs={'ir': <qtpu.compiler.compress.CompressedIR object at 0x7f61c3b45a90>, 'tree': <ContractionTree(N=15, branches=5, complete=False)>}, system_attrs={'nsga2:generation': 0}, intermediate_values={}, distributions={'compress': CategoricalDistribution(choices=('qubits', '2q', 'none')), 'choose_leaf': CategoricalDistribution(choices=('qubits',)), 'random_strength': FloatDistribution(high=10.0, log=False, low=0.01, step=None), 'weight_edges': CategoricalDistribution(choices=('const', 'log')), 'imbalance': FloatDistribution(high=1.0, log=False, low=0.01, step=None), 'imbalance_decay': FloatDistribution(high=5.0, log=False, low=-5.0, step=None), 'parts': IntDistribution(high=16, log=False, low=2, step=1), 'parts_decay': FloatDistribution(high=1.0, log=False, low=0.0, step=None), 'mode': CategoricalDistribution(choices=('direct', 'recursive')), 'objective': CategoricalDistribution(choices=('cut', 'km1')), 'fix_output_nodes': CategoricalDistribution(choices=('auto', ''))}, trial_id=45, value=None), FrozenTrial(number=46, state=1, values=[93528.0, 0.9940176658287095], datetime_start=datetime.datetime(2024, 8, 10, 21, 38, 53, 918889), datetime_complete=datetime.datetime(2024, 8, 10, 21, 38, 53, 927993), params={'compress': 'qubits', 'choose_leaf': 'qubits', 'random_strength': 2.068580369462599, 'weight_edges': 'const', 'imbalance': 0.6219175582190466, 'imbalance_decay': 0.3794908523437055, 'parts': 10, 'parts_decay': 0.34344425594178274, 'mode': 'direct', 'objective': 'km1', 'fix_output_nodes': 'auto'}, user_attrs={'ir': <qtpu.compiler.compress.CompressedIR object at 0x7f61c31aee90>, 'tree': <ContractionTree(N=15, branches=3, complete=False)>}, system_attrs={'nsga2:generation': 0}, intermediate_values={}, distributions={'compress': CategoricalDistribution(choices=('qubits', '2q', 'none')), 'choose_leaf': CategoricalDistribution(choices=('qubits',)), 'random_strength': FloatDistribution(high=10.0, log=False, low=0.01, step=None), 'weight_edges': CategoricalDistribution(choices=('const', 'log')), 'imbalance': FloatDistribution(high=1.0, log=False, low=0.01, step=None), 'imbalance_decay': FloatDistribution(high=5.0, log=False, low=-5.0, step=None), 'parts': IntDistribution(high=16, log=False, low=2, step=1), 'parts_decay': FloatDistribution(high=1.0, log=False, low=0.0, step=None), 'mode': CategoricalDistribution(choices=('direct', 'recursive')), 'objective': CategoricalDistribution(choices=('cut', 'km1')), 'fix_output_nodes': CategoricalDistribution(choices=('auto', ''))}, trial_id=46, value=None), FrozenTrial(number=56, state=1, values=[93528.0, 0.9940176658287095], datetime_start=datetime.datetime(2024, 8, 10, 21, 38, 55, 248683), datetime_complete=datetime.datetime(2024, 8, 10, 21, 38, 55, 256361), params={'compress': 'qubits', 'choose_leaf': 'qubits', 'random_strength': 5.224907750961628, 'weight_edges': 'const', 'imbalance': 0.3547512703113221, 'imbalance_decay': -1.370040988509312, 'parts': 2, 'parts_decay': 0.01723944313107517, 'mode': 'direct', 'objective': 'km1', 'fix_output_nodes': ''}, user_attrs={'ir': <qtpu.compiler.compress.CompressedIR object at 0x7f618e78c7d0>, 'tree': <ContractionTree(N=15, branches=3, complete=False)>}, system_attrs={'nsga2:generation': 1}, intermediate_values={}, distributions={'compress': CategoricalDistribution(choices=('qubits', '2q', 'none')), 'choose_leaf': CategoricalDistribution(choices=('qubits',)), 'random_strength': FloatDistribution(high=10.0, log=False, low=0.01, step=None), 'weight_edges': CategoricalDistribution(choices=('const', 'log')), 'imbalance': FloatDistribution(high=1.0, log=False, low=0.01, step=None), 'imbalance_decay': FloatDistribution(high=5.0, log=False, low=-5.0, step=None), 'parts': IntDistribution(high=16, log=False, low=2, step=1), 'parts_decay': FloatDistribution(high=1.0, log=False, low=0.0, step=None), 'mode': CategoricalDistribution(choices=('direct', 'recursive')), 'objective': CategoricalDistribution(choices=('cut', 'km1')), 'fix_output_nodes': CategoricalDistribution(choices=('auto', ''))}, trial_id=56, value=None), FrozenTrial(number=63, state=1, values=[93528.0, 0.9940176658287095], datetime_start=datetime.datetime(2024, 8, 10, 21, 38, 55, 838113), datetime_complete=datetime.datetime(2024, 8, 10, 21, 38, 55, 845403), params={'compress': 'qubits', 'choose_leaf': 'qubits', 'random_strength': 9.855810823413599, 'weight_edges': 'const', 'imbalance': 0.3447580601780861, 'imbalance_decay': 1.04891078983918, 'parts': 4, 'parts_decay': 0.9668621905368445, 'mode': 'recursive', 'objective': 'km1', 'fix_output_nodes': 'auto'}, user_attrs={'ir': <qtpu.compiler.compress.CompressedIR object at 0x7f6187374050>, 'tree': <ContractionTree(N=15, branches=3, complete=False)>}, system_attrs={'nsga2:generation': 1}, intermediate_values={}, distributions={'compress': CategoricalDistribution(choices=('qubits', '2q', 'none')), 'choose_leaf': CategoricalDistribution(choices=('qubits',)), 'random_strength': FloatDistribution(high=10.0, log=False, low=0.01, step=None), 'weight_edges': CategoricalDistribution(choices=('const', 'log')), 'imbalance': FloatDistribution(high=1.0, log=False, low=0.01, step=None), 'imbalance_decay': FloatDistribution(high=5.0, log=False, low=-5.0, step=None), 'parts': IntDistribution(high=16, log=False, low=2, step=1), 'parts_decay': FloatDistribution(high=1.0, log=False, low=0.0, step=None), 'mode': CategoricalDistribution(choices=('direct', 'recursive')), 'objective': CategoricalDistribution(choices=('cut', 'km1')), 'fix_output_nodes': CategoricalDistribution(choices=('auto', ''))}, trial_id=63, value=None), FrozenTrial(number=64, state=1, values=[606744.0, 0.9985010495451366], datetime_start=datetime.datetime(2024, 8, 10, 21, 38, 55, 849841), datetime_complete=datetime.datetime(2024, 8, 10, 21, 38, 55, 855880), params={'compress': 'qubits', 'choose_leaf': 'qubits', 'random_strength': 0.4597073607541048, 'weight_edges': 'const', 'imbalance': 0.3547512703113221, 'imbalance_decay': 3.2456807409828574, 'parts': 15, 'parts_decay': 0.01723944313107517, 'mode': 'direct', 'objective': 'km1', 'fix_output_nodes': ''}, user_attrs={'ir': <qtpu.compiler.compress.CompressedIR object at 0x7f6187377310>, 'tree': <ContractionTree(N=15)>}, system_attrs={'nsga2:generation': 1}, intermediate_values={}, distributions={'compress': CategoricalDistribution(choices=('qubits', '2q', 'none')), 'choose_leaf': CategoricalDistribution(choices=('qubits',)), 'random_strength': FloatDistribution(high=10.0, log=False, low=0.01, step=None), 'weight_edges': CategoricalDistribution(choices=('const', 'log')), 'imbalance': FloatDistribution(high=1.0, log=False, low=0.01, step=None), 'imbalance_decay': FloatDistribution(high=5.0, log=False, low=-5.0, step=None), 'parts': IntDistribution(high=16, log=False, low=2, step=1), 'parts_decay': FloatDistribution(high=1.0, log=False, low=0.0, step=None), 'mode': CategoricalDistribution(choices=('direct', 'recursive')), 'objective': CategoricalDistribution(choices=('cut', 'km1')), 'fix_output_nodes': CategoricalDistribution(choices=('auto', ''))}, trial_id=64, value=None), FrozenTrial(number=67, state=1, values=[93528.0, 0.9940176658287095], datetime_start=datetime.datetime(2024, 8, 10, 21, 38, 56, 359876), datetime_complete=datetime.datetime(2024, 8, 10, 21, 38, 56, 367234), params={'compress': 'qubits', 'choose_leaf': 'qubits', 'random_strength': 3.6339368926587015, 'weight_edges': 'log', 'imbalance': 0.03962955177482457, 'imbalance_decay': 3.454706880981105, 'parts': 16, 'parts_decay': 0.5928171858817215, 'mode': 'direct', 'objective': 'cut', 'fix_output_nodes': 'auto'}, user_attrs={'ir': <qtpu.compiler.compress.CompressedIR object at 0x7f618494a4d0>, 'tree': <ContractionTree(N=15, branches=3, complete=False)>}, system_attrs={'nsga2:generation': 1}, intermediate_values={}, distributions={'compress': CategoricalDistribution(choices=('qubits', '2q', 'none')), 'choose_leaf': CategoricalDistribution(choices=('qubits',)), 'random_strength': FloatDistribution(high=10.0, log=False, low=0.01, step=None), 'weight_edges': CategoricalDistribution(choices=('const', 'log')), 'imbalance': FloatDistribution(high=1.0, log=False, low=0.01, step=None), 'imbalance_decay': FloatDistribution(high=5.0, log=False, low=-5.0, step=None), 'parts': IntDistribution(high=16, log=False, low=2, step=1), 'parts_decay': FloatDistribution(high=1.0, log=False, low=0.0, step=None), 'mode': CategoricalDistribution(choices=('direct', 'recursive')), 'objective': CategoricalDistribution(choices=('cut', 'km1')), 'fix_output_nodes': CategoricalDistribution(choices=('auto', ''))}, trial_id=67, value=None), FrozenTrial(number=68, state=1, values=[93528.0, 0.9940176658287095], datetime_start=datetime.datetime(2024, 8, 10, 21, 38, 56, 371689), datetime_complete=datetime.datetime(2024, 8, 10, 21, 38, 56, 379094), params={'compress': 'qubits', 'choose_leaf': 'qubits', 'random_strength': 5.224907750961628, 'weight_edges': 'const', 'imbalance': 0.44299935576682653, 'imbalance_decay': -2.4075372439299283, 'parts': 6, 'parts_decay': 0.01723944313107517, 'mode': 'direct', 'objective': 'cut', 'fix_output_nodes': 'auto'}, user_attrs={'ir': <qtpu.compiler.compress.CompressedIR object at 0x7f61849597d0>, 'tree': <ContractionTree(N=15, branches=3, complete=False)>}, system_attrs={'nsga2:generation': 1}, intermediate_values={}, distributions={'compress': CategoricalDistribution(choices=('qubits', '2q', 'none')), 'choose_leaf': CategoricalDistribution(choices=('qubits',)), 'random_strength': FloatDistribution(high=10.0, log=False, low=0.01, step=None), 'weight_edges': CategoricalDistribution(choices=('const', 'log')), 'imbalance': FloatDistribution(high=1.0, log=False, low=0.01, step=None), 'imbalance_decay': FloatDistribution(high=5.0, log=False, low=-5.0, step=None), 'parts': IntDistribution(high=16, log=False, low=2, step=1), 'parts_decay': FloatDistribution(high=1.0, log=False, low=0.0, step=None), 'mode': CategoricalDistribution(choices=('direct', 'recursive')), 'objective': CategoricalDistribution(choices=('cut', 'km1')), 'fix_output_nodes': CategoricalDistribution(choices=('auto', ''))}, trial_id=68, value=None), FrozenTrial(number=76, state=1, values=[606744.0, 0.9985010495451366], datetime_start=datetime.datetime(2024, 8, 10, 21, 38, 56, 990861), datetime_complete=datetime.datetime(2024, 8, 10, 21, 38, 56, 997752), params={'compress': 'qubits', 'choose_leaf': 'qubits', 'random_strength': 0.4597073607541048, 'weight_edges': 'const', 'imbalance': 0.3486206622670806, 'imbalance_decay': 2.649461615743961, 'parts': 16, 'parts_decay': 0.24772159098863045, 'mode': 'direct', 'objective': 'cut', 'fix_output_nodes': ''}, user_attrs={'ir': <qtpu.compiler.compress.CompressedIR object at 0x7f6183fcb8d0>, 'tree': <ContractionTree(N=15)>}, system_attrs={'nsga2:generation': 1}, intermediate_values={}, distributions={'compress': CategoricalDistribution(choices=('qubits', '2q', 'none')), 'choose_leaf': CategoricalDistribution(choices=('qubits',)), 'random_strength': FloatDistribution(high=10.0, log=False, low=0.01, step=None), 'weight_edges': CategoricalDistribution(choices=('const', 'log')), 'imbalance': FloatDistribution(high=1.0, log=False, low=0.01, step=None), 'imbalance_decay': FloatDistribution(high=5.0, log=False, low=-5.0, step=None), 'parts': IntDistribution(high=16, log=False, low=2, step=1), 'parts_decay': FloatDistribution(high=1.0, log=False, low=0.0, step=None), 'mode': CategoricalDistribution(choices=('direct', 'recursive')), 'objective': CategoricalDistribution(choices=('cut', 'km1')), 'fix_output_nodes': CategoricalDistribution(choices=('auto', ''))}, trial_id=76, value=None), FrozenTrial(number=83, state=1, values=[166176.0, 0.9944153723166914], datetime_start=datetime.datetime(2024, 8, 10, 21, 38, 58, 130554), datetime_complete=datetime.datetime(2024, 8, 10, 21, 38, 58, 159060), params={'compress': 'none', 'choose_leaf': 'qubits', 'random_strength': 8.362420554890747, 'weight_edges': 'const', 'imbalance': 0.3447580601780861, 'imbalance_decay': 1.04891078983918, 'parts': 4, 'parts_decay': 0.38069986760534946, 'mode': 'direct', 'objective': 'km1', 'fix_output_nodes': 'auto'}, user_attrs={'ir': <qtpu.compiler.compress.CompressedIR object at 0x7f617cbe5110>, 'tree': <ContractionTree(N=219, branches=3, complete=False)>}, system_attrs={'nsga2:generation': 1}, intermediate_values={}, distributions={'compress': CategoricalDistribution(choices=('qubits', '2q', 'none')), 'choose_leaf': CategoricalDistribution(choices=('qubits',)), 'random_strength': FloatDistribution(high=10.0, log=False, low=0.01, step=None), 'weight_edges': CategoricalDistribution(choices=('const', 'log')), 'imbalance': FloatDistribution(high=1.0, log=False, low=0.01, step=None), 'imbalance_decay': FloatDistribution(high=5.0, log=False, low=-5.0, step=None), 'parts': IntDistribution(high=16, log=False, low=2, step=1), 'parts_decay': FloatDistribution(high=1.0, log=False, low=0.0, step=None), 'mode': CategoricalDistribution(choices=('direct', 'recursive')), 'objective': CategoricalDistribution(choices=('cut', 'km1')), 'fix_output_nodes': CategoricalDistribution(choices=('auto', ''))}, trial_id=83, value=None), FrozenTrial(number=84, state=1, values=[93528.0, 0.9940176658287095], datetime_start=datetime.datetime(2024, 8, 10, 21, 38, 58, 166087), datetime_complete=datetime.datetime(2024, 8, 10, 21, 38, 58, 173292), params={'compress': 'qubits', 'choose_leaf': 'qubits', 'random_strength': 4.604131502389924, 'weight_edges': 'const', 'imbalance': 0.3547512703113221, 'imbalance_decay': 2.673159706355122, 'parts': 12, 'parts_decay': 0.01723944313107517, 'mode': 'recursive', 'objective': 'cut', 'fix_output_nodes': 'auto'}, user_attrs={'ir': <qtpu.compiler.compress.CompressedIR object at 0x7f617c12b510>, 'tree': <ContractionTree(N=15, branches=3, complete=False)>}, system_attrs={'nsga2:generation': 1}, intermediate_values={}, distributions={'compress': CategoricalDistribution(choices=('qubits', '2q', 'none')), 'choose_leaf': CategoricalDistribution(choices=('qubits',)), 'random_strength': FloatDistribution(high=10.0, log=False, low=0.01, step=None), 'weight_edges': CategoricalDistribution(choices=('const', 'log')), 'imbalance': FloatDistribution(high=1.0, log=False, low=0.01, step=None), 'imbalance_decay': FloatDistribution(high=5.0, log=False, low=-5.0, step=None), 'parts': IntDistribution(high=16, log=False, low=2, step=1), 'parts_decay': FloatDistribution(high=1.0, log=False, low=0.0, step=None), 'mode': CategoricalDistribution(choices=('direct', 'recursive')), 'objective': CategoricalDistribution(choices=('cut', 'km1')), 'fix_output_nodes': CategoricalDistribution(choices=('auto', ''))}, trial_id=84, value=None), FrozenTrial(number=92, state=1, values=[186840.0, 0.9955098858248878], datetime_start=datetime.datetime(2024, 8, 10, 21, 38, 59, 371469), datetime_complete=datetime.datetime(2024, 8, 10, 21, 38, 59, 378350), params={'compress': 'qubits', 'choose_leaf': 'qubits', 'random_strength': 9.237480172714596, 'weight_edges': 'const', 'imbalance': 0.47136392371864455, 'imbalance_decay': -0.2410402621086476, 'parts': 6, 'parts_decay': 0.5928171858817215, 'mode': 'recursive', 'objective': 'cut', 'fix_output_nodes': ''}, user_attrs={'ir': <qtpu.compiler.compress.CompressedIR object at 0x7f6174d69c10>, 'tree': <ContractionTree(N=15, branches=5, complete=False)>}, system_attrs={'nsga2:generation': 1}, intermediate_values={}, distributions={'compress': CategoricalDistribution(choices=('qubits', '2q', 'none')), 'choose_leaf': CategoricalDistribution(choices=('qubits',)), 'random_strength': FloatDistribution(high=10.0, log=False, low=0.01, step=None), 'weight_edges': CategoricalDistribution(choices=('const', 'log')), 'imbalance': FloatDistribution(high=1.0, log=False, low=0.01, step=None), 'imbalance_decay': FloatDistribution(high=5.0, log=False, low=-5.0, step=None), 'parts': IntDistribution(high=16, log=False, low=2, step=1), 'parts_decay': FloatDistribution(high=1.0, log=False, low=0.0, step=None), 'mode': CategoricalDistribution(choices=('direct', 'recursive')), 'objective': CategoricalDistribution(choices=('cut', 'km1')), 'fix_output_nodes': CategoricalDistribution(choices=('auto', ''))}, trial_id=92, value=None), FrozenTrial(number=93, state=1, values=[93528.0, 0.9940176658287095], datetime_start=datetime.datetime(2024, 8, 10, 21, 38, 59, 382827), datetime_complete=datetime.datetime(2024, 8, 10, 21, 38, 59, 390343), params={'compress': 'qubits', 'choose_leaf': 'qubits', 'random_strength': 3.911296561246107, 'weight_edges': 'const', 'imbalance': 0.7300011020094354, 'imbalance_decay': 4.981026482690801, 'parts': 10, 'parts_decay': 0.029578448674663527, 'mode': 'direct', 'objective': 'cut', 'fix_output_nodes': 'auto'}, user_attrs={'ir': <qtpu.compiler.compress.CompressedIR object at 0x7f6174d75190>, 'tree': <ContractionTree(N=15, branches=3, complete=False)>}, system_attrs={'nsga2:generation': 1}, intermediate_values={}, distributions={'compress': CategoricalDistribution(choices=('qubits', '2q', 'none')), 'choose_leaf': CategoricalDistribution(choices=('qubits',)), 'random_strength': FloatDistribution(high=10.0, log=False, low=0.01, step=None), 'weight_edges': CategoricalDistribution(choices=('const', 'log')), 'imbalance': FloatDistribution(high=1.0, log=False, low=0.01, step=None), 'imbalance_decay': FloatDistribution(high=5.0, log=False, low=-5.0, step=None), 'parts': IntDistribution(high=16, log=False, low=2, step=1), 'parts_decay': FloatDistribution(high=1.0, log=False, low=0.0, step=None), 'mode': CategoricalDistribution(choices=('direct', 'recursive')), 'objective': CategoricalDistribution(choices=('cut', 'km1')), 'fix_output_nodes': CategoricalDistribution(choices=('auto', ''))}, trial_id=93, value=None)]\n",
      "216\n",
      "5.058797453902825\n",
      "i 210\n",
      "216\n",
      "11.167606571970163\n",
      "i 187\n",
      "216\n",
      "9.715013407167492\n",
      "i 198\n",
      "216\n",
      "4.873558606879795\n",
      "i 209\n",
      "216\n",
      "8.28850759514055\n",
      "i 201\n",
      "216\n",
      "3.5638562554010003\n",
      "i 212\n",
      "216\n",
      "13.842905591544074\n",
      "i 186\n",
      "216\n",
      "13.976815638395138\n",
      "i 188\n",
      "216\n",
      "21.09250296156861\n",
      "i 151\n",
      "216\n",
      "10.943863554497447\n",
      "i 194\n",
      "216\n",
      "12.587032086328954\n",
      "i 185\n",
      "216\n",
      "20.81748040208938\n",
      "i 152\n",
      "216\n",
      "9.88757118773764\n",
      "i 188\n",
      "216\n",
      "5.62899163910156\n",
      "i 207\n",
      "9922\n",
      "Running 9922 circuits...\n",
      "0.0002881686132796806\n",
      "{'qtpu_compile': 16.503567017032765, 'qtpu_preparation': 28.90776848292444, 'qtpu_runtime': 17.157184919924475, 'qtpu_postprocessing': 0.01555906399153173}\n",
      "Found solution using 6 cuts with a sampling overhead of 8227.994997989199.\n",
      "95\n",
      "Running 285 circuits.\n"
     ]
    }
   ],
   "source": [
    "QPU_SIZE = 5\n",
    "CSV = \"runtime_results2.csv\"\n",
    "\n",
    "for bench in benchmarks:\n",
    "    circuit = generate_ansatz(**bench)\n",
    "    qtpu_res = compile_and_run_qtpu(circuit, QPU_SIZE)\n",
    "    print(qtpu_res)\n",
    "    ckt_res = compile_and_run_ckt(circuit, QPU_SIZE)\n",
    "    print(ckt_res)\n",
    "    append_to_csv(CSV, {**bench, **qtpu_res})"
   ]
  },
  {
   "cell_type": "code",
   "execution_count": null,
   "metadata": {},
   "outputs": [],
   "source": []
  }
 ],
 "metadata": {
  "kernelspec": {
   "display_name": ".venv",
   "language": "python",
   "name": "python3"
  },
  "language_info": {
   "codemirror_mode": {
    "name": "ipython",
    "version": 3
   },
   "file_extension": ".py",
   "mimetype": "text/x-python",
   "name": "python",
   "nbconvert_exporter": "python",
   "pygments_lexer": "ipython3",
   "version": "3.11.8"
  }
 },
 "nbformat": 4,
 "nbformat_minor": 2
}
