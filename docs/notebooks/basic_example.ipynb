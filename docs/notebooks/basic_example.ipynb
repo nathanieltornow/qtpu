{
 "cells": [
  {
   "cell_type": "markdown",
   "metadata": {},
   "source": [
    "# Basic Example\n",
    "\n",
    "This notebook demonstrates the basic usage of qTPU for quantum circuit processing."
   ]
  },
  {
   "cell_type": "code",
   "execution_count": null,
   "metadata": {},
   "outputs": [],
   "source": [
    "import numpy as np\n",
    "from qiskit.circuit.library import TwoLocal\n",
    "\n",
    "\n",
    "def simple_circuit(n: int):\n",
    "    circuit = TwoLocal(n, [\"u\"], \"rzz\", entanglement=\"linear\", reps=2).decompose()\n",
    "    circuit = circuit.assign_parameters(\n",
    "        {param: np.random.rand() * np.pi / 2 for param in circuit.parameters}\n",
    "    )\n",
    "    circuit.measure_all()\n",
    "    return circuit\n",
    "\n",
    "circuit = simple_circuit(6)\n",
    "\n",
    "circuit.draw(output=\"mpl\", fold=-1)"
   ]
  },
  {
   "cell_type": "code",
   "execution_count": null,
   "metadata": {},
   "outputs": [],
   "source": [
    "import qtpu\n",
    "\n",
    "# cut the circuit into two halves\n",
    "cut_circ = qtpu.cut(circuit, num_qubits=circuit.num_qubits // 2)\n",
    "\n",
    "cut_circ.draw(output=\"mpl\", fold=-1)"
   ]
  },
  {
   "cell_type": "code",
   "execution_count": null,
   "metadata": {},
   "outputs": [],
   "source": [
    "# convert the circuit into a hybrid tensor network\n",
    "hybrid_tn = qtpu.circuit_to_hybrid_tn(cut_circ)\n",
    "\n",
    "for i, subcirc in enumerate(hybrid_tn.subcircuits):\n",
    "    print(f\"Subcircuit {i}:\")\n",
    "    print(subcirc)\n",
    "    print(\"--------------------\")"
   ]
  },
  {
   "cell_type": "code",
   "execution_count": null,
   "metadata": {},
   "outputs": [],
   "source": [
    "# evaluate the hybrid tensor network to a classical tensor network\n",
    "tn = qtpu.evaluate(hybrid_tn)\n",
    "\n",
    "# contract the classical tensor network\n",
    "qtpu_res = tn.contract(all, optimize=\"auto-hq\", output_inds=[])"
   ]
  },
  {
   "cell_type": "code",
   "execution_count": null,
   "metadata": {},
   "outputs": [],
   "source": [
    "from qiskit.circuit import QuantumCircuit\n",
    "from qiskit_aer.primitives import EstimatorV2\n",
    "\n",
    "\n",
    "def run_comparison(circuit: QuantumCircuit):\n",
    "    circuit = circuit.remove_final_measurements(inplace=False)\n",
    "    return (\n",
    "        EstimatorV2()\n",
    "        .run([(circuit, \"Z\" * circuit.num_qubits)], precision=0.0000)\n",
    "        .result()[0]\n",
    "        .data.evs\n",
    "    )\n",
    "\n",
    "qiskit_res = run_comparison(circuit)"
   ]
  },
  {
   "cell_type": "code",
   "execution_count": null,
   "metadata": {},
   "outputs": [],
   "source": [
    "print(f\"QTPU result: {qtpu_res}\")\n",
    "print(f\"Qiskit result: {qiskit_res}\")\n",
    "print(f\"Error: {round(abs(qtpu_res - qiskit_res), 5)}\")"
   ]
  }
 ],
 "metadata": {
  "kernelspec": {
   "display_name": "Python 3",
   "language": "python3",
   "name": "python3"
  },
  "language_info": {
   "codemirror_mode": {
    "name": "ipython",
    "version": 3
   },
   "file_extension": ".py",
   "mimetype": "text/x-python",
   "name": "python",
   "nbconvert_exporter": "python",
   "pygments_lexer": "ipython3",
   "version": "3.10.0"
  }
 },
 "nbformat": 4,
 "nbformat_minor": 4
}
