{
 "cells": [
  {
   "cell_type": "code",
   "execution_count": 1,
   "metadata": {},
   "outputs": [],
   "source": [
    "from time import perf_counter\n",
    "\n",
    "from qiskit.circuit import QuantumCircuit\n",
    "from qiskit_aer.primitives import Sampler\n",
    "\n",
    "from qtpu.compiler.compiler import compile_reach_size\n",
    "from qtpu.evaluate import evaluate_sampler\n",
    "\n",
    "from benchmark.exec_ckt import ckt_execute_dummy, cut_ckt\n",
    "from benchmark.exec_qtpu import qtpu_execute_dummy\n",
    "from benchmark.ansatz import generate_ansatz, qaoa1, qaoa2\n",
    "from benchmark.util import append_to_csv, DummySampler"
   ]
  },
  {
   "cell_type": "code",
   "execution_count": 2,
   "metadata": {},
   "outputs": [],
   "source": [
    "benchmarks = {\n",
    "    \"qaoa2-2\": qaoa2(2, 10, 2),\n",
    "    \"qaoa2-3\": qaoa2(3, 10, 2),\n",
    "    \"qaoa2-4\": qaoa2(4, 10, 2),\n",
    "    \"qaoa2-5\": qaoa2(5, 10, 2),\n",
    "    \"qaoa2-6\": qaoa2(6, 10, 2),\n",
    "    # \"qml-20\": generate_ansatz(\"zz\", 20, 2),\n",
    "    # \"vqe-20\": generate_ansatz(\"linear\", 20, 2),\n",
    "    # \"qml-30\": generate_ansatz(\"zz\", 30, 2),\n",
    "    # \"vqe-30\": generate_ansatz(\"linear\", 30, 2),\n",
    "}"
   ]
  },
  {
   "cell_type": "code",
   "execution_count": 7,
   "metadata": {},
   "outputs": [
    {
     "data": {
      "application/vnd.jupyter.widget-view+json": {
       "model_id": "345c39547541429487f578095dd6b50f",
       "version_major": 2,
       "version_minor": 0
      },
      "text/plain": [
       "   0%|          | 00:00/00:05"
      ]
     },
     "metadata": {},
     "output_type": "display_data"
    },
    {
     "name": "stdout",
     "output_type": "stream",
     "text": [
      "[16. 42. 16. 16. 42. 42. 16. 16. 42. 16. 42. 42. 42. 42. 16. 16. 42. 16.\n",
      " 42. 42. 16. 16. 16. 16. 42. 16. 16. 16. 16. 16. 42. 42. 42. 16. 42. 16.\n",
      " 42. 16. 16. 42. 42. 16. 42. 42. 42. 16. 42. 42. 42. 16. 42. 42. 16. 16.\n",
      " 42. 42. 42. 42. 16. 16. 16. 42. 16. 42. 42. 42. 42. 16. 16. 16. 16. 16.\n",
      " 42. 42. 42. 16. 42. 16. 42. 42. 42. 42. 42. 16. 42. 42. 16. 42. 42. 16.\n",
      " 16. 42.]\n",
      "True\n",
      "{'qtpu_pre': 0.004023909568786621, 'qtpu_post': 8.108466863632202e-05}\n",
      "{'ckt_pre': 0.02084433101117611, 'ckt_run': 0.0006624329835176468, 'ckt_post': 0.003180224448442459, 'ckt_num_instances': 16}\n"
     ]
    },
    {
     "data": {
      "application/vnd.jupyter.widget-view+json": {
       "model_id": "e927c9fa1ef7413aa91c55604708bd45",
       "version_major": 2,
       "version_minor": 0
      },
      "text/plain": [
       "   0%|          | 00:00/00:05"
      ]
     },
     "metadata": {},
     "output_type": "display_data"
    },
    {
     "name": "stderr",
     "output_type": "stream",
     "text": [
      "/home/di75piq/qtpu/.venv/lib/python3.11/site-packages/cotengra/hyperoptimizers/hyper.py:307: UserWarning: Trial error: Optimization timed out. Set `HyperOptimizer` kwarg `on_trial_error='raise'` to raise this error, or `on_trial_error='ignore'` to silence.\n",
      "  warnings.warn(\n"
     ]
    },
    {
     "name": "stdout",
     "output_type": "stream",
     "text": [
      "[280. 280. 280. 280.]\n",
      "True\n",
      "{'qtpu_pre': 0.008292840793728828, 'qtpu_post': 0.00016182102262973785}\n",
      "{'ckt_pre': 2.2007712554186583, 'ckt_run': 0.016664056107401848, 'ckt_post': 0.13236952759325504, 'ckt_num_instances': 3561}\n"
     ]
    },
    {
     "data": {
      "application/vnd.jupyter.widget-view+json": {
       "model_id": "065340bcc89249fea9c9a808ed0d8ef9",
       "version_major": 2,
       "version_minor": 0
      },
      "text/plain": [
       "   0%|          | 00:00/00:05"
      ]
     },
     "metadata": {},
     "output_type": "display_data"
    },
    {
     "name": "stdout",
     "output_type": "stream",
     "text": [
      "[10449. 10449. 10449. 10449.]\n",
      "True\n",
      "{'qtpu_pre': 0.011752309277653694, 'qtpu_post': 0.00023598037660121918}\n",
      "{'ckt_pre': 165.3979562856257, 'ckt_run': 0.9632057026028633, 'ckt_post': 6.339830605313182, 'ckt_num_instances': 176544}\n"
     ]
    },
    {
     "data": {
      "application/vnd.jupyter.widget-view+json": {
       "model_id": "48e4e83bf59f4e28ad6d03846521b6a5",
       "version_major": 2,
       "version_minor": 0
      },
      "text/plain": [
       "   0%|          | 00:00/00:05"
      ]
     },
     "metadata": {},
     "output_type": "display_data"
    },
    {
     "name": "stdout",
     "output_type": "stream",
     "text": [
      "[4761.]\n",
      "True\n",
      "{'qtpu_pre': 0.016242563724517822, 'qtpu_post': 0.0002692863345146179}\n",
      "{'ckt_pre': 424.71139739081264, 'ckt_run': 2.548837009817362, 'ckt_post': 15.180006744340062, 'ckt_num_instances': 428195}\n"
     ]
    },
    {
     "data": {
      "application/vnd.jupyter.widget-view+json": {
       "model_id": "4b15df2f01424caea342fa046ab03cf4",
       "version_major": 2,
       "version_minor": 0
      },
      "text/plain": [
       "   0%|          | 00:00/00:05"
      ]
     },
     "metadata": {},
     "output_type": "display_data"
    },
    {
     "name": "stdout",
     "output_type": "stream",
     "text": [
      "[2123. 2123.]\n",
      "True\n",
      "{'qtpu_pre': 0.01950378529727459, 'qtpu_post': 0.0003097914159297943}\n",
      "{'ckt_pre': 324.855531828478, 'ckt_run': 1.9751229919493198, 'ckt_post': 12.306463908404112, 'ckt_num_instances': 347046}\n"
     ]
    }
   ],
   "source": [
    "QPU_SIZE = 15\n",
    "\n",
    "CSV = \"runtime321000.csv\"\n",
    "\n",
    "for name, bench in benchmarks.items():\n",
    "    start = perf_counter()\n",
    "    cut_circ = compile_reach_size(bench, QPU_SIZE, show_progress_bar=True)\n",
    "    compile_time = perf_counter() - start\n",
    "\n",
    "    qtpu_res = qtpu_execute_dummy(cut_circ)\n",
    "    print(qtpu_res)\n",
    "    ckt_res = ckt_execute_dummy(cut_circ, 100000)\n",
    "    print(ckt_res)\n",
    "    append_to_csv(CSV, {\"name\": name, **qtpu_res, **ckt_res})"
   ]
  },
  {
   "cell_type": "code",
   "execution_count": null,
   "metadata": {},
   "outputs": [],
   "source": []
  }
 ],
 "metadata": {
  "kernelspec": {
   "display_name": ".venv",
   "language": "python",
   "name": "python3"
  },
  "language_info": {
   "codemirror_mode": {
    "name": "ipython",
    "version": 3
   },
   "file_extension": ".py",
   "mimetype": "text/x-python",
   "name": "python",
   "nbconvert_exporter": "python",
   "pygments_lexer": "ipython3",
   "version": "3.11.9"
  }
 },
 "nbformat": 4,
 "nbformat_minor": 2
}
