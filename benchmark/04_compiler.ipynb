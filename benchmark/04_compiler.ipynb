{
 "cells": [
  {
   "cell_type": "code",
   "execution_count": 1,
   "metadata": {},
   "outputs": [],
   "source": [
    "import os\n",
    "import pandas as pd\n",
    "import optuna\n",
    "import numpy as np\n",
    "from qiskit.circuit import QuantumCircuit\n",
    "\n",
    "import qtpu\n",
    "\n",
    "from benchmark._plot_util import *\n",
    "\n",
    "from benchmark.ansatz import generate_ansatz, qaoa2, qaoa1\n",
    "from benchmark.exec_ckt import cut_ckt\n",
    "from qtpu.compiler.compiler import  compile_reach_size\n",
    "from benchmark.util import get_info, append_to_csv\n",
    "from qtpu.circuit import cuts_to_moves\n",
    "from circuit_knitting.cutting.qpd import TwoQubitQPDGate"
   ]
  },
  {
   "cell_type": "code",
   "execution_count": 2,
   "metadata": {},
   "outputs": [
    {
     "name": "stdout",
     "output_type": "stream",
     "text": [
      "[[20, 21, 22]]\n",
      "[[60, 61, 62], [63, 64, 65], [66, 67, 68], [69, 70, 71], [72, 73, 74]]\n",
      "[[100, 101, 102], [103, 104, 105], [106, 107, 108], [109, 110, 111], [112, 113, 114], [115, 116, 117], [118, 119, 120], [121, 122, 123], [124, 125, 126]]\n",
      "[[140, 141, 142], [143, 144, 145], [146, 147, 148], [149, 150, 151], [152, 153, 154], [155, 156, 157], [158, 159, 160], [161, 162, 163], [164, 165, 166], [167, 168, 169], [170, 171, 172], [173, 174, 175], [176, 177, 178]]\n",
      "[[180, 181, 182], [183, 184, 185], [186, 187, 188], [189, 190, 191], [192, 193, 194], [195, 196, 197], [198, 199, 200], [201, 202, 203], [204, 205, 206], [207, 208, 209], [210, 211, 212], [213, 214, 215], [216, 217, 218], [219, 220, 221], [222, 223, 224], [225, 226, 227], [228, 229, 230]]\n"
     ]
    }
   ],
   "source": [
    "QPU_SIZE = 15\n",
    "\n",
    "\n",
    "benches = {\n",
    "    # \"vqe\": [generate_ansatz(\"linear\", n, 2) for n in range(100, 101, 20)],\n",
    "    \"qml\": [(generate_ansatz(\"zz\", n, 2)) for n in range(20, 201, 40)],\n",
    "    \"vqe\": [(generate_ansatz(\"linear\", n, 2)) for n in range(20, 201, 40)],\n",
    "    \"qaoa1\": [qaoa1(n, 10, 2) for n in range(2, 21, 4)],\n",
    "    \"qaoa2\": [(qaoa2(n, 10, 2)) for n in range(2, 21, 4)],\n",
    "}"
   ]
  },
  {
   "cell_type": "code",
   "execution_count": 3,
   "metadata": {},
   "outputs": [
    {
     "data": {
      "application/vnd.jupyter.widget-view+json": {
       "model_id": "fc8501e756f643819a94f1fc0ea4b4d7",
       "version_major": 2,
       "version_minor": 0
      },
      "text/plain": [
       "  0%|          | 0/100 [00:00<?, ?it/s]"
      ]
     },
     "metadata": {},
     "output_type": "display_data"
    },
    {
     "name": "stdout",
     "output_type": "stream",
     "text": [
      "True\n",
      "52.0\n",
      "Found solution using 6 cuts with a sampling overhead of 531441.0.\n",
      "54.0\n"
     ]
    },
    {
     "data": {
      "application/vnd.jupyter.widget-view+json": {
       "model_id": "9d93199f6c054269a17b787be3a0c303",
       "version_major": 2,
       "version_minor": 0
      },
      "text/plain": [
       "  0%|          | 0/100 [00:00<?, ?it/s]"
      ]
     },
     "metadata": {},
     "output_type": "display_data"
    },
    {
     "name": "stdout",
     "output_type": "stream",
     "text": [
      "Termination condition not met\n",
      "Termination condition not met\n"
     ]
    },
    {
     "name": "stderr",
     "output_type": "stream",
     "text": [
      "/home/di75piq/qtpu/.venv/lib/python3.11/site-packages/cotengra/hyperoptimizers/hyper.py:307: UserWarning: Trial error: Optimization timed out. Set `HyperOptimizer` kwarg `on_trial_error='raise'` to raise this error, or `on_trial_error='ignore'` to silence.\n",
      "  warnings.warn(\n"
     ]
    },
    {
     "name": "stdout",
     "output_type": "stream",
     "text": [
      "Termination condition not met\n",
      "Termination condition not met\n",
      "Termination condition not met\n",
      "Termination condition not met\n",
      "Termination condition not met\n",
      "Termination condition not met\n",
      "Termination condition not met\n",
      "Termination condition not met\n",
      "Termination condition not met\n",
      "Termination condition not met\n",
      "Termination condition not met\n",
      "Termination condition not met\n",
      "Termination condition not met\n",
      "Termination condition not met\n"
     ]
    },
    {
     "name": "stderr",
     "output_type": "stream",
     "text": [
      "/home/di75piq/qtpu/.venv/lib/python3.11/site-packages/cotengra/hyperoptimizers/hyper.py:307: UserWarning: Trial error: Optimization timed out. Set `HyperOptimizer` kwarg `on_trial_error='raise'` to raise this error, or `on_trial_error='ignore'` to silence.\n",
      "  warnings.warn(\n"
     ]
    },
    {
     "name": "stdout",
     "output_type": "stream",
     "text": [
      "Termination condition not met\n"
     ]
    },
    {
     "name": "stderr",
     "output_type": "stream",
     "text": [
      "/home/di75piq/qtpu/.venv/lib/python3.11/site-packages/cotengra/hyperoptimizers/hyper.py:307: UserWarning: Trial error: Optimization timed out. Set `HyperOptimizer` kwarg `on_trial_error='raise'` to raise this error, or `on_trial_error='ignore'` to silence.\n",
      "  warnings.warn(\n"
     ]
    },
    {
     "name": "stdout",
     "output_type": "stream",
     "text": [
      "Termination condition not met\n",
      "Termination condition not met\n",
      "Termination condition not met\n",
      "Termination condition not met\n",
      "True\n",
      "162.0\n",
      "Found solution using 24 cuts with a sampling overhead of 7.976644307687251e+22.\n",
      "216.0\n"
     ]
    },
    {
     "data": {
      "application/vnd.jupyter.widget-view+json": {
       "model_id": "42645939a8664c14bbf904f51e0817bd",
       "version_major": 2,
       "version_minor": 0
      },
      "text/plain": [
       "  0%|          | 0/100 [00:00<?, ?it/s]"
      ]
     },
     "metadata": {},
     "output_type": "display_data"
    },
    {
     "name": "stdout",
     "output_type": "stream",
     "text": [
      "Termination condition not met\n",
      "Termination condition not met\n",
      "Termination condition not met\n",
      "Termination condition not met\n",
      "Termination condition not met\n",
      "Termination condition not met\n",
      "Termination condition not met\n",
      "Termination condition not met\n",
      "Termination condition not met\n",
      "Termination condition not met\n",
      "Termination condition not met\n",
      "Termination condition not met\n",
      "Termination condition not met\n",
      "Termination condition not met\n",
      "Termination condition not met\n",
      "Termination condition not met\n",
      "Termination condition not met\n",
      "Termination condition not met\n",
      "Termination condition not met\n"
     ]
    },
    {
     "name": "stderr",
     "output_type": "stream",
     "text": [
      "/home/di75piq/qtpu/.venv/lib/python3.11/site-packages/cotengra/hyperoptimizers/hyper.py:307: UserWarning: Trial error: Optimization timed out. Set `HyperOptimizer` kwarg `on_trial_error='raise'` to raise this error, or `on_trial_error='ignore'` to silence.\n",
      "  warnings.warn(\n"
     ]
    },
    {
     "name": "stdout",
     "output_type": "stream",
     "text": [
      "True\n",
      "378.0\n",
      "Found solution using 42 cuts with a sampling overhead of 1.197251518256202e+40.\n",
      "378.0\n"
     ]
    },
    {
     "data": {
      "application/vnd.jupyter.widget-view+json": {
       "model_id": "7ec003ca83f24b90acb6220a449219bc",
       "version_major": 2,
       "version_minor": 0
      },
      "text/plain": [
       "  0%|          | 0/100 [00:00<?, ?it/s]"
      ]
     },
     "metadata": {},
     "output_type": "display_data"
    },
    {
     "name": "stdout",
     "output_type": "stream",
     "text": [
      "Termination condition not met\n",
      "Termination condition not met\n",
      "Termination condition not met\n",
      "Termination condition not met\n",
      "Termination condition not met\n",
      "Termination condition not met\n",
      "Termination condition not met\n",
      "Termination condition not met\n",
      "Termination condition not met\n",
      "Termination condition not met\n",
      "Termination condition not met\n",
      "Termination condition not met\n",
      "Termination condition not met\n",
      "Termination condition not met\n",
      "Termination condition not met\n",
      "Termination condition not met\n",
      "Termination condition not met\n",
      "Termination condition not met\n",
      "Termination condition not met\n",
      "Termination condition not met\n",
      "Termination condition not met\n",
      "Termination condition not met\n",
      "Termination condition not met\n",
      "Termination condition not met\n",
      "Termination condition not met\n",
      "Termination condition not met\n",
      "Termination condition not met\n",
      "Termination condition not met\n",
      "Termination condition not met\n",
      "Termination condition not met\n",
      "Termination condition not met\n",
      "Termination condition not met\n",
      "Termination condition not met\n",
      "True\n",
      "1212.0\n",
      "Found solution using 54 cuts with a sampling overhead of 3.3813919135227256e+51.\n",
      "486.0\n"
     ]
    },
    {
     "data": {
      "application/vnd.jupyter.widget-view+json": {
       "model_id": "d9ff6707e15740b2a570e801d3aa046c",
       "version_major": 2,
       "version_minor": 0
      },
      "text/plain": [
       "  0%|          | 0/100 [00:00<?, ?it/s]"
      ]
     },
     "metadata": {},
     "output_type": "display_data"
    },
    {
     "name": "stdout",
     "output_type": "stream",
     "text": [
      "Termination condition not met\n",
      "Termination condition not met\n",
      "Termination condition not met\n",
      "Termination condition not met\n",
      "Termination condition not met\n",
      "Termination condition not met\n",
      "Termination condition not met\n",
      "Termination condition not met\n",
      "Termination condition not met\n",
      "Termination condition not met\n",
      "Termination condition not met\n",
      "Termination condition not met\n",
      "Termination condition not met\n",
      "Termination condition not met\n",
      "Termination condition not met\n",
      "Termination condition not met\n",
      "Termination condition not met\n",
      "Termination condition not met\n",
      "Termination condition not met\n",
      "Termination condition not met\n",
      "Termination condition not met\n",
      "Termination condition not met\n"
     ]
    },
    {
     "name": "stderr",
     "output_type": "stream",
     "text": [
      "/home/di75piq/qtpu/.venv/lib/python3.11/site-packages/cotengra/hyperoptimizers/hyper.py:307: UserWarning: Trial error: Optimization timed out. Set `HyperOptimizer` kwarg `on_trial_error='raise'` to raise this error, or `on_trial_error='ignore'` to silence.\n",
      "  warnings.warn(\n"
     ]
    },
    {
     "name": "stdout",
     "output_type": "stream",
     "text": [
      "True\n",
      "756.0\n",
      "Found solution using 72 cuts with a sampling overhead of 5.075287860564157e+68.\n",
      "648.0\n"
     ]
    },
    {
     "data": {
      "application/vnd.jupyter.widget-view+json": {
       "model_id": "021a5f97047142ca9765abfb4fa61d0d",
       "version_major": 2,
       "version_minor": 0
      },
      "text/plain": [
       "  0%|          | 0/100 [00:00<?, ?it/s]"
      ]
     },
     "metadata": {},
     "output_type": "display_data"
    },
    {
     "name": "stdout",
     "output_type": "stream",
     "text": [
      "True\n",
      "27.0\n",
      "Found solution using 3 cuts with a sampling overhead of 729.0.\n",
      "27.0\n"
     ]
    },
    {
     "data": {
      "application/vnd.jupyter.widget-view+json": {
       "model_id": "e3608c178a6f4f7f93462b09767e8246",
       "version_major": 2,
       "version_minor": 0
      },
      "text/plain": [
       "  0%|          | 0/100 [00:00<?, ?it/s]"
      ]
     },
     "metadata": {},
     "output_type": "display_data"
    },
    {
     "name": "stdout",
     "output_type": "stream",
     "text": [
      "Termination condition not met\n",
      "Termination condition not met\n",
      "Termination condition not met\n",
      "Termination condition not met\n",
      "Termination condition not met\n",
      "Termination condition not met\n",
      "Termination condition not met\n",
      "Termination condition not met\n",
      "Termination condition not met\n",
      "Termination condition not met\n",
      "Termination condition not met\n",
      "Termination condition not met\n",
      "Termination condition not met\n",
      "Termination condition not met\n",
      "Termination condition not met\n",
      "Termination condition not met\n",
      "True\n",
      "81.0\n",
      "Found solution using 9 cuts with a sampling overhead of 387420489.0.\n",
      "81.0\n"
     ]
    },
    {
     "data": {
      "application/vnd.jupyter.widget-view+json": {
       "model_id": "fdb423487ca6469884f1bc87b4c89c1e",
       "version_major": 2,
       "version_minor": 0
      },
      "text/plain": [
       "  0%|          | 0/100 [00:00<?, ?it/s]"
      ]
     },
     "metadata": {},
     "output_type": "display_data"
    },
    {
     "name": "stdout",
     "output_type": "stream",
     "text": [
      "Termination condition not met\n",
      "Termination condition not met\n",
      "Termination condition not met\n",
      "Termination condition not met\n",
      "Termination condition not met\n",
      "Termination condition not met\n",
      "Termination condition not met\n",
      "Termination condition not met\n",
      "Termination condition not met\n",
      "Termination condition not met\n",
      "Termination condition not met\n",
      "Termination condition not met\n",
      "Termination condition not met\n",
      "Termination condition not met\n",
      "Termination condition not met\n",
      "Termination condition not met\n",
      "Termination condition not met\n",
      "True\n",
      "162.0\n",
      "Found solution using 18 cuts with a sampling overhead of 1.5009463529699914e+17.\n",
      "162.0\n"
     ]
    },
    {
     "data": {
      "application/vnd.jupyter.widget-view+json": {
       "model_id": "a06b9a0322d74afc8b861d864c58c3f0",
       "version_major": 2,
       "version_minor": 0
      },
      "text/plain": [
       "  0%|          | 0/100 [00:00<?, ?it/s]"
      ]
     },
     "metadata": {},
     "output_type": "display_data"
    },
    {
     "name": "stdout",
     "output_type": "stream",
     "text": [
      "Termination condition not met\n",
      "Termination condition not met\n",
      "Termination condition not met\n",
      "Termination condition not met\n",
      "Termination condition not met\n",
      "Termination condition not met\n",
      "Termination condition not met\n",
      "Termination condition not met\n",
      "Termination condition not met\n",
      "Termination condition not met\n",
      "Termination condition not met\n",
      "Termination condition not met\n",
      "Termination condition not met\n",
      "Termination condition not met\n",
      "Termination condition not met\n",
      "Termination condition not met\n",
      "Termination condition not met\n",
      "Termination condition not met\n",
      "Termination condition not met\n",
      "Termination condition not met\n",
      "Termination condition not met\n",
      "Termination condition not met\n",
      "Termination condition not met\n",
      "True\n",
      "243.0\n",
      "Found solution using 27 cuts with a sampling overhead of 5.814973700304006e+25.\n",
      "243.0\n"
     ]
    },
    {
     "data": {
      "application/vnd.jupyter.widget-view+json": {
       "model_id": "90e72c02173e4e79bea29385257dd003",
       "version_major": 2,
       "version_minor": 0
      },
      "text/plain": [
       "  0%|          | 0/100 [00:00<?, ?it/s]"
      ]
     },
     "metadata": {},
     "output_type": "display_data"
    },
    {
     "name": "stdout",
     "output_type": "stream",
     "text": [
      "Termination condition not met\n",
      "Termination condition not met\n",
      "Termination condition not met\n",
      "Termination condition not met\n",
      "Termination condition not met\n",
      "Termination condition not met\n",
      "Termination condition not met\n",
      "Termination condition not met\n",
      "Termination condition not met\n",
      "Termination condition not met\n",
      "Termination condition not met\n",
      "Termination condition not met\n",
      "Termination condition not met\n",
      "Termination condition not met\n",
      "True\n",
      "324.0\n",
      "Found solution using 33 cuts with a sampling overhead of 3.090315438263261e+31.\n",
      "297.0\n"
     ]
    },
    {
     "data": {
      "application/vnd.jupyter.widget-view+json": {
       "model_id": "b7183997ffe04b82a18d507c8c792e3a",
       "version_major": 2,
       "version_minor": 0
      },
      "text/plain": [
       "  0%|          | 0/100 [00:00<?, ?it/s]"
      ]
     },
     "metadata": {},
     "output_type": "display_data"
    },
    {
     "name": "stdout",
     "output_type": "stream",
     "text": [
      "True\n",
      "18.69495817772171\n",
      "Found solution using 3 cuts with a sampling overhead of 28.946629959395302.\n",
      "18.69495817772171\n"
     ]
    },
    {
     "data": {
      "application/vnd.jupyter.widget-view+json": {
       "model_id": "e7fb07b712e6442d8311069a062f453a",
       "version_major": 2,
       "version_minor": 0
      },
      "text/plain": [
       "  0%|          | 0/100 [00:00<?, ?it/s]"
      ]
     },
     "metadata": {},
     "output_type": "display_data"
    },
    {
     "name": "stdout",
     "output_type": "stream",
     "text": [
      "Termination condition not met\n",
      "Termination condition not met\n",
      "Termination condition not met\n",
      "Termination condition not met\n",
      "Termination condition not met\n",
      "Termination condition not met\n",
      "Termination condition not met\n",
      "Termination condition not met\n",
      "Termination condition not met\n",
      "Termination condition not met\n",
      "Termination condition not met\n",
      "Termination condition not met\n",
      "Termination condition not met\n",
      "Termination condition not met\n",
      "Termination condition not met\n",
      "Termination condition not met\n",
      "Termination condition not met\n",
      "Termination condition not met\n",
      "Termination condition not met\n",
      "True\n",
      "187.60784378838773\n",
      "Found solution using 47 cuts with a sampling overhead of 2.8173210699471015e+32.\n",
      "264.41744299191663\n"
     ]
    },
    {
     "data": {
      "application/vnd.jupyter.widget-view+json": {
       "model_id": "af49b0b1016c437a9d55d50c2ffd1b9b",
       "version_major": 2,
       "version_minor": 0
      },
      "text/plain": [
       "  0%|          | 0/100 [00:00<?, ?it/s]"
      ]
     },
     "metadata": {},
     "output_type": "display_data"
    },
    {
     "name": "stdout",
     "output_type": "stream",
     "text": [
      "Termination condition not met\n",
      "Termination condition not met\n",
      "Termination condition not met\n",
      "Termination condition not met\n",
      "Termination condition not met\n",
      "Termination condition not met\n",
      "Termination condition not met\n",
      "Termination condition not met\n",
      "Termination condition not met\n",
      "Termination condition not met\n",
      "Termination condition not met\n",
      "Termination condition not met\n",
      "Termination condition not met\n",
      "Termination condition not met\n",
      "Termination condition not met\n",
      "Termination condition not met\n",
      "Termination condition not met\n",
      "Termination condition not met\n",
      "Termination condition not met\n",
      "Termination condition not met\n",
      "Termination condition not met\n",
      "Termination condition not met\n",
      "True\n",
      "272.0564856402962\n",
      "Found solution using 77 cuts with a sampling overhead of 7.223995100655873e+49.\n",
      "407.70770365664595\n"
     ]
    },
    {
     "data": {
      "application/vnd.jupyter.widget-view+json": {
       "model_id": "ad82313826f249518d67f8bb3c5ddba5",
       "version_major": 2,
       "version_minor": 0
      },
      "text/plain": [
       "  0%|          | 0/100 [00:00<?, ?it/s]"
      ]
     },
     "metadata": {},
     "output_type": "display_data"
    },
    {
     "name": "stderr",
     "output_type": "stream",
     "text": [
      "/home/di75piq/qtpu/.venv/lib/python3.11/site-packages/cotengra/hyperoptimizers/hyper.py:307: UserWarning: Trial error: Optimization timed out. Set `HyperOptimizer` kwarg `on_trial_error='raise'` to raise this error, or `on_trial_error='ignore'` to silence.\n",
      "  warnings.warn(\n"
     ]
    },
    {
     "name": "stdout",
     "output_type": "stream",
     "text": [
      "Termination condition not met\n",
      "Termination condition not met\n",
      "Termination condition not met\n",
      "Termination condition not met\n",
      "Termination condition not met\n",
      "Termination condition not met\n",
      "Termination condition not met\n",
      "Termination condition not met\n",
      "Termination condition not met\n",
      "Termination condition not met\n",
      "Termination condition not met\n",
      "Termination condition not met\n",
      "Termination condition not met\n",
      "Termination condition not met\n",
      "Termination condition not met\n",
      "Termination condition not met\n",
      "Termination condition not met\n",
      "Termination condition not met\n",
      "Termination condition not met\n",
      "Termination condition not met\n",
      "Termination condition not met\n",
      "True\n",
      "488.26056536332186\n",
      "Found solution using 116 cuts with a sampling overhead of 2.16157498672704e+83.\n",
      "693.9778890678085\n"
     ]
    },
    {
     "data": {
      "application/vnd.jupyter.widget-view+json": {
       "model_id": "e88a198ebecc41b28434e564398a8e90",
       "version_major": 2,
       "version_minor": 0
      },
      "text/plain": [
       "  0%|          | 0/100 [00:00<?, ?it/s]"
      ]
     },
     "metadata": {},
     "output_type": "display_data"
    },
    {
     "name": "stdout",
     "output_type": "stream",
     "text": [
      "Termination condition not met\n",
      "Termination condition not met\n",
      "Termination condition not met\n",
      "Termination condition not met\n",
      "Termination condition not met\n",
      "Termination condition not met\n",
      "Termination condition not met\n",
      "Termination condition not met\n",
      "Termination condition not met\n",
      "Termination condition not met\n",
      "Termination condition not met\n",
      "Termination condition not met\n",
      "Termination condition not met\n",
      "Termination condition not met\n",
      "Termination condition not met\n",
      "Termination condition not met\n",
      "Termination condition not met\n",
      "Termination condition not met\n",
      "Termination condition not met\n",
      "Termination condition not met\n",
      "Termination condition not met\n",
      "Termination condition not met\n",
      "Termination condition not met\n",
      "True\n",
      "582.2626234015769\n",
      "Found solution using 131 cuts with a sampling overhead of 6.923540987733894e+91.\n",
      "759.3012490919025\n"
     ]
    },
    {
     "data": {
      "application/vnd.jupyter.widget-view+json": {
       "model_id": "2f5e5191eebd454a8a26ec33cff81a01",
       "version_major": 2,
       "version_minor": 0
      },
      "text/plain": [
       "  0%|          | 0/100 [00:00<?, ?it/s]"
      ]
     },
     "metadata": {},
     "output_type": "display_data"
    },
    {
     "name": "stdout",
     "output_type": "stream",
     "text": [
      "True\n",
      "16.270959536511473\n",
      "Found solution using 3 cuts with a sampling overhead of 152.18190886549783.\n",
      "16.270959536511473\n"
     ]
    },
    {
     "data": {
      "application/vnd.jupyter.widget-view+json": {
       "model_id": "6909a51fe66d4560b334e116a7a98daa",
       "version_major": 2,
       "version_minor": 0
      },
      "text/plain": [
       "  0%|          | 0/100 [00:00<?, ?it/s]"
      ]
     },
     "metadata": {},
     "output_type": "display_data"
    },
    {
     "name": "stdout",
     "output_type": "stream",
     "text": [
      "Termination condition not met\n",
      "True\n",
      "84.26271646772867\n",
      "Found solution using 42 cuts with a sampling overhead of 9.668155835295273e+26.\n",
      "216.28735832548244\n"
     ]
    },
    {
     "data": {
      "application/vnd.jupyter.widget-view+json": {
       "model_id": "4dadd341fb5f41978cb32001b8d98b1a",
       "version_major": 2,
       "version_minor": 0
      },
      "text/plain": [
       "  0%|          | 0/100 [00:00<?, ?it/s]"
      ]
     },
     "metadata": {},
     "output_type": "display_data"
    },
    {
     "name": "stdout",
     "output_type": "stream",
     "text": [
      "Termination condition not met\n",
      "Termination condition not met\n",
      "Termination condition not met\n",
      "Termination condition not met\n",
      "Termination condition not met\n",
      "Termination condition not met\n",
      "Termination condition not met\n",
      "Termination condition not met\n",
      "Termination condition not met\n",
      "Termination condition not met\n",
      "Termination condition not met\n",
      "Termination condition not met\n",
      "Termination condition not met\n",
      "Termination condition not met\n",
      "True\n",
      "297.2608514809549\n",
      "Found solution using 64 cuts with a sampling overhead of 1.875999584714943e+42.\n",
      "349.64031250890235\n"
     ]
    },
    {
     "data": {
      "application/vnd.jupyter.widget-view+json": {
       "model_id": "247e66a25cda4e2ea3318eb8faa2281b",
       "version_major": 2,
       "version_minor": 0
      },
      "text/plain": [
       "  0%|          | 0/100 [00:00<?, ?it/s]"
      ]
     },
     "metadata": {},
     "output_type": "display_data"
    },
    {
     "name": "stdout",
     "output_type": "stream",
     "text": [
      "Termination condition not met\n",
      "Termination condition not met\n",
      "Termination condition not met\n",
      "Termination condition not met\n",
      "Termination condition not met\n",
      "Termination condition not met\n",
      "Termination condition not met\n",
      "Termination condition not met\n",
      "Termination condition not met\n",
      "Termination condition not met\n",
      "Termination condition not met\n",
      "Termination condition not met\n",
      "Termination condition not met\n",
      "Termination condition not met\n",
      "Termination condition not met\n",
      "Termination condition not met\n",
      "[W 2024-09-25 17:31:52,799] Trial 57 failed with parameters: {'compress': 'none', 'choose_leaf': 'nodes', 'random_strength': 8.58302122197351, 'weight_edges': 'const', 'imbalance': 0.2328491098631193, 'imbalance_decay': -2.053634059333999, 'parts': 16, 'parts_decay': 0.63868182457678, 'mode': 'direct', 'objective': 'cut', 'fix_output_nodes': ''} because of the following error: KeyboardInterrupt().\n",
      "Traceback (most recent call last):\n",
      "  File \"/home/di75piq/qtpu/.venv/lib/python3.11/site-packages/optuna/study/_optimize.py\", line 196, in _run_trial\n",
      "    value_or_values = func(trial)\n",
      "                      ^^^^^^^^^^^\n",
      "  File \"/home/di75piq/qtpu/qtpu/compiler/compiler.py\", line 125, in <lambda>\n",
      "    lambda trial: objective(\n",
      "                  ^^^^^^^^^^\n",
      "  File \"/home/di75piq/qtpu/qtpu/compiler/compiler.py\", line 171, in objective\n",
      "    ir, tree = optimize(\n",
      "               ^^^^^^^^^\n",
      "  File \"/home/di75piq/qtpu/qtpu/compiler/optimizer.py\", line 166, in optimize\n",
      "    tree.contract_nodes(new_subgs, optimize=super_optimize, check=None)\n",
      "  File \"/home/di75piq/qtpu/.venv/lib/python3.11/site-packages/cotengra/core.py\", line 1326, in contract_nodes\n",
      "    path = find_path(\n",
      "           ^^^^^^^^^^\n",
      "  File \"/home/di75piq/qtpu/.venv/lib/python3.11/site-packages/cotengra/interface.py\", line 192, in find_path\n",
      "    return fn(inputs, output, size_dict, optimize, **kwargs)\n",
      "           ^^^^^^^^^^^^^^^^^^^^^^^^^^^^^^^^^^^^^^^^^^^^^^^^^\n",
      "  File \"/home/di75piq/qtpu/.venv/lib/python3.11/site-packages/cotengra/interface.py\", line 148, in _find_path_preset\n",
      "    return _find_path_optimizer(inputs, output, size_dict, optimize, **kwargs)\n",
      "           ^^^^^^^^^^^^^^^^^^^^^^^^^^^^^^^^^^^^^^^^^^^^^^^^^^^^^^^^^^^^^^^^^^^\n",
      "  File \"/home/di75piq/qtpu/.venv/lib/python3.11/site-packages/cotengra/interface.py\", line 143, in _find_path_optimizer\n",
      "    return optimize(inputs, output, size_dict, **kwargs)\n",
      "           ^^^^^^^^^^^^^^^^^^^^^^^^^^^^^^^^^^^^^^^^^^^^^\n",
      "  File \"/home/di75piq/qtpu/.venv/lib/python3.11/site-packages/cotengra/presets.py\", line 110, in __call__\n",
      "    return self._optimize_optimal_fn(\n",
      "           ^^^^^^^^^^^^^^^^^^^^^^^^^^\n",
      "  File \"/home/di75piq/qtpu/.venv/lib/python3.11/site-packages/cotengra/pathfinders/path_basic.py\", line 1136, in optimize_optimal\n",
      "    cp.optimize_optimal(\n",
      "  File \"/home/di75piq/qtpu/.venv/lib/python3.11/site-packages/cotengra/pathfinders/path_basic.py\", line 729, in optimize_optimal\n",
      "    self.optimize_optimal_connected(\n",
      "  File \"/home/di75piq/qtpu/.venv/lib/python3.11/site-packages/cotengra/pathfinders/path_basic.py\", line 688, in optimize_optimal_connected\n",
      "    new_score = compute_con_cost(\n",
      "                ^^^^^^^^^^^^^^^^^\n",
      "  File \"/home/di75piq/qtpu/.venv/lib/python3.11/site-packages/cotengra/pathfinders/path_basic.py\", line 206, in compute_con_cost_combo\n",
      "    size *= d\n",
      "    ^^^^\n",
      "KeyboardInterrupt\n",
      "[W 2024-09-25 17:31:52,808] Trial 57 failed with value None.\n"
     ]
    },
    {
     "ename": "KeyboardInterrupt",
     "evalue": "",
     "output_type": "error",
     "traceback": [
      "\u001b[0;31m---------------------------------------------------------------------------\u001b[0m",
      "\u001b[0;31mKeyboardInterrupt\u001b[0m                         Traceback (most recent call last)",
      "Cell \u001b[0;32mIn[3], line 21\u001b[0m\n\u001b[1;32m     19\u001b[0m \u001b[38;5;28;01mfor\u001b[39;00m name, bench_list \u001b[38;5;129;01min\u001b[39;00m benches\u001b[38;5;241m.\u001b[39mitems():\n\u001b[1;32m     20\u001b[0m     \u001b[38;5;28;01mfor\u001b[39;00m bench \u001b[38;5;129;01min\u001b[39;00m bench_list:\n\u001b[0;32m---> 21\u001b[0m         cut_circ \u001b[38;5;241m=\u001b[39m \u001b[43mcompile_reach_size\u001b[49m\u001b[43m(\u001b[49m\u001b[43mbench\u001b[49m\u001b[43m,\u001b[49m\u001b[43m \u001b[49m\u001b[43mQPU_SIZE\u001b[49m\u001b[43m,\u001b[49m\u001b[43m \u001b[49m\u001b[43mshow_progress_bar\u001b[49m\u001b[38;5;241;43m=\u001b[39;49m\u001b[38;5;28;43;01mTrue\u001b[39;49;00m\u001b[43m)\u001b[49m\n\u001b[1;32m     22\u001b[0m         qtpu_res \u001b[38;5;241m=\u001b[39m {\u001b[38;5;124m\"\u001b[39m\u001b[38;5;124mqtpu_overhead\u001b[39m\u001b[38;5;124m\"\u001b[39m: overhead(cut_circ)}\n\u001b[1;32m     23\u001b[0m         \u001b[38;5;28mprint\u001b[39m(overhead(cut_circ))\n",
      "File \u001b[0;32m~/qtpu/qtpu/compiler/compiler.py:83\u001b[0m, in \u001b[0;36mcompile_reach_size\u001b[0;34m(circuit, size, max_cost, compression_methods, pareto_fn, n_trials, show_progress_bar)\u001b[0m\n\u001b[1;32m     80\u001b[0m \u001b[38;5;28;01mif\u001b[39;00m pareto_fn \u001b[38;5;129;01mis\u001b[39;00m \u001b[38;5;28;01mNone\u001b[39;00m:\n\u001b[1;32m     81\u001b[0m     pareto_fn \u001b[38;5;241m=\u001b[39m find_least_cost_trial\n\u001b[0;32m---> 83\u001b[0m \u001b[38;5;28;01mreturn\u001b[39;00m \u001b[43mcompile_circuit\u001b[49m\u001b[43m(\u001b[49m\n\u001b[1;32m     84\u001b[0m \u001b[43m    \u001b[49m\u001b[43mcircuit\u001b[49m\u001b[38;5;241;43m=\u001b[39;49m\u001b[43mcircuit\u001b[49m\u001b[43m,\u001b[49m\n\u001b[1;32m     85\u001b[0m \u001b[43m    \u001b[49m\u001b[43merror_fn\u001b[49m\u001b[38;5;241;43m=\u001b[39;49m\u001b[38;5;28;43;01mlambda\u001b[39;49;00m\u001b[43m \u001b[49m\u001b[43mcirc\u001b[49m\u001b[43m:\u001b[49m\u001b[43m \u001b[49m\u001b[38;5;241;43m0.0\u001b[39;49m\u001b[43m \u001b[49m\u001b[38;5;28;43;01mif\u001b[39;49;00m\u001b[43m \u001b[49m\u001b[43mcirc\u001b[49m\u001b[38;5;241;43m.\u001b[39;49m\u001b[43mnum_qubits\u001b[49m\u001b[43m \u001b[49m\u001b[38;5;241;43m<\u001b[39;49m\u001b[38;5;241;43m=\u001b[39;49m\u001b[43m \u001b[49m\u001b[43msize\u001b[49m\u001b[43m \u001b[49m\u001b[38;5;28;43;01melse\u001b[39;49;00m\u001b[43m \u001b[49m\u001b[38;5;241;43m1.0\u001b[39;49m\u001b[43m,\u001b[49m\n\u001b[1;32m     86\u001b[0m \u001b[43m    \u001b[49m\u001b[38;5;66;43;03m# success_fn=success_reach_qubits(size),\u001b[39;49;00m\n\u001b[1;32m     87\u001b[0m \u001b[43m    \u001b[49m\u001b[43mterminate_fn\u001b[49m\u001b[38;5;241;43m=\u001b[39;49m\u001b[43mreach_num_qubits\u001b[49m\u001b[43m(\u001b[49m\u001b[43msize\u001b[49m\u001b[43m)\u001b[49m\u001b[43m,\u001b[49m\n\u001b[1;32m     88\u001b[0m \u001b[43m    \u001b[49m\u001b[43mmax_cost\u001b[49m\u001b[38;5;241;43m=\u001b[39;49m\u001b[43mmax_cost\u001b[49m\u001b[43m,\u001b[49m\n\u001b[1;32m     89\u001b[0m \u001b[43m    \u001b[49m\u001b[43mchoose_leaf_methods\u001b[49m\u001b[38;5;241;43m=\u001b[39;49m\u001b[43m[\u001b[49m\u001b[38;5;124;43m\"\u001b[39;49m\u001b[38;5;124;43mqubits\u001b[39;49m\u001b[38;5;124;43m\"\u001b[39;49m\u001b[43m,\u001b[49m\u001b[43m \u001b[49m\u001b[38;5;124;43m\"\u001b[39;49m\u001b[38;5;124;43mnodes\u001b[39;49m\u001b[38;5;124;43m\"\u001b[39;49m\u001b[43m]\u001b[49m\u001b[43m,\u001b[49m\n\u001b[1;32m     90\u001b[0m \u001b[43m    \u001b[49m\u001b[43mcompression_methods\u001b[49m\u001b[38;5;241;43m=\u001b[39;49m\u001b[43mcompression_methods\u001b[49m\u001b[43m,\u001b[49m\n\u001b[1;32m     91\u001b[0m \u001b[43m    \u001b[49m\u001b[43mpareto_fn\u001b[49m\u001b[38;5;241;43m=\u001b[39;49m\u001b[43mpareto_fn\u001b[49m\u001b[43m,\u001b[49m\n\u001b[1;32m     92\u001b[0m \u001b[43m    \u001b[49m\u001b[43mn_trials\u001b[49m\u001b[38;5;241;43m=\u001b[39;49m\u001b[43mn_trials\u001b[49m\u001b[43m,\u001b[49m\n\u001b[1;32m     93\u001b[0m \u001b[43m    \u001b[49m\u001b[43mshow_progress_bar\u001b[49m\u001b[38;5;241;43m=\u001b[39;49m\u001b[43mshow_progress_bar\u001b[49m\u001b[43m,\u001b[49m\n\u001b[1;32m     94\u001b[0m \u001b[43m    \u001b[49m\u001b[43mtimeout\u001b[49m\u001b[38;5;241;43m=\u001b[39;49m\u001b[38;5;241;43m100\u001b[39;49m\n\u001b[1;32m     95\u001b[0m \u001b[43m\u001b[49m\u001b[43m)\u001b[49m\n",
      "File \u001b[0;32m~/qtpu/qtpu/compiler/compiler.py:37\u001b[0m, in \u001b[0;36mcompile_circuit\u001b[0;34m(circuit, error_fn, terminate_fn, max_cost, choose_leaf_methods, compression_methods, pareto_fn, n_trials, timeout, show_progress_bar)\u001b[0m\n\u001b[1;32m     23\u001b[0m \u001b[38;5;28;01mdef\u001b[39;00m \u001b[38;5;21mcompile_circuit\u001b[39m(\n\u001b[1;32m     24\u001b[0m     circuit: QuantumCircuit,\n\u001b[1;32m     25\u001b[0m     error_fn: Callable[[QuantumCircuit], \u001b[38;5;28mfloat\u001b[39m] \u001b[38;5;241m|\u001b[39m \u001b[38;5;28;01mNone\u001b[39;00m \u001b[38;5;241m=\u001b[39m \u001b[38;5;28;01mNone\u001b[39;00m,\n\u001b[0;32m   (...)\u001b[0m\n\u001b[1;32m     34\u001b[0m     show_progress_bar: \u001b[38;5;28mbool\u001b[39m \u001b[38;5;241m=\u001b[39m \u001b[38;5;28;01mFalse\u001b[39;00m,\n\u001b[1;32m     35\u001b[0m ) \u001b[38;5;241m-\u001b[39m\u001b[38;5;241m>\u001b[39m QuantumCircuit:\n\u001b[0;32m---> 37\u001b[0m     study \u001b[38;5;241m=\u001b[39m \u001b[43mhyper_optimize\u001b[49m\u001b[43m(\u001b[49m\n\u001b[1;32m     38\u001b[0m \u001b[43m        \u001b[49m\u001b[43mcircuit\u001b[49m\u001b[43m,\u001b[49m\n\u001b[1;32m     39\u001b[0m \u001b[43m        \u001b[49m\u001b[43merror_fn\u001b[49m\u001b[38;5;241;43m=\u001b[39;49m\u001b[43merror_fn\u001b[49m\u001b[43m,\u001b[49m\n\u001b[1;32m     40\u001b[0m \u001b[43m        \u001b[49m\u001b[43mterminate_fn\u001b[49m\u001b[38;5;241;43m=\u001b[39;49m\u001b[43mterminate_fn\u001b[49m\u001b[43m,\u001b[49m\n\u001b[1;32m     41\u001b[0m \u001b[43m        \u001b[49m\u001b[43mmax_cost\u001b[49m\u001b[38;5;241;43m=\u001b[39;49m\u001b[43mmax_cost\u001b[49m\u001b[43m,\u001b[49m\n\u001b[1;32m     42\u001b[0m \u001b[43m        \u001b[49m\u001b[43mchoose_leaf_methods\u001b[49m\u001b[38;5;241;43m=\u001b[39;49m\u001b[43mchoose_leaf_methods\u001b[49m\u001b[43m,\u001b[49m\n\u001b[1;32m     43\u001b[0m \u001b[43m        \u001b[49m\u001b[43mcompression_methods\u001b[49m\u001b[38;5;241;43m=\u001b[39;49m\u001b[43mcompression_methods\u001b[49m\u001b[43m,\u001b[49m\n\u001b[1;32m     44\u001b[0m \u001b[43m        \u001b[49m\u001b[43mn_trials\u001b[49m\u001b[38;5;241;43m=\u001b[39;49m\u001b[43mn_trials\u001b[49m\u001b[43m,\u001b[49m\n\u001b[1;32m     45\u001b[0m \u001b[43m        \u001b[49m\u001b[43mtimeout\u001b[49m\u001b[38;5;241;43m=\u001b[39;49m\u001b[43mtimeout\u001b[49m\u001b[43m,\u001b[49m\n\u001b[1;32m     46\u001b[0m \u001b[43m        \u001b[49m\u001b[43mshow_progress_bar\u001b[49m\u001b[38;5;241;43m=\u001b[39;49m\u001b[43mshow_progress_bar\u001b[49m\u001b[43m,\u001b[49m\n\u001b[1;32m     47\u001b[0m \u001b[43m    \u001b[49m\u001b[43m)\u001b[49m\n\u001b[1;32m     49\u001b[0m     \u001b[38;5;66;03m# best_trial = max(study.best_trials, key=lambda trial: pareto_fn(*trial.values))\u001b[39;00m\n\u001b[1;32m     50\u001b[0m     \u001b[38;5;28;01mif\u001b[39;00m pareto_fn \u001b[38;5;129;01mis\u001b[39;00m \u001b[38;5;28;01mNone\u001b[39;00m:\n",
      "File \u001b[0;32m~/qtpu/qtpu/compiler/compiler.py:124\u001b[0m, in \u001b[0;36mhyper_optimize\u001b[0;34m(circuit, error_fn, terminate_fn, max_cost, choose_leaf_methods, compression_methods, n_trials, timeout, show_progress_bar)\u001b[0m\n\u001b[1;32m    121\u001b[0m ir \u001b[38;5;241m=\u001b[39m HybridCircuitIR(remove_barriers(circuit))\n\u001b[1;32m    123\u001b[0m study \u001b[38;5;241m=\u001b[39m optuna\u001b[38;5;241m.\u001b[39mcreate_study(directions\u001b[38;5;241m=\u001b[39m[\u001b[38;5;124m\"\u001b[39m\u001b[38;5;124mminimize\u001b[39m\u001b[38;5;124m\"\u001b[39m, \u001b[38;5;124m\"\u001b[39m\u001b[38;5;124mminimize\u001b[39m\u001b[38;5;124m\"\u001b[39m])\n\u001b[0;32m--> 124\u001b[0m \u001b[43mstudy\u001b[49m\u001b[38;5;241;43m.\u001b[39;49m\u001b[43moptimize\u001b[49m\u001b[43m(\u001b[49m\n\u001b[1;32m    125\u001b[0m \u001b[43m    \u001b[49m\u001b[38;5;28;43;01mlambda\u001b[39;49;00m\u001b[43m \u001b[49m\u001b[43mtrial\u001b[49m\u001b[43m:\u001b[49m\u001b[43m \u001b[49m\u001b[43mobjective\u001b[49m\u001b[43m(\u001b[49m\n\u001b[1;32m    126\u001b[0m \u001b[43m        \u001b[49m\u001b[43mtrial\u001b[49m\u001b[43m,\u001b[49m\n\u001b[1;32m    127\u001b[0m \u001b[43m        \u001b[49m\u001b[43mir\u001b[49m\u001b[38;5;241;43m=\u001b[39;49m\u001b[43mir\u001b[49m\u001b[43m,\u001b[49m\n\u001b[1;32m    128\u001b[0m \u001b[43m        \u001b[49m\u001b[43merror_fn\u001b[49m\u001b[38;5;241;43m=\u001b[39;49m\u001b[43merror_fn\u001b[49m\u001b[43m,\u001b[49m\n\u001b[1;32m    129\u001b[0m \u001b[43m        \u001b[49m\u001b[43mterminate_fn\u001b[49m\u001b[38;5;241;43m=\u001b[39;49m\u001b[43mterminate_fn\u001b[49m\u001b[43m,\u001b[49m\n\u001b[1;32m    130\u001b[0m \u001b[43m        \u001b[49m\u001b[43mmax_cost\u001b[49m\u001b[38;5;241;43m=\u001b[39;49m\u001b[43mmax_cost\u001b[49m\u001b[43m,\u001b[49m\n\u001b[1;32m    131\u001b[0m \u001b[43m        \u001b[49m\u001b[43mchoose_leaf_methods\u001b[49m\u001b[38;5;241;43m=\u001b[39;49m\u001b[43mchoose_leaf_methods\u001b[49m\u001b[43m,\u001b[49m\n\u001b[1;32m    132\u001b[0m \u001b[43m        \u001b[49m\u001b[43mcompression_methods\u001b[49m\u001b[38;5;241;43m=\u001b[39;49m\u001b[43mcompression_methods\u001b[49m\u001b[43m,\u001b[49m\n\u001b[1;32m    133\u001b[0m \u001b[43m    \u001b[49m\u001b[43m)\u001b[49m\u001b[43m,\u001b[49m\n\u001b[1;32m    134\u001b[0m \u001b[43m    \u001b[49m\u001b[43mn_trials\u001b[49m\u001b[38;5;241;43m=\u001b[39;49m\u001b[43mn_trials\u001b[49m\u001b[43m,\u001b[49m\n\u001b[1;32m    135\u001b[0m \u001b[43m    \u001b[49m\u001b[43mshow_progress_bar\u001b[49m\u001b[38;5;241;43m=\u001b[39;49m\u001b[43mshow_progress_bar\u001b[49m\u001b[43m,\u001b[49m\n\u001b[1;32m    136\u001b[0m \u001b[43m    \u001b[49m\u001b[43mtimeout\u001b[49m\u001b[38;5;241;43m=\u001b[39;49m\u001b[43mtimeout\u001b[49m\u001b[43m,\u001b[49m\n\u001b[1;32m    137\u001b[0m \u001b[43m\u001b[49m\u001b[43m)\u001b[49m\n\u001b[1;32m    138\u001b[0m \u001b[38;5;28;01mreturn\u001b[39;00m study\n",
      "File \u001b[0;32m~/qtpu/.venv/lib/python3.11/site-packages/optuna/study/study.py:451\u001b[0m, in \u001b[0;36mStudy.optimize\u001b[0;34m(self, func, n_trials, timeout, n_jobs, catch, callbacks, gc_after_trial, show_progress_bar)\u001b[0m\n\u001b[1;32m    348\u001b[0m \u001b[38;5;28;01mdef\u001b[39;00m \u001b[38;5;21moptimize\u001b[39m(\n\u001b[1;32m    349\u001b[0m     \u001b[38;5;28mself\u001b[39m,\n\u001b[1;32m    350\u001b[0m     func: ObjectiveFuncType,\n\u001b[0;32m   (...)\u001b[0m\n\u001b[1;32m    357\u001b[0m     show_progress_bar: \u001b[38;5;28mbool\u001b[39m \u001b[38;5;241m=\u001b[39m \u001b[38;5;28;01mFalse\u001b[39;00m,\n\u001b[1;32m    358\u001b[0m ) \u001b[38;5;241m-\u001b[39m\u001b[38;5;241m>\u001b[39m \u001b[38;5;28;01mNone\u001b[39;00m:\n\u001b[1;32m    359\u001b[0m \u001b[38;5;250m    \u001b[39m\u001b[38;5;124;03m\"\"\"Optimize an objective function.\u001b[39;00m\n\u001b[1;32m    360\u001b[0m \n\u001b[1;32m    361\u001b[0m \u001b[38;5;124;03m    Optimization is done by choosing a suitable set of hyperparameter values from a given\u001b[39;00m\n\u001b[0;32m   (...)\u001b[0m\n\u001b[1;32m    449\u001b[0m \u001b[38;5;124;03m            If nested invocation of this method occurs.\u001b[39;00m\n\u001b[1;32m    450\u001b[0m \u001b[38;5;124;03m    \"\"\"\u001b[39;00m\n\u001b[0;32m--> 451\u001b[0m     \u001b[43m_optimize\u001b[49m\u001b[43m(\u001b[49m\n\u001b[1;32m    452\u001b[0m \u001b[43m        \u001b[49m\u001b[43mstudy\u001b[49m\u001b[38;5;241;43m=\u001b[39;49m\u001b[38;5;28;43mself\u001b[39;49m\u001b[43m,\u001b[49m\n\u001b[1;32m    453\u001b[0m \u001b[43m        \u001b[49m\u001b[43mfunc\u001b[49m\u001b[38;5;241;43m=\u001b[39;49m\u001b[43mfunc\u001b[49m\u001b[43m,\u001b[49m\n\u001b[1;32m    454\u001b[0m \u001b[43m        \u001b[49m\u001b[43mn_trials\u001b[49m\u001b[38;5;241;43m=\u001b[39;49m\u001b[43mn_trials\u001b[49m\u001b[43m,\u001b[49m\n\u001b[1;32m    455\u001b[0m \u001b[43m        \u001b[49m\u001b[43mtimeout\u001b[49m\u001b[38;5;241;43m=\u001b[39;49m\u001b[43mtimeout\u001b[49m\u001b[43m,\u001b[49m\n\u001b[1;32m    456\u001b[0m \u001b[43m        \u001b[49m\u001b[43mn_jobs\u001b[49m\u001b[38;5;241;43m=\u001b[39;49m\u001b[43mn_jobs\u001b[49m\u001b[43m,\u001b[49m\n\u001b[1;32m    457\u001b[0m \u001b[43m        \u001b[49m\u001b[43mcatch\u001b[49m\u001b[38;5;241;43m=\u001b[39;49m\u001b[38;5;28;43mtuple\u001b[39;49m\u001b[43m(\u001b[49m\u001b[43mcatch\u001b[49m\u001b[43m)\u001b[49m\u001b[43m \u001b[49m\u001b[38;5;28;43;01mif\u001b[39;49;00m\u001b[43m \u001b[49m\u001b[38;5;28;43misinstance\u001b[39;49m\u001b[43m(\u001b[49m\u001b[43mcatch\u001b[49m\u001b[43m,\u001b[49m\u001b[43m \u001b[49m\u001b[43mIterable\u001b[49m\u001b[43m)\u001b[49m\u001b[43m \u001b[49m\u001b[38;5;28;43;01melse\u001b[39;49;00m\u001b[43m \u001b[49m\u001b[43m(\u001b[49m\u001b[43mcatch\u001b[49m\u001b[43m,\u001b[49m\u001b[43m)\u001b[49m\u001b[43m,\u001b[49m\n\u001b[1;32m    458\u001b[0m \u001b[43m        \u001b[49m\u001b[43mcallbacks\u001b[49m\u001b[38;5;241;43m=\u001b[39;49m\u001b[43mcallbacks\u001b[49m\u001b[43m,\u001b[49m\n\u001b[1;32m    459\u001b[0m \u001b[43m        \u001b[49m\u001b[43mgc_after_trial\u001b[49m\u001b[38;5;241;43m=\u001b[39;49m\u001b[43mgc_after_trial\u001b[49m\u001b[43m,\u001b[49m\n\u001b[1;32m    460\u001b[0m \u001b[43m        \u001b[49m\u001b[43mshow_progress_bar\u001b[49m\u001b[38;5;241;43m=\u001b[39;49m\u001b[43mshow_progress_bar\u001b[49m\u001b[43m,\u001b[49m\n\u001b[1;32m    461\u001b[0m \u001b[43m    \u001b[49m\u001b[43m)\u001b[49m\n",
      "File \u001b[0;32m~/qtpu/.venv/lib/python3.11/site-packages/optuna/study/_optimize.py:62\u001b[0m, in \u001b[0;36m_optimize\u001b[0;34m(study, func, n_trials, timeout, n_jobs, catch, callbacks, gc_after_trial, show_progress_bar)\u001b[0m\n\u001b[1;32m     60\u001b[0m \u001b[38;5;28;01mtry\u001b[39;00m:\n\u001b[1;32m     61\u001b[0m     \u001b[38;5;28;01mif\u001b[39;00m n_jobs \u001b[38;5;241m==\u001b[39m \u001b[38;5;241m1\u001b[39m:\n\u001b[0;32m---> 62\u001b[0m         \u001b[43m_optimize_sequential\u001b[49m\u001b[43m(\u001b[49m\n\u001b[1;32m     63\u001b[0m \u001b[43m            \u001b[49m\u001b[43mstudy\u001b[49m\u001b[43m,\u001b[49m\n\u001b[1;32m     64\u001b[0m \u001b[43m            \u001b[49m\u001b[43mfunc\u001b[49m\u001b[43m,\u001b[49m\n\u001b[1;32m     65\u001b[0m \u001b[43m            \u001b[49m\u001b[43mn_trials\u001b[49m\u001b[43m,\u001b[49m\n\u001b[1;32m     66\u001b[0m \u001b[43m            \u001b[49m\u001b[43mtimeout\u001b[49m\u001b[43m,\u001b[49m\n\u001b[1;32m     67\u001b[0m \u001b[43m            \u001b[49m\u001b[43mcatch\u001b[49m\u001b[43m,\u001b[49m\n\u001b[1;32m     68\u001b[0m \u001b[43m            \u001b[49m\u001b[43mcallbacks\u001b[49m\u001b[43m,\u001b[49m\n\u001b[1;32m     69\u001b[0m \u001b[43m            \u001b[49m\u001b[43mgc_after_trial\u001b[49m\u001b[43m,\u001b[49m\n\u001b[1;32m     70\u001b[0m \u001b[43m            \u001b[49m\u001b[43mreseed_sampler_rng\u001b[49m\u001b[38;5;241;43m=\u001b[39;49m\u001b[38;5;28;43;01mFalse\u001b[39;49;00m\u001b[43m,\u001b[49m\n\u001b[1;32m     71\u001b[0m \u001b[43m            \u001b[49m\u001b[43mtime_start\u001b[49m\u001b[38;5;241;43m=\u001b[39;49m\u001b[38;5;28;43;01mNone\u001b[39;49;00m\u001b[43m,\u001b[49m\n\u001b[1;32m     72\u001b[0m \u001b[43m            \u001b[49m\u001b[43mprogress_bar\u001b[49m\u001b[38;5;241;43m=\u001b[39;49m\u001b[43mprogress_bar\u001b[49m\u001b[43m,\u001b[49m\n\u001b[1;32m     73\u001b[0m \u001b[43m        \u001b[49m\u001b[43m)\u001b[49m\n\u001b[1;32m     74\u001b[0m     \u001b[38;5;28;01melse\u001b[39;00m:\n\u001b[1;32m     75\u001b[0m         \u001b[38;5;28;01mif\u001b[39;00m n_jobs \u001b[38;5;241m==\u001b[39m \u001b[38;5;241m-\u001b[39m\u001b[38;5;241m1\u001b[39m:\n",
      "File \u001b[0;32m~/qtpu/.venv/lib/python3.11/site-packages/optuna/study/_optimize.py:159\u001b[0m, in \u001b[0;36m_optimize_sequential\u001b[0;34m(study, func, n_trials, timeout, catch, callbacks, gc_after_trial, reseed_sampler_rng, time_start, progress_bar)\u001b[0m\n\u001b[1;32m    156\u001b[0m         \u001b[38;5;28;01mbreak\u001b[39;00m\n\u001b[1;32m    158\u001b[0m \u001b[38;5;28;01mtry\u001b[39;00m:\n\u001b[0;32m--> 159\u001b[0m     frozen_trial \u001b[38;5;241m=\u001b[39m \u001b[43m_run_trial\u001b[49m\u001b[43m(\u001b[49m\u001b[43mstudy\u001b[49m\u001b[43m,\u001b[49m\u001b[43m \u001b[49m\u001b[43mfunc\u001b[49m\u001b[43m,\u001b[49m\u001b[43m \u001b[49m\u001b[43mcatch\u001b[49m\u001b[43m)\u001b[49m\n\u001b[1;32m    160\u001b[0m \u001b[38;5;28;01mfinally\u001b[39;00m:\n\u001b[1;32m    161\u001b[0m     \u001b[38;5;66;03m# The following line mitigates memory problems that can be occurred in some\u001b[39;00m\n\u001b[1;32m    162\u001b[0m     \u001b[38;5;66;03m# environments (e.g., services that use computing containers such as GitHub Actions).\u001b[39;00m\n\u001b[1;32m    163\u001b[0m     \u001b[38;5;66;03m# Please refer to the following PR for further details:\u001b[39;00m\n\u001b[1;32m    164\u001b[0m     \u001b[38;5;66;03m# https://github.com/optuna/optuna/pull/325.\u001b[39;00m\n\u001b[1;32m    165\u001b[0m     \u001b[38;5;28;01mif\u001b[39;00m gc_after_trial:\n",
      "File \u001b[0;32m~/qtpu/.venv/lib/python3.11/site-packages/optuna/study/_optimize.py:247\u001b[0m, in \u001b[0;36m_run_trial\u001b[0;34m(study, func, catch)\u001b[0m\n\u001b[1;32m    240\u001b[0m         \u001b[38;5;28;01massert\u001b[39;00m \u001b[38;5;28;01mFalse\u001b[39;00m, \u001b[38;5;124m\"\u001b[39m\u001b[38;5;124mShould not reach.\u001b[39m\u001b[38;5;124m\"\u001b[39m\n\u001b[1;32m    242\u001b[0m \u001b[38;5;28;01mif\u001b[39;00m (\n\u001b[1;32m    243\u001b[0m     frozen_trial\u001b[38;5;241m.\u001b[39mstate \u001b[38;5;241m==\u001b[39m TrialState\u001b[38;5;241m.\u001b[39mFAIL\n\u001b[1;32m    244\u001b[0m     \u001b[38;5;129;01mand\u001b[39;00m func_err \u001b[38;5;129;01mis\u001b[39;00m \u001b[38;5;129;01mnot\u001b[39;00m \u001b[38;5;28;01mNone\u001b[39;00m\n\u001b[1;32m    245\u001b[0m     \u001b[38;5;129;01mand\u001b[39;00m \u001b[38;5;129;01mnot\u001b[39;00m \u001b[38;5;28misinstance\u001b[39m(func_err, catch)\n\u001b[1;32m    246\u001b[0m ):\n\u001b[0;32m--> 247\u001b[0m     \u001b[38;5;28;01mraise\u001b[39;00m func_err\n\u001b[1;32m    248\u001b[0m \u001b[38;5;28;01mreturn\u001b[39;00m frozen_trial\n",
      "File \u001b[0;32m~/qtpu/.venv/lib/python3.11/site-packages/optuna/study/_optimize.py:196\u001b[0m, in \u001b[0;36m_run_trial\u001b[0;34m(study, func, catch)\u001b[0m\n\u001b[1;32m    194\u001b[0m \u001b[38;5;28;01mwith\u001b[39;00m get_heartbeat_thread(trial\u001b[38;5;241m.\u001b[39m_trial_id, study\u001b[38;5;241m.\u001b[39m_storage):\n\u001b[1;32m    195\u001b[0m     \u001b[38;5;28;01mtry\u001b[39;00m:\n\u001b[0;32m--> 196\u001b[0m         value_or_values \u001b[38;5;241m=\u001b[39m \u001b[43mfunc\u001b[49m\u001b[43m(\u001b[49m\u001b[43mtrial\u001b[49m\u001b[43m)\u001b[49m\n\u001b[1;32m    197\u001b[0m     \u001b[38;5;28;01mexcept\u001b[39;00m exceptions\u001b[38;5;241m.\u001b[39mTrialPruned \u001b[38;5;28;01mas\u001b[39;00m e:\n\u001b[1;32m    198\u001b[0m         \u001b[38;5;66;03m# TODO(mamu): Handle multi-objective cases.\u001b[39;00m\n\u001b[1;32m    199\u001b[0m         state \u001b[38;5;241m=\u001b[39m TrialState\u001b[38;5;241m.\u001b[39mPRUNED\n",
      "File \u001b[0;32m~/qtpu/qtpu/compiler/compiler.py:125\u001b[0m, in \u001b[0;36mhyper_optimize.<locals>.<lambda>\u001b[0;34m(trial)\u001b[0m\n\u001b[1;32m    121\u001b[0m ir \u001b[38;5;241m=\u001b[39m HybridCircuitIR(remove_barriers(circuit))\n\u001b[1;32m    123\u001b[0m study \u001b[38;5;241m=\u001b[39m optuna\u001b[38;5;241m.\u001b[39mcreate_study(directions\u001b[38;5;241m=\u001b[39m[\u001b[38;5;124m\"\u001b[39m\u001b[38;5;124mminimize\u001b[39m\u001b[38;5;124m\"\u001b[39m, \u001b[38;5;124m\"\u001b[39m\u001b[38;5;124mminimize\u001b[39m\u001b[38;5;124m\"\u001b[39m])\n\u001b[1;32m    124\u001b[0m study\u001b[38;5;241m.\u001b[39moptimize(\n\u001b[0;32m--> 125\u001b[0m     \u001b[38;5;28;01mlambda\u001b[39;00m trial: \u001b[43mobjective\u001b[49m\u001b[43m(\u001b[49m\n\u001b[1;32m    126\u001b[0m \u001b[43m        \u001b[49m\u001b[43mtrial\u001b[49m\u001b[43m,\u001b[49m\n\u001b[1;32m    127\u001b[0m \u001b[43m        \u001b[49m\u001b[43mir\u001b[49m\u001b[38;5;241;43m=\u001b[39;49m\u001b[43mir\u001b[49m\u001b[43m,\u001b[49m\n\u001b[1;32m    128\u001b[0m \u001b[43m        \u001b[49m\u001b[43merror_fn\u001b[49m\u001b[38;5;241;43m=\u001b[39;49m\u001b[43merror_fn\u001b[49m\u001b[43m,\u001b[49m\n\u001b[1;32m    129\u001b[0m \u001b[43m        \u001b[49m\u001b[43mterminate_fn\u001b[49m\u001b[38;5;241;43m=\u001b[39;49m\u001b[43mterminate_fn\u001b[49m\u001b[43m,\u001b[49m\n\u001b[1;32m    130\u001b[0m \u001b[43m        \u001b[49m\u001b[43mmax_cost\u001b[49m\u001b[38;5;241;43m=\u001b[39;49m\u001b[43mmax_cost\u001b[49m\u001b[43m,\u001b[49m\n\u001b[1;32m    131\u001b[0m \u001b[43m        \u001b[49m\u001b[43mchoose_leaf_methods\u001b[49m\u001b[38;5;241;43m=\u001b[39;49m\u001b[43mchoose_leaf_methods\u001b[49m\u001b[43m,\u001b[49m\n\u001b[1;32m    132\u001b[0m \u001b[43m        \u001b[49m\u001b[43mcompression_methods\u001b[49m\u001b[38;5;241;43m=\u001b[39;49m\u001b[43mcompression_methods\u001b[49m\u001b[43m,\u001b[49m\n\u001b[1;32m    133\u001b[0m \u001b[43m    \u001b[49m\u001b[43m)\u001b[49m,\n\u001b[1;32m    134\u001b[0m     n_trials\u001b[38;5;241m=\u001b[39mn_trials,\n\u001b[1;32m    135\u001b[0m     show_progress_bar\u001b[38;5;241m=\u001b[39mshow_progress_bar,\n\u001b[1;32m    136\u001b[0m     timeout\u001b[38;5;241m=\u001b[39mtimeout,\n\u001b[1;32m    137\u001b[0m )\n\u001b[1;32m    138\u001b[0m \u001b[38;5;28;01mreturn\u001b[39;00m study\n",
      "File \u001b[0;32m~/qtpu/qtpu/compiler/compiler.py:171\u001b[0m, in \u001b[0;36mobjective\u001b[0;34m(trial, ir, error_fn, terminate_fn, max_cost, choose_leaf_methods, compression_methods)\u001b[0m\n\u001b[1;32m    168\u001b[0m objective \u001b[38;5;241m=\u001b[39m trial\u001b[38;5;241m.\u001b[39msuggest_categorical(\u001b[38;5;124m\"\u001b[39m\u001b[38;5;124mobjective\u001b[39m\u001b[38;5;124m\"\u001b[39m, [\u001b[38;5;124m\"\u001b[39m\u001b[38;5;124mcut\u001b[39m\u001b[38;5;124m\"\u001b[39m, \u001b[38;5;124m\"\u001b[39m\u001b[38;5;124mkm1\u001b[39m\u001b[38;5;124m\"\u001b[39m])\n\u001b[1;32m    169\u001b[0m fix_output_nodes \u001b[38;5;241m=\u001b[39m trial\u001b[38;5;241m.\u001b[39msuggest_categorical(\u001b[38;5;124m\"\u001b[39m\u001b[38;5;124mfix_output_nodes\u001b[39m\u001b[38;5;124m\"\u001b[39m, [\u001b[38;5;124m\"\u001b[39m\u001b[38;5;124mauto\u001b[39m\u001b[38;5;124m\"\u001b[39m, \u001b[38;5;124m\"\u001b[39m\u001b[38;5;124m\"\u001b[39m])\n\u001b[0;32m--> 171\u001b[0m ir, tree \u001b[38;5;241m=\u001b[39m \u001b[43moptimize\u001b[49m\u001b[43m(\u001b[49m\n\u001b[1;32m    172\u001b[0m \u001b[43m    \u001b[49m\u001b[43mir\u001b[49m\u001b[43m,\u001b[49m\n\u001b[1;32m    173\u001b[0m \u001b[43m    \u001b[49m\u001b[38;5;66;43;03m# optimizer arguments\u001b[39;49;00m\n\u001b[1;32m    174\u001b[0m \u001b[43m    \u001b[49m\u001b[43mterminate_fn\u001b[49m\u001b[38;5;241;43m=\u001b[39;49m\u001b[43mterminate_fn\u001b[49m\u001b[43m,\u001b[49m\n\u001b[1;32m    175\u001b[0m \u001b[43m    \u001b[49m\u001b[43mmax_cost\u001b[49m\u001b[38;5;241;43m=\u001b[39;49m\u001b[43mmax_cost\u001b[49m\u001b[43m,\u001b[49m\n\u001b[1;32m    176\u001b[0m \u001b[43m    \u001b[49m\u001b[43mchoose_leaf\u001b[49m\u001b[38;5;241;43m=\u001b[39;49m\u001b[43mchoose_leaf\u001b[49m\u001b[43m,\u001b[49m\n\u001b[1;32m    177\u001b[0m \u001b[43m    \u001b[49m\u001b[43mcompress\u001b[49m\u001b[38;5;241;43m=\u001b[39;49m\u001b[43mcompress\u001b[49m\u001b[43m,\u001b[49m\n\u001b[1;32m    178\u001b[0m \u001b[43m    \u001b[49m\u001b[38;5;66;43;03m# partition arguments\u001b[39;49;00m\n\u001b[1;32m    179\u001b[0m \u001b[43m    \u001b[49m\u001b[43mrandom_strength\u001b[49m\u001b[38;5;241;43m=\u001b[39;49m\u001b[43mrandom_strength\u001b[49m\u001b[43m,\u001b[49m\n\u001b[1;32m    180\u001b[0m \u001b[43m    \u001b[49m\u001b[43mweight_edges\u001b[49m\u001b[38;5;241;43m=\u001b[39;49m\u001b[43mweight_edges\u001b[49m\u001b[43m,\u001b[49m\n\u001b[1;32m    181\u001b[0m \u001b[43m    \u001b[49m\u001b[43mimbalance\u001b[49m\u001b[38;5;241;43m=\u001b[39;49m\u001b[43mimbalance\u001b[49m\u001b[43m,\u001b[49m\n\u001b[1;32m    182\u001b[0m \u001b[43m    \u001b[49m\u001b[43mimbalance_decay\u001b[49m\u001b[38;5;241;43m=\u001b[39;49m\u001b[43mimbalance_decay\u001b[49m\u001b[43m,\u001b[49m\n\u001b[1;32m    183\u001b[0m \u001b[43m    \u001b[49m\u001b[43mparts\u001b[49m\u001b[38;5;241;43m=\u001b[39;49m\u001b[43mparts\u001b[49m\u001b[43m,\u001b[49m\n\u001b[1;32m    184\u001b[0m \u001b[43m    \u001b[49m\u001b[43mparts_decay\u001b[49m\u001b[38;5;241;43m=\u001b[39;49m\u001b[43mparts_decay\u001b[49m\u001b[43m,\u001b[49m\n\u001b[1;32m    185\u001b[0m \u001b[43m    \u001b[49m\u001b[43mmode\u001b[49m\u001b[38;5;241;43m=\u001b[39;49m\u001b[43mmode\u001b[49m\u001b[43m,\u001b[49m\n\u001b[1;32m    186\u001b[0m \u001b[43m    \u001b[49m\u001b[43mobjective\u001b[49m\u001b[38;5;241;43m=\u001b[39;49m\u001b[43mobjective\u001b[49m\u001b[43m,\u001b[49m\n\u001b[1;32m    187\u001b[0m \u001b[43m    \u001b[49m\u001b[43mfix_output_nodes\u001b[49m\u001b[38;5;241;43m=\u001b[39;49m\u001b[43mfix_output_nodes\u001b[49m\u001b[43m,\u001b[49m\n\u001b[1;32m    188\u001b[0m \u001b[43m\u001b[49m\u001b[43m)\u001b[49m\n\u001b[1;32m    190\u001b[0m trial\u001b[38;5;241m.\u001b[39mset_user_attr(\u001b[38;5;124m\"\u001b[39m\u001b[38;5;124mir\u001b[39m\u001b[38;5;124m\"\u001b[39m, ir)\n\u001b[1;32m    191\u001b[0m trial\u001b[38;5;241m.\u001b[39mset_user_attr(\u001b[38;5;124m\"\u001b[39m\u001b[38;5;124mtree\u001b[39m\u001b[38;5;124m\"\u001b[39m, tree)\n",
      "File \u001b[0;32m~/qtpu/qtpu/compiler/optimizer.py:166\u001b[0m, in \u001b[0;36moptimize\u001b[0;34m(ir, terminate_fn, max_cost, choose_leaf, compress, random_strength, parts, parts_decay, super_optimize, seed, timeout, **partition_opts)\u001b[0m\n\u001b[1;32m    163\u001b[0m     \u001b[38;5;28;01mcontinue\u001b[39;00m\n\u001b[1;32m    165\u001b[0m \u001b[38;5;66;03m# update tree structure with newly contracted subgraphs\u001b[39;00m\n\u001b[0;32m--> 166\u001b[0m \u001b[43mtree\u001b[49m\u001b[38;5;241;43m.\u001b[39;49m\u001b[43mcontract_nodes\u001b[49m\u001b[43m(\u001b[49m\u001b[43mnew_subgs\u001b[49m\u001b[43m,\u001b[49m\u001b[43m \u001b[49m\u001b[43moptimize\u001b[49m\u001b[38;5;241;43m=\u001b[39;49m\u001b[43msuper_optimize\u001b[49m\u001b[43m,\u001b[49m\u001b[43m \u001b[49m\u001b[43mcheck\u001b[49m\u001b[38;5;241;43m=\u001b[39;49m\u001b[38;5;28;43;01mNone\u001b[39;49;00m\u001b[43m)\u001b[49m\n\u001b[1;32m    168\u001b[0m \u001b[38;5;28;01mif\u001b[39;00m tree\u001b[38;5;241m.\u001b[39mcontraction_cost() \u001b[38;5;241m>\u001b[39m max_cost:\n\u001b[1;32m    169\u001b[0m     tree \u001b[38;5;241m=\u001b[39m ref_tree\n",
      "File \u001b[0;32m~/qtpu/.venv/lib/python3.11/site-packages/cotengra/core.py:1326\u001b[0m, in \u001b[0;36mContractionTree.contract_nodes\u001b[0;34m(self, nodes, optimize, check, extra_opts)\u001b[0m\n\u001b[1;32m   1323\u001b[0m path_inputs \u001b[38;5;241m=\u001b[39m [\u001b[38;5;28mtuple\u001b[39m(\u001b[38;5;28mself\u001b[39m\u001b[38;5;241m.\u001b[39mget_legs(x)) \u001b[38;5;28;01mfor\u001b[39;00m x \u001b[38;5;129;01min\u001b[39;00m nodes]\n\u001b[1;32m   1324\u001b[0m path_output \u001b[38;5;241m=\u001b[39m \u001b[38;5;28mtuple\u001b[39m(\u001b[38;5;28mself\u001b[39m\u001b[38;5;241m.\u001b[39mget_legs(grandparent))\n\u001b[0;32m-> 1326\u001b[0m path \u001b[38;5;241m=\u001b[39m \u001b[43mfind_path\u001b[49m\u001b[43m(\u001b[49m\n\u001b[1;32m   1327\u001b[0m \u001b[43m    \u001b[49m\u001b[43mpath_inputs\u001b[49m\u001b[43m,\u001b[49m\n\u001b[1;32m   1328\u001b[0m \u001b[43m    \u001b[49m\u001b[43mpath_output\u001b[49m\u001b[43m,\u001b[49m\n\u001b[1;32m   1329\u001b[0m \u001b[43m    \u001b[49m\u001b[38;5;28;43mself\u001b[39;49m\u001b[38;5;241;43m.\u001b[39;49m\u001b[43msize_dict\u001b[49m\u001b[43m,\u001b[49m\n\u001b[1;32m   1330\u001b[0m \u001b[43m    \u001b[49m\u001b[43moptimize\u001b[49m\u001b[38;5;241;43m=\u001b[39;49m\u001b[43moptimize\u001b[49m\u001b[43m,\u001b[49m\n\u001b[1;32m   1331\u001b[0m \u001b[43m    \u001b[49m\u001b[38;5;241;43m*\u001b[39;49m\u001b[38;5;241;43m*\u001b[39;49m\u001b[43m(\u001b[49m\u001b[43mextra_opts\u001b[49m\u001b[43m \u001b[49m\u001b[38;5;129;43;01mor\u001b[39;49;00m\u001b[43m \u001b[49m\u001b[43m{\u001b[49m\u001b[43m}\u001b[49m\u001b[43m)\u001b[49m\u001b[43m,\u001b[49m\n\u001b[1;32m   1332\u001b[0m \u001b[43m\u001b[49m\u001b[43m)\u001b[49m\n\u001b[1;32m   1334\u001b[0m \u001b[38;5;66;03m# now we have path create the nodes in between\u001b[39;00m\n\u001b[1;32m   1335\u001b[0m temp_nodes \u001b[38;5;241m=\u001b[39m \u001b[38;5;28mlist\u001b[39m(nodes)\n",
      "File \u001b[0;32m~/qtpu/.venv/lib/python3.11/site-packages/cotengra/interface.py:192\u001b[0m, in \u001b[0;36mfind_path\u001b[0;34m(inputs, output, size_dict, optimize, **kwargs)\u001b[0m\n\u001b[1;32m    189\u001b[0m     \u001b[38;5;28;01melse\u001b[39;00m:\n\u001b[1;32m    190\u001b[0m         fn \u001b[38;5;241m=\u001b[39m _find_path_handlers[\u001b[38;5;28mcls\u001b[39m] \u001b[38;5;241m=\u001b[39m _find_path_optimizer\n\u001b[0;32m--> 192\u001b[0m \u001b[38;5;28;01mreturn\u001b[39;00m \u001b[43mfn\u001b[49m\u001b[43m(\u001b[49m\u001b[43minputs\u001b[49m\u001b[43m,\u001b[49m\u001b[43m \u001b[49m\u001b[43moutput\u001b[49m\u001b[43m,\u001b[49m\u001b[43m \u001b[49m\u001b[43msize_dict\u001b[49m\u001b[43m,\u001b[49m\u001b[43m \u001b[49m\u001b[43moptimize\u001b[49m\u001b[43m,\u001b[49m\u001b[43m \u001b[49m\u001b[38;5;241;43m*\u001b[39;49m\u001b[38;5;241;43m*\u001b[39;49m\u001b[43mkwargs\u001b[49m\u001b[43m)\u001b[49m\n",
      "File \u001b[0;32m~/qtpu/.venv/lib/python3.11/site-packages/cotengra/interface.py:148\u001b[0m, in \u001b[0;36m_find_path_preset\u001b[0;34m(inputs, output, size_dict, optimize, **kwargs)\u001b[0m\n\u001b[1;32m    146\u001b[0m \u001b[38;5;28;01mdef\u001b[39;00m \u001b[38;5;21m_find_path_preset\u001b[39m(inputs, output, size_dict, optimize, \u001b[38;5;241m*\u001b[39m\u001b[38;5;241m*\u001b[39mkwargs):\n\u001b[1;32m    147\u001b[0m     optimize \u001b[38;5;241m=\u001b[39m preset_to_optimizer(optimize)\n\u001b[0;32m--> 148\u001b[0m     \u001b[38;5;28;01mreturn\u001b[39;00m \u001b[43m_find_path_optimizer\u001b[49m\u001b[43m(\u001b[49m\u001b[43minputs\u001b[49m\u001b[43m,\u001b[49m\u001b[43m \u001b[49m\u001b[43moutput\u001b[49m\u001b[43m,\u001b[49m\u001b[43m \u001b[49m\u001b[43msize_dict\u001b[49m\u001b[43m,\u001b[49m\u001b[43m \u001b[49m\u001b[43moptimize\u001b[49m\u001b[43m,\u001b[49m\u001b[43m \u001b[49m\u001b[38;5;241;43m*\u001b[39;49m\u001b[38;5;241;43m*\u001b[39;49m\u001b[43mkwargs\u001b[49m\u001b[43m)\u001b[49m\n",
      "File \u001b[0;32m~/qtpu/.venv/lib/python3.11/site-packages/cotengra/interface.py:143\u001b[0m, in \u001b[0;36m_find_path_optimizer\u001b[0;34m(inputs, output, size_dict, optimize, **kwargs)\u001b[0m\n\u001b[1;32m    142\u001b[0m \u001b[38;5;28;01mdef\u001b[39;00m \u001b[38;5;21m_find_path_optimizer\u001b[39m(inputs, output, size_dict, optimize, \u001b[38;5;241m*\u001b[39m\u001b[38;5;241m*\u001b[39mkwargs):\n\u001b[0;32m--> 143\u001b[0m     \u001b[38;5;28;01mreturn\u001b[39;00m \u001b[43moptimize\u001b[49m\u001b[43m(\u001b[49m\u001b[43minputs\u001b[49m\u001b[43m,\u001b[49m\u001b[43m \u001b[49m\u001b[43moutput\u001b[49m\u001b[43m,\u001b[49m\u001b[43m \u001b[49m\u001b[43msize_dict\u001b[49m\u001b[43m,\u001b[49m\u001b[43m \u001b[49m\u001b[38;5;241;43m*\u001b[39;49m\u001b[38;5;241;43m*\u001b[39;49m\u001b[43mkwargs\u001b[49m\u001b[43m)\u001b[49m\n",
      "File \u001b[0;32m~/qtpu/.venv/lib/python3.11/site-packages/cotengra/presets.py:110\u001b[0m, in \u001b[0;36mAutoOptimizer.__call__\u001b[0;34m(self, inputs, output, size_dict, **kwargs)\u001b[0m\n\u001b[1;32m    107\u001b[0m \u001b[38;5;28;01mdef\u001b[39;00m \u001b[38;5;21m__call__\u001b[39m(\u001b[38;5;28mself\u001b[39m, inputs, output, size_dict, \u001b[38;5;241m*\u001b[39m\u001b[38;5;241m*\u001b[39mkwargs):\n\u001b[1;32m    108\u001b[0m     \u001b[38;5;28;01mif\u001b[39;00m estimate_optimal_hardness(inputs) \u001b[38;5;241m<\u001b[39m \u001b[38;5;28mself\u001b[39m\u001b[38;5;241m.\u001b[39moptimal_cutoff:\n\u001b[1;32m    109\u001b[0m         \u001b[38;5;66;03m# easy to solve exactly\u001b[39;00m\n\u001b[0;32m--> 110\u001b[0m         \u001b[38;5;28;01mreturn\u001b[39;00m \u001b[38;5;28;43mself\u001b[39;49m\u001b[38;5;241;43m.\u001b[39;49m\u001b[43m_optimize_optimal_fn\u001b[49m\u001b[43m(\u001b[49m\n\u001b[1;32m    111\u001b[0m \u001b[43m            \u001b[49m\u001b[43minputs\u001b[49m\u001b[43m,\u001b[49m\n\u001b[1;32m    112\u001b[0m \u001b[43m            \u001b[49m\u001b[43moutput\u001b[49m\u001b[43m,\u001b[49m\n\u001b[1;32m    113\u001b[0m \u001b[43m            \u001b[49m\u001b[43msize_dict\u001b[49m\u001b[43m,\u001b[49m\n\u001b[1;32m    114\u001b[0m \u001b[43m            \u001b[49m\u001b[43muse_ssa\u001b[49m\u001b[38;5;241;43m=\u001b[39;49m\u001b[38;5;28;43;01mFalse\u001b[39;49;00m\u001b[43m,\u001b[49m\n\u001b[1;32m    115\u001b[0m \u001b[43m            \u001b[49m\u001b[43mminimize\u001b[49m\u001b[38;5;241;43m=\u001b[39;49m\u001b[38;5;28;43mself\u001b[39;49m\u001b[38;5;241;43m.\u001b[39;49m\u001b[43mminimize\u001b[49m\u001b[43m,\u001b[49m\n\u001b[1;32m    116\u001b[0m \u001b[43m            \u001b[49m\u001b[38;5;241;43m*\u001b[39;49m\u001b[38;5;241;43m*\u001b[39;49m\u001b[43mkwargs\u001b[49m\u001b[43m,\u001b[49m\n\u001b[1;32m    117\u001b[0m \u001b[43m        \u001b[49m\u001b[43m)\u001b[49m\n\u001b[1;32m    118\u001b[0m     \u001b[38;5;28;01melse\u001b[39;00m:\n\u001b[1;32m    119\u001b[0m         \u001b[38;5;66;03m# use hyperoptimizer\u001b[39;00m\n\u001b[1;32m    120\u001b[0m         \u001b[38;5;28;01mreturn\u001b[39;00m \u001b[38;5;28mself\u001b[39m\u001b[38;5;241m.\u001b[39m_get_optimizer_hyper_threadsafe()(\n\u001b[1;32m    121\u001b[0m             inputs, output, size_dict, \u001b[38;5;241m*\u001b[39m\u001b[38;5;241m*\u001b[39mkwargs\n\u001b[1;32m    122\u001b[0m         )\n",
      "File \u001b[0;32m~/qtpu/.venv/lib/python3.11/site-packages/cotengra/pathfinders/path_basic.py:1136\u001b[0m, in \u001b[0;36moptimize_optimal\u001b[0;34m(inputs, output, size_dict, minimize, cost_cap, search_outer, simplify, use_ssa)\u001b[0m\n\u001b[1;32m   1134\u001b[0m \u001b[38;5;28;01mif\u001b[39;00m simplify:\n\u001b[1;32m   1135\u001b[0m     cp\u001b[38;5;241m.\u001b[39msimplify()\n\u001b[0;32m-> 1136\u001b[0m \u001b[43mcp\u001b[49m\u001b[38;5;241;43m.\u001b[39;49m\u001b[43moptimize_optimal\u001b[49m\u001b[43m(\u001b[49m\n\u001b[1;32m   1137\u001b[0m \u001b[43m    \u001b[49m\u001b[43mminimize\u001b[49m\u001b[38;5;241;43m=\u001b[39;49m\u001b[43mminimize\u001b[49m\u001b[43m,\u001b[49m\u001b[43m \u001b[49m\u001b[43mcost_cap\u001b[49m\u001b[38;5;241;43m=\u001b[39;49m\u001b[43mcost_cap\u001b[49m\u001b[43m,\u001b[49m\u001b[43m \u001b[49m\u001b[43msearch_outer\u001b[49m\u001b[38;5;241;43m=\u001b[39;49m\u001b[43msearch_outer\u001b[49m\n\u001b[1;32m   1138\u001b[0m \u001b[43m\u001b[49m\u001b[43m)\u001b[49m\n\u001b[1;32m   1139\u001b[0m \u001b[38;5;66;03m# handle disconnected subgraphs\u001b[39;00m\n\u001b[1;32m   1140\u001b[0m cp\u001b[38;5;241m.\u001b[39moptimize_remaining_by_size()\n",
      "File \u001b[0;32m~/qtpu/.venv/lib/python3.11/site-packages/cotengra/pathfinders/path_basic.py:729\u001b[0m, in \u001b[0;36mContractionProcessor.optimize_optimal\u001b[0;34m(self, minimize, cost_cap, search_outer)\u001b[0m\n\u001b[1;32m    724\u001b[0m \u001b[38;5;28;01mdef\u001b[39;00m \u001b[38;5;21moptimize_optimal\u001b[39m(\n\u001b[1;32m    725\u001b[0m     \u001b[38;5;28mself\u001b[39m, minimize\u001b[38;5;241m=\u001b[39m\u001b[38;5;124m\"\u001b[39m\u001b[38;5;124mflops\u001b[39m\u001b[38;5;124m\"\u001b[39m, cost_cap\u001b[38;5;241m=\u001b[39m\u001b[38;5;241m2\u001b[39m, search_outer\u001b[38;5;241m=\u001b[39m\u001b[38;5;28;01mFalse\u001b[39;00m\n\u001b[1;32m    726\u001b[0m ):\n\u001b[1;32m    727\u001b[0m     \u001b[38;5;66;03m# we need to optimize each disconnected subgraph separately\u001b[39;00m\n\u001b[1;32m    728\u001b[0m     \u001b[38;5;28;01mfor\u001b[39;00m where \u001b[38;5;129;01min\u001b[39;00m \u001b[38;5;28mself\u001b[39m\u001b[38;5;241m.\u001b[39msubgraphs():\n\u001b[0;32m--> 729\u001b[0m         \u001b[38;5;28;43mself\u001b[39;49m\u001b[38;5;241;43m.\u001b[39;49m\u001b[43moptimize_optimal_connected\u001b[49m\u001b[43m(\u001b[49m\n\u001b[1;32m    730\u001b[0m \u001b[43m            \u001b[49m\u001b[43mwhere\u001b[49m\u001b[43m,\u001b[49m\n\u001b[1;32m    731\u001b[0m \u001b[43m            \u001b[49m\u001b[43mminimize\u001b[49m\u001b[38;5;241;43m=\u001b[39;49m\u001b[43mminimize\u001b[49m\u001b[43m,\u001b[49m\n\u001b[1;32m    732\u001b[0m \u001b[43m            \u001b[49m\u001b[43mcost_cap\u001b[49m\u001b[38;5;241;43m=\u001b[39;49m\u001b[43mcost_cap\u001b[49m\u001b[43m,\u001b[49m\n\u001b[1;32m    733\u001b[0m \u001b[43m            \u001b[49m\u001b[43msearch_outer\u001b[49m\u001b[38;5;241;43m=\u001b[39;49m\u001b[43msearch_outer\u001b[49m\u001b[43m,\u001b[49m\n\u001b[1;32m    734\u001b[0m \u001b[43m        \u001b[49m\u001b[43m)\u001b[49m\n",
      "File \u001b[0;32m~/qtpu/.venv/lib/python3.11/site-packages/cotengra/pathfinders/path_basic.py:688\u001b[0m, in \u001b[0;36mContractionProcessor.optimize_optimal_connected\u001b[0;34m(self, where, minimize, cost_cap, search_outer)\u001b[0m\n\u001b[1;32m    685\u001b[0m new_legs\u001b[38;5;241m.\u001b[39mextend(ilegs[ip:])\n\u001b[1;32m    686\u001b[0m new_legs\u001b[38;5;241m.\u001b[39mextend(jlegs[jp:])\n\u001b[0;32m--> 688\u001b[0m new_score \u001b[38;5;241m=\u001b[39m \u001b[43mcompute_con_cost\u001b[49m\u001b[43m(\u001b[49m\n\u001b[1;32m    689\u001b[0m \u001b[43m    \u001b[49m\u001b[43mnew_legs\u001b[49m\u001b[43m,\u001b[49m\n\u001b[1;32m    690\u001b[0m \u001b[43m    \u001b[49m\u001b[38;5;28;43mself\u001b[39;49m\u001b[38;5;241;43m.\u001b[39;49m\u001b[43mappearances\u001b[49m\u001b[43m,\u001b[49m\n\u001b[1;32m    691\u001b[0m \u001b[43m    \u001b[49m\u001b[38;5;28;43mself\u001b[39;49m\u001b[38;5;241;43m.\u001b[39;49m\u001b[43msizes\u001b[49m\u001b[43m,\u001b[49m\n\u001b[1;32m    692\u001b[0m \u001b[43m    \u001b[49m\u001b[43miscore\u001b[49m\u001b[43m,\u001b[49m\n\u001b[1;32m    693\u001b[0m \u001b[43m    \u001b[49m\u001b[43mjscore\u001b[49m\u001b[43m,\u001b[49m\n\u001b[1;32m    694\u001b[0m \u001b[43m\u001b[49m\u001b[43m)\u001b[49m\n\u001b[1;32m    696\u001b[0m \u001b[38;5;28;01mif\u001b[39;00m new_score \u001b[38;5;241m>\u001b[39m cost_cap:\n\u001b[1;32m    697\u001b[0m     \u001b[38;5;66;03m# sieve contraction\u001b[39;00m\n\u001b[1;32m    698\u001b[0m     \u001b[38;5;28;01mcontinue\u001b[39;00m\n",
      "File \u001b[0;32m~/qtpu/.venv/lib/python3.11/site-packages/cotengra/pathfinders/path_basic.py:206\u001b[0m, in \u001b[0;36mcompute_con_cost_combo\u001b[0;34m(temp_legs, appearances, sizes, iscore, jscore, factor)\u001b[0m\n\u001b[1;32m    203\u001b[0m         \u001b[38;5;28;01mdel\u001b[39;00m temp_legs[i]\n\u001b[1;32m    204\u001b[0m     \u001b[38;5;28;01melse\u001b[39;00m:\n\u001b[1;32m    205\u001b[0m         \u001b[38;5;66;03m# kept index, contributes to new size\u001b[39;00m\n\u001b[0;32m--> 206\u001b[0m         size \u001b[38;5;241m*\u001b[39m\u001b[38;5;241m=\u001b[39m d\n\u001b[1;32m    208\u001b[0m \u001b[38;5;28;01mreturn\u001b[39;00m iscore \u001b[38;5;241m+\u001b[39m jscore \u001b[38;5;241m+\u001b[39m (cost \u001b[38;5;241m+\u001b[39m factor \u001b[38;5;241m*\u001b[39m size)\n",
      "\u001b[0;31mKeyboardInterrupt\u001b[0m: "
     ]
    }
   ],
   "source": [
    "def overhead(circuit):\n",
    "    circuit = cuts_to_moves(circuit)\n",
    "    return np.sum(\n",
    "        [\n",
    "            instr.operation.basis.overhead\n",
    "            for instr in circuit\n",
    "            if isinstance(instr.operation, TwoQubitQPDGate)\n",
    "        ]\n",
    "    )\n",
    "    # return sum(\n",
    "    #     [\n",
    "    #         np.log10(instr.operation.basis.overhead)\n",
    "    #         for instr in circuit\n",
    "    #         if isinstance(instr.operation, TwoQubitQPDGate)\n",
    "    #     ]\n",
    "    # )\n",
    "\n",
    "\n",
    "for name, bench_list in benches.items():\n",
    "    for bench in bench_list:\n",
    "        cut_circ = compile_reach_size(bench, QPU_SIZE, show_progress_bar=True)\n",
    "        qtpu_res = {\"qtpu_overhead\": overhead(cut_circ)}\n",
    "        print(overhead(cut_circ))\n",
    "\n",
    "\n",
    "        cut_circ = cut_ckt(bench, QPU_SIZE)\n",
    "        print(overhead(cut_circ))\n",
    "        ckt_res = {\"ckt_overhead\": overhead(cut_circ)}\n",
    "        append_to_csv(\"results/compiler2.csv\", {\"name\": name, \"num_qubits\": bench.num_qubits, **qtpu_res, **ckt_res})"
   ]
  },
  {
   "cell_type": "code",
   "execution_count": 4,
   "metadata": {},
   "outputs": [],
   "source": [
    "def plot_bar(df, ax, x, y, yerr=None):\n",
    "    df.plot.bar(\n",
    "        x=x, y=y, rot=0, width=0.8, edgecolor=\"black\", linewidth=2, ax=ax, legend=False, yerr=yerr\n",
    "    )\n",
    "\n",
    "    hatches = [\"**\", \"//\", \"oo\", \"xx\", \"oo\", \"OO\"]\n",
    "\n",
    "    color_to_hatch = {}\n",
    "\n",
    "    i = 0\n",
    "    for patch in ax.patches:\n",
    "        if patch.get_facecolor() not in color_to_hatch:\n",
    "            color_to_hatch[patch.get_facecolor()] = hatches[i % len(hatches)]\n",
    "            i += 1\n",
    "\n",
    "    for patch in ax.patches:\n",
    "        patch.set_hatch(color_to_hatch[patch.get_facecolor()])"
   ]
  },
  {
   "cell_type": "code",
   "execution_count": 5,
   "metadata": {},
   "outputs": [
    {
     "data": {
      "image/png": "[encoded data removed]",
      "text/plain": [
       "<Figure size 670x200 with 2 Axes>"
      ]
     },
     "metadata": {},
     "output_type": "display_data"
    }
   ],
   "source": [
    "df = pd.read_csv(\"results/compiler.csv\")\n",
    "\n",
    "df_vqe = df[df[\"name\"] == \"vqe\"]\n",
    "df_vqe = df_vqe.groupby([\"name\", \"num_qubits\"]).mean().reset_index().copy()\n",
    "\n",
    "df_qml = df[df[\"name\"] == \"qaoa2\"]\n",
    "df_qml = df_qml.groupby([\"name\", \"num_qubits\"]).mean().reset_index().copy()\n",
    "\n",
    "\n",
    "\n",
    "fig, (ax0, ax1) = plt.subplots(1, 2, figsize=(6.7, 2), sharey=True)\n",
    "fig.subplots_adjust(wspace=0.07)\n",
    "\n",
    "# df_vqe[\"qtpu_overhead\"] **= 10\n",
    "# df_qml[\"qtpu_overhead\"] **= 10\n",
    "# df_vqe[\"ckt_overhead\"] **= 10\n",
    "# df_qml[\"ckt_overhead\"] **= 10\n",
    "\n",
    "plot_bar(df_vqe, ax0, \"num_qubits\", None)\n",
    "plot_bar(df_qml, ax1, \"num_qubits\", None)\n",
    "\n",
    "ax0.set_ylabel(\"Overhead\")\n",
    "ax0.set_xlabel(\"Number of qubits\")\n",
    "ax1.set_xlabel(\"Number of qubits\")\n",
    "\n",
    "ax0.set_title(\"(a) VQE\", fontweight=\"bold\")\n",
    "ax1.set_title(\"(b) QML\", fontweight=\"bold\")\n",
    "ax0.legend([\"QTPU\", \"CKT\"])\n",
    "ax1.legend([\"QTPU\", \"CKT\"])\n",
    "\n",
    "fig.text(0.5, .95, \"Lower is better ↓\", ha='center', va='center', fontweight=\"bold\", color=\"midnightblue\")\n",
    "ax0.set_yscale(\"log\")"
   ]
  },
  {
   "cell_type": "code",
   "execution_count": 6,
   "metadata": {},
   "outputs": [],
   "source": [
    "fig.savefig(\"compiler.pdf\", bbox_inches=\"tight\")"
   ]
  },
  {
   "cell_type": "code",
   "execution_count": null,
   "metadata": {},
   "outputs": [],
   "source": []
  }
 ],
 "metadata": {
  "kernelspec": {
   "display_name": ".venv",
   "language": "python",
   "name": "python3"
  },
  "language_info": {
   "codemirror_mode": {
    "name": "ipython",
    "version": 3
   },
   "file_extension": ".py",
   "mimetype": "text/x-python",
   "name": "python",
   "nbconvert_exporter": "python",
   "pygments_lexer": "ipython3",
   "version": "3.11.9"
  }
 },
 "nbformat": 4,
 "nbformat_minor": 2
}
