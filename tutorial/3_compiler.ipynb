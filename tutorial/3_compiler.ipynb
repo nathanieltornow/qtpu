{
 "cells": [
  {
   "cell_type": "markdown",
   "metadata": {},
   "source": [
    "# Compiler\n",
    "\n",
    "A `qvm.compiler.Compiler` is used to automate the management of fragments and mapping of fragments to backends of `qvm.circuit.DistributedCircuit`s."
   ]
  },
  {
   "cell_type": "code",
   "execution_count": null,
   "metadata": {},
   "outputs": [],
   "source": []
  }
 ],
 "metadata": {
  "language_info": {
   "name": "python"
  },
  "orig_nbformat": 4
 },
 "nbformat": 4,
 "nbformat_minor": 2
}
