{
 "cells": [
  {
   "cell_type": "markdown",
   "metadata": {},
   "source": [
    "# Basic Example\n",
    "\n",
    "This notebook demonstrates the basic usage of qTPU for quantum circuit processing."
   ]
  },
  {
   "cell_type": "code",
   "execution_count": null,
   "metadata": {},
   "outputs": [],
   "source": [
    "from qiskit import QuantumCircuit\n",
    "import qtpu\n",
    "\n",
    "# Create a simple quantum circuit\n",
    "qc = QuantumCircuit(4)\n",
    "qc.h(0)\n",
    "qc.cx(0, 1)\n",
    "qc.cx(1, 2)\n",
    "qc.cx(2, 3)\n",
    "qc.measure_all()\n",
    "\n",
    "print(\"Original Circuit:\")\n",
    "print(qc)"
   ]
  },
  {
   "cell_type": "code",
   "execution_count": null,
   "metadata": {},
   "outputs": [],
   "source": [
    "# Cut the circuit into two halves\n",
    "cut_circ = qtpu.cut(qc, num_qubits=qc.num_qubits // 2)\n",
    "\n",
    "print(\"Cut Circuit:\")\n",
    "print(cut_circ)"
   ]
  },
  {
   "cell_type": "code",
   "execution_count": null,
   "metadata": {},
   "outputs": [],
   "source": [
    "# Convert the circuit into a hybrid tensor network\n",
    "hybrid_tn = qtpu.circuit_to_hybrid_tn(cut_circ)\n",
    "\n",
    "# Print the subcircuits\n",
    "for i, subcirc in enumerate(hybrid_tn.subcircuits):\n",
    "    print(f\"Subcircuit {i}:\")\n",
    "    print(subcirc)\n",
    "    print(\"--------------------\")"
   ]
  },
  {
   "cell_type": "code",
   "execution_count": null,
   "metadata": {},
   "outputs": [],
   "source": [
    "# Evaluate the hybrid tensor network\n",
    "tn = qtpu.evaluate(hybrid_tn)\n",
    "\n",
    "# Contract the classical tensor network\n",
    "res = tn.contract(all, optimize=\"auto-hq\", output_inds=[])\n",
    "print(f\"Result: {res}\")"
   ]
  }
 ],
 "metadata": {
  "kernelspec": {
   "display_name": "Python 3",
   "language": "python3",
   "name": "python3"
  },
  "language_info": {
   "codemirror_mode": {
    "name": "ipython",
    "version": 3
   },
   "file_extension": ".py",
   "mimetype": "text/x-python",
   "name": "python",
   "nbconvert_exporter": "python",
   "pygments_lexer": "ipython3",
   "version": "3.10.0"
  }
 },
 "nbformat": 4,
 "nbformat_minor": 4
}
