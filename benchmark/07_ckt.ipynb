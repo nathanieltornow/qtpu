{
 "cells": [
  {
   "cell_type": "code",
   "execution_count": 1,
   "metadata": {},
   "outputs": [
    {
     "data": {
      "image/png": "[encoded data removed]",
      "text/plain": [
       "<Figure size 564.442x294.311 with 1 Axes>"
      ]
     },
     "execution_count": 1,
     "metadata": {},
     "output_type": "execute_result"
    }
   ],
   "source": [
    "from qiskit.circuit.library import EfficientSU2\n",
    "\n",
    "circuit = EfficientSU2(num_qubits=4, entanglement=\"linear\", reps=1).decompose()\n",
    "circuit.assign_parameters([0.4] * len(circuit.parameters), inplace=True)\n",
    "circuit.draw(\"mpl\", scale=0.8)"
   ]
  },
  {
   "cell_type": "code",
   "execution_count": 2,
   "metadata": {},
   "outputs": [
    {
     "name": "stderr",
     "output_type": "stream",
     "text": [
      "/workspaces/qvm/.venv/lib/python3.12/site-packages/cotengra/hyperoptimizers/hyper.py:33: UserWarning: Couldn't import `kahypar` - skipping from default hyper optimizer and using basic `labels` method instead.\n",
      "  warnings.warn(\n"
     ]
    },
    {
     "name": "stdout",
     "output_type": "stream",
     "text": [
      "Found solution using 1 cuts with a sampling overhead of 9.0.\n"
     ]
    },
    {
     "data": {
      "text/html": [
       "<pre style=\"word-wrap: normal;white-space: pre;background: #fff0;line-height: 1.1;font-family: &quot;Courier New&quot;,Courier,monospace\">     ┌─────────┐┌─────────┐     ┌─────────┐┌─────────┐                      \n",
       "q_0: ┤ Ry(0.4) ├┤ Rz(0.4) ├──■──┤ Ry(0.4) ├┤ Rz(0.4) ├──────────────────────\n",
       "     ├─────────┤├─────────┤┌─┴─┐├─────────┤├─────────┤┌─────────┐           \n",
       "q_1: ┤ Ry(0.4) ├┤ Rz(0.4) ├┤ X ├┤0        ├┤ Ry(0.4) ├┤ Rz(0.4) ├───────────\n",
       "     ├─────────┤├─────────┤└───┘│  cut_cx │└─────────┘├─────────┤┌─────────┐\n",
       "q_2: ┤ Ry(0.4) ├┤ Rz(0.4) ├─────┤1        ├─────■─────┤ Ry(0.4) ├┤ Rz(0.4) ├\n",
       "     ├─────────┤├─────────┤     └─────────┘   ┌─┴─┐   ├─────────┤├─────────┤\n",
       "q_3: ┤ Ry(0.4) ├┤ Rz(0.4) ├───────────────────┤ X ├───┤ Ry(0.4) ├┤ Rz(0.4) ├\n",
       "     └─────────┘└─────────┘                   └───┘   └─────────┘└─────────┘</pre>"
      ],
      "text/plain": [
       "     ┌─────────┐┌─────────┐     ┌─────────┐┌─────────┐                      \n",
       "q_0: ┤ Ry(0.4) ├┤ Rz(0.4) ├──■──┤ Ry(0.4) ├┤ Rz(0.4) ├──────────────────────\n",
       "     ├─────────┤├─────────┤┌─┴─┐├─────────┤├─────────┤┌─────────┐           \n",
       "q_1: ┤ Ry(0.4) ├┤ Rz(0.4) ├┤ X ├┤0        ├┤ Ry(0.4) ├┤ Rz(0.4) ├───────────\n",
       "     ├─────────┤├─────────┤└───┘│  cut_cx │└─────────┘├─────────┤┌─────────┐\n",
       "q_2: ┤ Ry(0.4) ├┤ Rz(0.4) ├─────┤1        ├─────■─────┤ Ry(0.4) ├┤ Rz(0.4) ├\n",
       "     ├─────────┤├─────────┤     └─────────┘   ┌─┴─┐   ├─────────┤├─────────┤\n",
       "q_3: ┤ Ry(0.4) ├┤ Rz(0.4) ├───────────────────┤ X ├───┤ Ry(0.4) ├┤ Rz(0.4) ├\n",
       "     └─────────┘└─────────┘                   └───┘   └─────────┘└─────────┘"
      ]
     },
     "execution_count": 2,
     "metadata": {},
     "output_type": "execute_result"
    }
   ],
   "source": [
    "from benchmark.ckt import run_ckt, cut_ckt, run_qtpu\n",
    "\n",
    "qpd_circuit = cut_ckt(circuit, 2)\n",
    "qpd_circuit.draw()"
   ]
  },
  {
   "cell_type": "code",
   "execution_count": 3,
   "metadata": {},
   "outputs": [],
   "source": [
    "from qiskit_aer import AerSimulator\n",
    "from qiskit_aer.primitives import Sampler\n",
    "# from qiskit.primitives import BackendSampler, Sampler\n",
    "from circuit_knitting.utils.simulation import ExactSampler\n",
    "\n",
    "\n",
    "res = run_ckt(qpd_circuit, Sampler(), num_samples=1e20)"
   ]
  },
  {
   "cell_type": "code",
   "execution_count": 4,
   "metadata": {},
   "outputs": [
    {
     "data": {
      "text/plain": [
       "(0.5508467300000001,\n",
       " {'ckt_preparation': 0.003802084000199102,\n",
       "  'ckt_runtime': 0.25099754199618474,\n",
       "  'ckt_postprocessing': 0.00096750000375323})"
      ]
     },
     "execution_count": 4,
     "metadata": {},
     "output_type": "execute_result"
    }
   ],
   "source": [
    "res"
   ]
  },
  {
   "cell_type": "code",
   "execution_count": 11,
   "metadata": {},
   "outputs": [
    {
     "name": "stdout",
     "output_type": "stream",
     "text": [
      "        ┌─────────┐┌─────────┐     ┌─────────┐┌─────────┐                      »\n",
      "   q_0: ┤ Ry(0.4) ├┤ Rz(0.4) ├──■──┤ Ry(0.4) ├┤ Rz(0.4) ├──────────────────────»\n",
      "        ├─────────┤├─────────┤┌─┴─┐├─────────┤├─────────┤┌─────────┐           »\n",
      "   q_1: ┤ Ry(0.4) ├┤ Rz(0.4) ├┤ X ├┤0        ├┤ Ry(0.4) ├┤ Rz(0.4) ├───────────»\n",
      "        ├─────────┤├─────────┤└───┘│  cut_cx │└─────────┘├─────────┤┌─────────┐»\n",
      "   q_2: ┤ Ry(0.4) ├┤ Rz(0.4) ├─────┤1        ├─────■─────┤ Ry(0.4) ├┤ Rz(0.4) ├»\n",
      "        ├─────────┤├─────────┤     └─────────┘   ┌─┴─┐   ├─────────┤├─────────┤»\n",
      "   q_3: ┤ Ry(0.4) ├┤ Rz(0.4) ├───────────────────┤ X ├───┤ Ry(0.4) ├┤ Rz(0.4) ├»\n",
      "        └─────────┘└─────────┘                   └───┘   └─────────┘└─────────┘»\n",
      "meas: 4/═══════════════════════════════════════════════════════════════════════»\n",
      "                                                                               »\n",
      "«         ░ ┌─┐         \n",
      "«   q_0: ─░─┤M├─────────\n",
      "«         ░ └╥┘┌─┐      \n",
      "«   q_1: ─░──╫─┤M├──────\n",
      "«         ░  ║ └╥┘┌─┐   \n",
      "«   q_2: ─░──╫──╫─┤M├───\n",
      "«         ░  ║  ║ └╥┘┌─┐\n",
      "«   q_3: ─░──╫──╫──╫─┤M├\n",
      "«         ░  ║  ║  ║ └╥┘\n",
      "«meas: 4/════╩══╩══╩══╩═\n",
      "«            0  1  2  3 \n"
     ]
    }
   ],
   "source": [
    "# qpd_circuit.measure_all()\n",
    "print(qpd_circuit)\n",
    "from qtpu.evaluate import evaluate_sampler\n",
    "\n",
    "res = run_qtpu(qpd_circuit, eval_fn=evaluate_sampler(Sampler(), return_quasi_distr=True))"
   ]
  },
  {
   "cell_type": "code",
   "execution_count": 12,
   "metadata": {},
   "outputs": [
    {
     "data": {
      "text/plain": [
       "({5: 0.0013034649999999997,\n",
       "  1: 0.032768019999999995,\n",
       "  13: 0.0010954450000000004,\n",
       "  9: 0.0060471100000000005,\n",
       "  7: 0.0004900550000000001,\n",
       "  3: 0.005635720000000004,\n",
       "  15: 0.051649595000000006,\n",
       "  11: 0.00010016999999999969,\n",
       "  6: 0.00126581,\n",
       "  2: 0.03526628,\n",
       "  14: 0.03759177500000001,\n",
       "  10: 0.0017244349999999999,\n",
       "  4: 0.02484991,\n",
       "  0: 0.6532582200000001,\n",
       "  12: 0.04679350500000007,\n",
       "  8: 0.094860485},\n",
       " {'qtpu_preparation': 0.017928582994500175,\n",
       "  'qtpu_runtime': 0.14964258299733046,\n",
       "  'qtpu_postprocessing': 0.00011349999840604141})"
      ]
     },
     "execution_count": 12,
     "metadata": {},
     "output_type": "execute_result"
    }
   ],
   "source": [
    "res"
   ]
  },
  {
   "cell_type": "code",
   "execution_count": 13,
   "metadata": {},
   "outputs": [
    {
     "data": {
      "text/plain": [
       "[{13: 0.0009765625, 4: 0.0205078125, 1: 0.029296875, 15: 0.052734375, 3: 0.0048828125, 5: 0.001953125, 14: 0.041015625, 2: 0.0419921875, 0: 0.666015625, 9: 0.0087890625, 12: 0.041015625, 8: 0.0908203125}]"
      ]
     },
     "execution_count": 13,
     "metadata": {},
     "output_type": "execute_result"
    }
   ],
   "source": [
    "circuit.measure_all()\n",
    "Sampler().run(circuit).result().quasi_dists"
   ]
  },
  {
   "cell_type": "code",
   "execution_count": null,
   "metadata": {},
   "outputs": [],
   "source": []
  }
 ],
 "metadata": {
  "kernelspec": {
   "display_name": ".venv",
   "language": "python",
   "name": "python3"
  },
  "language_info": {
   "codemirror_mode": {
    "name": "ipython",
    "version": 3
   },
   "file_extension": ".py",
   "mimetype": "text/x-python",
   "name": "python",
   "nbconvert_exporter": "python",
   "pygments_lexer": "ipython3",
   "version": "3.12.3"
  }
 },
 "nbformat": 4,
 "nbformat_minor": 2
}
