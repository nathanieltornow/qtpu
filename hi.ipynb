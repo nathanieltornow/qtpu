{
 "cells": [
  {
   "cell_type": "code",
   "execution_count": 2,
   "metadata": {},
   "outputs": [],
   "source": [
    "import quimb.tensor as qtn\n",
    "import numpy as np"
   ]
  },
  {
   "cell_type": "code",
   "execution_count": 3,
   "metadata": {},
   "outputs": [],
   "source": [
    "delta = qtn.tensor_builder.delta_array((4, 4, 4, 4))"
   ]
  },
  {
   "cell_type": "code",
   "execution_count": null,
   "metadata": {},
   "outputs": [
    {
     "name": "stdout",
     "output_type": "stream",
     "text": [
      "{('i', 'j'): (0, 1, 2)}\n"
     ]
    }
   ],
   "source": [
    "A = np.array([.5, .5, .5, .2]).reshape(2, 2)\n",
    "b = np.array([.5, .4, .3, .2]).reshape(2, 2)\n",
    "c = np.array([1, 2, 3, 4])\n",
    "             \n",
    "At = qtn.Tensor(A, [\"i\", \"j\"])\n",
    "bt = qtn.Tensor(b, [\"i\", \"j\"])\n",
    "dt = qtn.Tensor(c, [\"i\"])\n",
    "ct = qtn.Tensor(c, [\"j\"])\n",
    "\n",
    "tn = qtn.TensorNetwork([At, bt, dt, ct])\n",
    "print(tn.get_multibonds())\n",
    "# k = np.kron(A, b)\n",
    "# sorted_k = np.argsort(k)\n",
    "\n",
    "# k[sorted_k]"
   ]
  },
  {
   "cell_type": "code",
   "execution_count": 10,
   "metadata": {},
   "outputs": [],
   "source": [
    "def truncate_tensor_index(tensor: qtn.Tensor, ind: str, new_size: int) -> qtn.Tensor:\n",
    "    if ind not in tensor.inds:\n",
    "        return tensor\n",
    "    dim = tensor.inds.index(ind)\n",
    "    slices = [slice(None)] * len(tensor.shape)\n",
    "    slices[dim] = slice(new_size)\n",
    "    truncated_data = tensor.data[tuple(slices)]\n",
    "    return qtn.Tensor(truncated_data, inds=tensor.inds, tags=tensor.tags)\n",
    "\n",
    "\n",
    "def truncate_tn_index(\n",
    "    tn: qtn.TensorNetwork, ind: str, new_size: int\n",
    ") -> qtn.TensorNetwork:\n",
    "    return qtn.TensorNetwork(\n",
    "        [truncate_tensor_index(t, ind, new_size) for t in tn.tensors]\n",
    "    )"
   ]
  },
  {
   "cell_type": "code",
   "execution_count": 11,
   "metadata": {},
   "outputs": [
    {
     "name": "stdout",
     "output_type": "stream",
     "text": [
      "{'i': oset([0, 1, 2])}\n"
     ]
    }
   ],
   "source": [
    "y = truncate_tn_index(x, \"i\", 2)\n",
    "print(y.ind_map)\n",
    "# y = y.hyperinds_resolve(\"mps\")\n",
    "# print(y.ind_map)\n"
   ]
  },
  {
   "cell_type": "code",
   "execution_count": 14,
   "metadata": {},
   "outputs": [
    {
     "data": {
      "text/plain": [
       "9"
      ]
     },
     "execution_count": 14,
     "metadata": {},
     "output_type": "execute_result"
    }
   ],
   "source": [
    "y.contract(output_inds=[])"
   ]
  },
  {
   "cell_type": "code",
   "execution_count": 9,
   "metadata": {},
   "outputs": [
    {
     "ename": "ValueError",
     "evalue": "5 is not in list",
     "output_type": "error",
     "traceback": [
      "\u001b[0;31m---------------------------------------------------------------------------\u001b[0m",
      "\u001b[0;31mValueError\u001b[0m                                Traceback (most recent call last)",
      "Cell \u001b[0;32mIn[9], line 1\u001b[0m\n\u001b[0;32m----> 1\u001b[0m \u001b[43m[\u001b[49m\u001b[38;5;241;43m1\u001b[39;49m\u001b[43m,\u001b[49m\u001b[43m \u001b[49m\u001b[38;5;241;43m2\u001b[39;49m\u001b[43m,\u001b[49m\u001b[43m \u001b[49m\u001b[38;5;241;43m3\u001b[39;49m\u001b[43m]\u001b[49m\u001b[38;5;241;43m.\u001b[39;49m\u001b[43mindex\u001b[49m\u001b[43m(\u001b[49m\u001b[38;5;241;43m5\u001b[39;49m\u001b[43m)\u001b[49m\n",
      "\u001b[0;31mValueError\u001b[0m: 5 is not in list"
     ]
    }
   ],
   "source": [
    "[1, 2, 3].index(5,)"
   ]
  },
  {
   "cell_type": "code",
   "execution_count": null,
   "metadata": {},
   "outputs": [],
   "source": []
  }
 ],
 "metadata": {
  "kernelspec": {
   "display_name": ".venv",
   "language": "python",
   "name": "python3"
  },
  "language_info": {
   "codemirror_mode": {
    "name": "ipython",
    "version": 3
   },
   "file_extension": ".py",
   "mimetype": "text/x-python",
   "name": "python",
   "nbconvert_exporter": "python",
   "pygments_lexer": "ipython3",
   "version": "3.11.8"
  }
 },
 "nbformat": 4,
 "nbformat_minor": 2
}
