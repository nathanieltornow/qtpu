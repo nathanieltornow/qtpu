{
 "cells": [
  {
   "cell_type": "code",
   "execution_count": 1,
   "metadata": {},
   "outputs": [],
   "source": [
    "import os\n",
    "import pandas as pd\n",
    "import optuna\n",
    "from qiskit.circuit import QuantumCircuit\n",
    "\n",
    "import qtpu\n",
    "\n",
    "from benchmark._plot_util import *"
   ]
  },
  {
   "cell_type": "code",
   "execution_count": 2,
   "metadata": {},
   "outputs": [],
   "source": [
    "NUM_QUBITS = 60\n",
    "\n",
    "SUBCIRCUIT_SIZE = 30\n",
    "CSV_FILE = \"cost2.csv\""
   ]
  },
  {
   "cell_type": "code",
   "execution_count": 3,
   "metadata": {},
   "outputs": [],
   "source": [
    "from qtpu.compiler.compiler import trial_to_hybrid_tn\n",
    "\n",
    "def _min_cost_htn(study: optuna.Study) -> qtpu.HybridTensorNetwork:\n",
    "    best_trial = min(study.best_trials, key=lambda trial: trial.values[0])\n",
    "    htn = trial_to_hybrid_tn(best_trial)\n",
    "    assert all(qtn.circuit.num_qubits <= SUBCIRCUIT_SIZE for qtn in htn.quantum_tensors)\n",
    "    return htn"
   ]
  },
  {
   "cell_type": "code",
   "execution_count": 4,
   "metadata": {},
   "outputs": [],
   "source": [
    "from benchmark.util import contraction_cost_log10, bruteforce_cost_log10\n",
    "from qtpu.compiler.terminators import reach_num_qubits\n",
    "\n",
    "\n",
    "def get_result(circuit: QuantumCircuit) -> dict[str, float]:\n",
    "    study_only_wire = qtpu.compiler.hyper_optimize(\n",
    "        circuit,\n",
    "        terminate_fn=reach_num_qubits(SUBCIRCUIT_SIZE),\n",
    "        compression_methods=[\"2q\"],\n",
    "        n_trials=100,\n",
    "        max_cost=1e12,\n",
    "        show_progress_bar=True,\n",
    "    )\n",
    "    study_normal = qtpu.compiler.hyper_optimize(\n",
    "        circuit,\n",
    "        terminate_fn=reach_num_qubits(SUBCIRCUIT_SIZE),\n",
    "        n_trials=100,\n",
    "        max_cost=1e12,\n",
    "        show_progress_bar=True,\n",
    "    )\n",
    "    \n",
    "    return {\n",
    "        \"qtpu\": contraction_cost_log10(_min_cost_htn(study_normal)),\n",
    "        \"ckt\": bruteforce_cost_log10(_min_cost_htn(study_normal)),\n",
    "        \"cutqc\": bruteforce_cost_log10(_min_cost_htn(study_only_wire)),\n",
    "        \"scaleqc\": contraction_cost_log10(_min_cost_htn(study_only_wire)),\n",
    "    }"
   ]
  },
  {
   "cell_type": "code",
   "execution_count": 5,
   "metadata": {},
   "outputs": [],
   "source": [
    "from benchmark.benchmarks import (\n",
    "    brick_ansatz,\n",
    "    linear_ansatz,\n",
    "    random_ansatz,\n",
    "    cluster_ansatz,\n",
    "    ring_ansatz,\n",
    "    qaoa_regular_ansatz,\n",
    "    qaoa_powerlaw_ansatz,\n",
    ")\n",
    "from qiskit.circuit.random import random_circuit\n",
    "\n",
    "BENCHMARKS = [\n",
    "    # (f\"qaoa_regular_{NUM_QUBITS}_1\", qaoa_regular_ansatz(NUM_QUBITS, 1)),\n",
    "    # (f\"qaoa_power_{NUM_QUBITS}_1\", qaoa_powerlaw_ansatz(NUM_QUBITS, 1)),\n",
    "    # (f\"ring_{NUM_QUBITS}_3\", ring_ansatz(NUM_QUBITS, 3)),\n",
    "    # (f\"ring_{NUM_QUBITS}_4\", ring_ansatz(NUM_QUBITS, 4)),\n",
    "    # (f\"linear_{NUM_QUBITS}_3\", linear_ansatz(NUM_QUBITS, 3)),\n",
    "    # (f\"linear_{NUM_QUBITS}_4\", linear_ansatz(NUM_QUBITS, 4)),\n",
    "    # (f\"cluster_{25}_8_1\", cluster_ansatz([25]*8, 1)),\n",
    "    # (f\"cluster_{25}_8_2\", cluster_ansatz([25]*8, 2)),\n",
    "    (f\"cluster_{25}_8_3\", cluster_ansatz([25]*8, 3)),\n",
    "    # (f\"random_{NUM_QUBITS}_1\", random_circuit(NUM_QUBITS, 1, max_operands=2)),\n",
    "    # (f\"random_{NUM_QUBITS}_2\", random_circuit(NUM_QUBITS, 2, max_operands=2)),\n",
    "    # (f\"random_{NUM_QUBITS}_3\", random_circuit(NUM_QUBITS, 3, max_operands=2)),\n",
    "    # (f\"random_{NUM_QUBITS}_4\", random_circuit(NUM_QUBITS, 4, max_operands=2)),\n",
    "    # (f\"cluster_{25}_4_1\", cluster_ansatz([25]*4, 1)),\n",
    "    # (f\"cluster_{25}_4_2\", cluster_ansatz([25]*4, 2)),\n",
    "    # (f\"cluster_{25}_4_3\", cluster_ansatz([25]*4, 3)),\n",
    "    # (f\"cluster_{25}_4_4\", cluster_ansatz([25]*4, 4)),\n",
    "    # (f\"cluster_{25}_4_5\", cluster_ansatz([25]*4, 5)),\n",
    "    # (f\"brick_{NUM_QUBITS}_1\", brick_ansatz(NUM_QUBITS, 1)),\n",
    "    # (f\"brick_{NUM_QUBITS}_2\", brick_ansatz(NUM_QUBITS, 2)),\n",
    "    # (f\"brick_{NUM_QUBITS}_3\", brick_ansatz(NUM_QUBITS, 3)),\n",
    "]"
   ]
  },
  {
   "cell_type": "code",
   "execution_count": 6,
   "metadata": {},
   "outputs": [
    {
     "data": {
      "application/vnd.jupyter.widget-view+json": {
       "model_id": "b8aadb7b5e2d4628906e1645b5ea5071",
       "version_major": 2,
       "version_minor": 0
      },
      "text/plain": [
       "  0%|          | 0/100 [00:00<?, ?it/s]"
      ]
     },
     "metadata": {},
     "output_type": "display_data"
    },
    {
     "data": {
      "application/vnd.jupyter.widget-view+json": {
       "model_id": "5e2d2fbb87c54cfbb36b52397d993e26",
       "version_major": 2,
       "version_minor": 0
      },
      "text/plain": [
       "  0%|          | 0/100 [00:00<?, ?it/s]"
      ]
     },
     "metadata": {},
     "output_type": "display_data"
    }
   ],
   "source": [
    "from benchmark.util import append_to_csv\n",
    "\n",
    "for name, circuit in BENCHMARKS:\n",
    "    result = get_result(circuit)\n",
    "    append_to_csv(CSV_FILE, {\"name\": name, **result})"
   ]
  },
  {
   "cell_type": "code",
   "execution_count": 3,
   "metadata": {},
   "outputs": [],
   "source": [
    "from benchmark._plot_util import *\n",
    "\n",
    "def plot(benches: list[str], ax: plt.Axes):\n",
    "    df = pd.read_csv(CSV_FILE)\n",
    "    df = df[[\"name\", \"qtpu\", \"scaleqc\", \"ckt\", \"cutqc\"]]\n",
    "    df = df[df[\"name\"].isin(benches)]\n",
    "    df.sort_index()\n",
    "    df_mean = 10 ** df.groupby(\"name\").mean() \n",
    "    df_std = df.groupby(\"name\").std().reset_index().drop(\"name\", axis=1)\n",
    "\n",
    "    df_mean.plot.bar(\n",
    "        rot=20,\n",
    "        width=0.8,\n",
    "        edgecolor=\"black\",\n",
    "        linewidth=2,\n",
    "        ax=ax,\n",
    "        # legend=False,\n",
    "        yerr=df_std.to_numpy().T,\n",
    "    )\n",
    "    ax.set_yscale(\"log\")\n",
    "    # ax.set_yticklabels([f\"$10^{{{int(x.get_text())}}}$\" for x in ax.get_yticklabels()])\n",
    "    ax.set_title(\"Lower is better ↓\", fontweight=\"bold\", color=\"midnightblue\")\n",
    "    ax.set_xlabel(\"\")\n",
    "    ax.set_ylabel(\"Contraction Cost [FLOPs]\")"
   ]
  },
  {
   "cell_type": "code",
   "execution_count": 6,
   "metadata": {},
   "outputs": [
    {
     "data": {
      "image/png": "[encoded data removed]",
      "text/plain": [
       "<Figure size 500x280 with 1 Axes>"
      ]
     },
     "metadata": {},
     "output_type": "display_data"
    }
   ],
   "source": [
    "benches_to_plot = [\n",
    "    # f\"qaoa_regular_{NUM_QUBITS}_1\",\n",
    "    # f\"qaoa_power_{NUM_QUBITS}_1\"\n",
    "    \"cluster_25_4_5\",\n",
    "    \"cluster_25_4_4\",\n",
    "    \"cluster_25_4_3\",\n",
    "    \"cluster_25_4_2\",\n",
    "    # \"cluster_25_4_1\",\n",
    "    # \"cluster_25_8_4\",\n",
    "    # # \"linear_200_1\",\n",
    "    # \"linear_100_2\",\n",
    "    \"linear_100_3\",\n",
    "    \"linear_100_4\",\n",
    "\n",
    "    # # # \"brick_100_1\",\n",
    "    # \"brick_100_2\",\n",
    "    \"brick_100_3\",\n",
    "    \"brick_100_4\",\n",
    "]\n",
    "\n",
    "\n",
    "# df = pd.read_csv(CSV_FILE)\n",
    "# df = df[df[\"name\"].isin(benches_to_plot)]\n",
    "\n",
    "# df = df.groupby(\"name\").mean()\n",
    "\n",
    "\n",
    "# # df.set_index(df.index.str.replace(f\"_{NUM_QUBITS}_\", \"_\"), inplace=True)\n",
    "# # reorder columns\n",
    "# # df = df[[\"qtpu\", \"scaleqc\", \"ckt\", \"cutqc\"]]\n",
    "WIDE_FIGSIZE = (5, 2.8)\n",
    "\n",
    "fig, ax = plt.subplots(figsize=WIDE_FIGSIZE)\n",
    "plot(benches_to_plot, ax)\n",
    "\n",
    "\n",
    "# hatches = ['//', '\\\\\\\\', '--', 'xx', 'oo', 'OO', '..', '**']\n",
    "\n",
    "\n",
    "# for i, patch in enumerate(ax.patches):\n",
    "#     patch.set_hatch(hatches[i % 4])\n",
    "\n",
    "# import seaborn as sns\n",
    "\n",
    "# colors = sns.color_palette(\"tab10\", n_colors=4)\n",
    "\n",
    "# df.plot.bar(rot=15, width=0.8, edgecolor=\"black\", linewidth=2, ax=ax, color=colors, legend=False)\n",
    "\n",
    "# # for ytick in ax.get_yticklabels():\n",
    "# # ytick.set_text(f\"$10^{{{ytick.get_text()}}}$\")\n",
    "\n",
    "# ax.set_yticklabels([f\"$10^{{{int(x.get_text())}}}$\" for x in ax.get_yticklabels()])\n",
    "# ax.set_title(\"Lower is better\", fontweight=\"bold\", color=\"midnightblue\")\n",
    "# ax.set_xlabel(\"\")\n",
    "# fig;"
   ]
  },
  {
   "cell_type": "code",
   "execution_count": 7,
   "metadata": {},
   "outputs": [],
   "source": [
    "fig.savefig(\"cost.pdf\", bbox_inches=\"tight\")"
   ]
  },
  {
   "cell_type": "code",
   "execution_count": null,
   "metadata": {},
   "outputs": [],
   "source": []
  },
  {
   "cell_type": "code",
   "execution_count": null,
   "metadata": {},
   "outputs": [],
   "source": []
  }
 ],
 "metadata": {
  "kernelspec": {
   "display_name": ".venv",
   "language": "python",
   "name": "python3"
  },
  "language_info": {
   "codemirror_mode": {
    "name": "ipython",
    "version": 3
   },
   "file_extension": ".py",
   "mimetype": "text/x-python",
   "name": "python",
   "nbconvert_exporter": "python",
   "pygments_lexer": "ipython3",
   "version": "3.11.8"
  }
 },
 "nbformat": 4,
 "nbformat_minor": 2
}
