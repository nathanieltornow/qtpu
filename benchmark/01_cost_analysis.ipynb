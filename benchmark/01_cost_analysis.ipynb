{
 "cells": [
  {
   "cell_type": "code",
   "execution_count": 1,
   "metadata": {},
   "outputs": [],
   "source": [
    "import os\n",
    "import pandas as pd\n",
    "import optuna\n",
    "from qiskit.circuit import QuantumCircuit\n",
    "\n",
    "import qtpu"
   ]
  },
  {
   "cell_type": "code",
   "execution_count": 2,
   "metadata": {},
   "outputs": [],
   "source": [
    "NUM_QUBITS = 200\n",
    "SUBCIRCUIT_SIZE = 60\n",
    "CSV_FILE = \"cost.csv\""
   ]
  },
  {
   "cell_type": "code",
   "execution_count": 3,
   "metadata": {},
   "outputs": [],
   "source": [
    "from qtpu.compiler.compiler import trial_to_hybrid_tn\n",
    "\n",
    "def _min_cost_htn(study: optuna.Study) -> qtpu.HybridTensorNetwork:\n",
    "    best_trial = min(study.best_trials, key=lambda trial: trial.values[0])\n",
    "    htn = trial_to_hybrid_tn(best_trial)\n",
    "    assert all(qtn.circuit.num_qubits <= SUBCIRCUIT_SIZE for qtn in htn.quantum_tensors)\n",
    "    return htn"
   ]
  },
  {
   "cell_type": "code",
   "execution_count": 4,
   "metadata": {},
   "outputs": [],
   "source": [
    "from benchmark.util import contraction_cost_log10, bruteforce_cost_log10\n",
    "from qtpu.compiler.terminators import reach_num_qubits\n",
    "\n",
    "\n",
    "def get_result(circuit: QuantumCircuit) -> dict[str, float]:\n",
    "    study_only_wire = qtpu.compiler.hyper_optimize(\n",
    "        circuit,\n",
    "        terminate_fn=reach_num_qubits(SUBCIRCUIT_SIZE),\n",
    "        compression_methods=[\"2q\"],\n",
    "        n_trials=100,\n",
    "        max_cost=1e10,\n",
    "        show_progress_bar=True,\n",
    "    )\n",
    "    study_normal = qtpu.compiler.hyper_optimize(\n",
    "        circuit,\n",
    "        terminate_fn=reach_num_qubits(SUBCIRCUIT_SIZE),\n",
    "        n_trials=100,\n",
    "        max_cost=1e10,\n",
    "        show_progress_bar=True,\n",
    "    )\n",
    "    \n",
    "    return {\n",
    "        \"qtpu\": contraction_cost_log10(_min_cost_htn(study_normal)),\n",
    "        \"ckt\": bruteforce_cost_log10(_min_cost_htn(study_normal)),\n",
    "        \"cutqc\": bruteforce_cost_log10(_min_cost_htn(study_only_wire)),\n",
    "        \"scaleqc\": contraction_cost_log10(_min_cost_htn(study_only_wire)),\n",
    "    }"
   ]
  },
  {
   "cell_type": "code",
   "execution_count": 5,
   "metadata": {},
   "outputs": [],
   "source": [
    "from benchmark.benchmarks import brick_ansatz, linear_ansatz, random_ansatz, cluster_ansatz\n",
    "\n",
    "BENCHMARKS = [\n",
    "    (f\"cluster_{25}_8_1\", cluster_ansatz([25]*8, 1)),\n",
    "    (f\"cluster_{25}_8_2\", cluster_ansatz([25]*8, 2)),\n",
    "    \n",
    "    (f\"linear_{NUM_QUBITS}_1\", linear_ansatz(NUM_QUBITS, 1)),\n",
    "    (f\"linear_{NUM_QUBITS}_2\", linear_ansatz(NUM_QUBITS, 2)),\n",
    "    (f\"linear_{NUM_QUBITS}_3\", linear_ansatz(NUM_QUBITS, 3)),\n",
    "    (f\"brick_{NUM_QUBITS}_1\", brick_ansatz(NUM_QUBITS, 1)),\n",
    "    (f\"brick_{NUM_QUBITS}_2\", brick_ansatz(NUM_QUBITS, 2)),\n",
    "    (f\"brick_{NUM_QUBITS}_3\", brick_ansatz(NUM_QUBITS, 3)),\n",
    "]"
   ]
  },
  {
   "cell_type": "code",
   "execution_count": 6,
   "metadata": {},
   "outputs": [
    {
     "data": {
      "application/vnd.jupyter.widget-view+json": {
       "model_id": "54ef5818522047f8a2dcac89a2cd1470",
       "version_major": 2,
       "version_minor": 0
      },
      "text/plain": [
       "  0%|          | 0/100 [00:00<?, ?it/s]"
      ]
     },
     "metadata": {},
     "output_type": "display_data"
    },
    {
     "data": {
      "application/vnd.jupyter.widget-view+json": {
       "model_id": "735d4f5dc6d54bf0b407ccd860c346e5",
       "version_major": 2,
       "version_minor": 0
      },
      "text/plain": [
       "  0%|          | 0/100 [00:00<?, ?it/s]"
      ]
     },
     "metadata": {},
     "output_type": "display_data"
    },
    {
     "ename": "AttributeError",
     "evalue": "'HybridTensorNetwork' object has no attribute 'qtns'",
     "output_type": "error",
     "traceback": [
      "\u001b[0;31m---------------------------------------------------------------------------\u001b[0m",
      "\u001b[0;31mAttributeError\u001b[0m                            Traceback (most recent call last)",
      "Cell \u001b[0;32mIn[6], line 4\u001b[0m\n\u001b[1;32m      1\u001b[0m \u001b[38;5;28;01mfrom\u001b[39;00m \u001b[38;5;21;01mbenchmark\u001b[39;00m\u001b[38;5;21;01m.\u001b[39;00m\u001b[38;5;21;01mutil\u001b[39;00m \u001b[38;5;28;01mimport\u001b[39;00m append_to_csv\n\u001b[1;32m      3\u001b[0m \u001b[38;5;28;01mfor\u001b[39;00m name, circuit \u001b[38;5;129;01min\u001b[39;00m BENCHMARKS \u001b[38;5;241m*\u001b[39m \u001b[38;5;241m5\u001b[39m:\n\u001b[0;32m----> 4\u001b[0m     result \u001b[38;5;241m=\u001b[39m \u001b[43mget_result\u001b[49m\u001b[43m(\u001b[49m\u001b[43mcircuit\u001b[49m\u001b[43m)\u001b[49m\n\u001b[1;32m      5\u001b[0m     append_to_csv(CSV_FILE, {\u001b[38;5;124m\"\u001b[39m\u001b[38;5;124mname\u001b[39m\u001b[38;5;124m\"\u001b[39m: name, \u001b[38;5;241m*\u001b[39m\u001b[38;5;241m*\u001b[39mresult})\n",
      "Cell \u001b[0;32mIn[4], line 23\u001b[0m, in \u001b[0;36mget_result\u001b[0;34m(circuit)\u001b[0m\n\u001b[1;32m      6\u001b[0m study_only_wire \u001b[38;5;241m=\u001b[39m qtpu\u001b[38;5;241m.\u001b[39mcompiler\u001b[38;5;241m.\u001b[39mhyper_optimize(\n\u001b[1;32m      7\u001b[0m     circuit,\n\u001b[1;32m      8\u001b[0m     terminate_fn\u001b[38;5;241m=\u001b[39mreach_num_qubits(SUBCIRCUIT_SIZE),\n\u001b[0;32m   (...)\u001b[0m\n\u001b[1;32m     12\u001b[0m     show_progress_bar\u001b[38;5;241m=\u001b[39m\u001b[38;5;28;01mTrue\u001b[39;00m,\n\u001b[1;32m     13\u001b[0m )\n\u001b[1;32m     14\u001b[0m study_normal \u001b[38;5;241m=\u001b[39m qtpu\u001b[38;5;241m.\u001b[39mcompiler\u001b[38;5;241m.\u001b[39mhyper_optimize(\n\u001b[1;32m     15\u001b[0m     circuit,\n\u001b[1;32m     16\u001b[0m     terminate_fn\u001b[38;5;241m=\u001b[39mreach_num_qubits(SUBCIRCUIT_SIZE),\n\u001b[0;32m   (...)\u001b[0m\n\u001b[1;32m     19\u001b[0m     show_progress_bar\u001b[38;5;241m=\u001b[39m\u001b[38;5;28;01mTrue\u001b[39;00m,\n\u001b[1;32m     20\u001b[0m )\n\u001b[1;32m     22\u001b[0m \u001b[38;5;28;01mreturn\u001b[39;00m {\n\u001b[0;32m---> 23\u001b[0m     \u001b[38;5;124m\"\u001b[39m\u001b[38;5;124mqtpu\u001b[39m\u001b[38;5;124m\"\u001b[39m: contraction_cost_log10(\u001b[43m_min_cost_htn\u001b[49m\u001b[43m(\u001b[49m\u001b[43mstudy_normal\u001b[49m\u001b[43m)\u001b[49m),\n\u001b[1;32m     24\u001b[0m     \u001b[38;5;124m\"\u001b[39m\u001b[38;5;124mckt\u001b[39m\u001b[38;5;124m\"\u001b[39m: bruteforce_cost_log10(_min_cost_htn(study_normal)),\n\u001b[1;32m     25\u001b[0m     \u001b[38;5;124m\"\u001b[39m\u001b[38;5;124mcutqc\u001b[39m\u001b[38;5;124m\"\u001b[39m: bruteforce_cost_log10(_min_cost_htn(study_only_wire)),\n\u001b[1;32m     26\u001b[0m     \u001b[38;5;124m\"\u001b[39m\u001b[38;5;124mscaleqc\u001b[39m\u001b[38;5;124m\"\u001b[39m: contraction_cost_log10(_min_cost_htn(study_only_wire)),\n\u001b[1;32m     27\u001b[0m }\n",
      "Cell \u001b[0;32mIn[3], line 6\u001b[0m, in \u001b[0;36m_min_cost_htn\u001b[0;34m(study)\u001b[0m\n\u001b[1;32m      4\u001b[0m best_trial \u001b[38;5;241m=\u001b[39m \u001b[38;5;28mmin\u001b[39m(study\u001b[38;5;241m.\u001b[39mbest_trials, key\u001b[38;5;241m=\u001b[39m\u001b[38;5;28;01mlambda\u001b[39;00m trial: trial\u001b[38;5;241m.\u001b[39mvalues[\u001b[38;5;241m0\u001b[39m])\n\u001b[1;32m      5\u001b[0m htn \u001b[38;5;241m=\u001b[39m trial_to_hybrid_tn(best_trial)\n\u001b[0;32m----> 6\u001b[0m \u001b[38;5;28;01massert\u001b[39;00m \u001b[38;5;28mall\u001b[39m(qtn\u001b[38;5;241m.\u001b[39mcircuit\u001b[38;5;241m.\u001b[39mnum_qubits \u001b[38;5;241m<\u001b[39m\u001b[38;5;241m=\u001b[39m SUBCIRCUIT_SIZE \u001b[38;5;28;01mfor\u001b[39;00m qtn \u001b[38;5;129;01min\u001b[39;00m \u001b[43mhtn\u001b[49m\u001b[38;5;241;43m.\u001b[39;49m\u001b[43mqtns\u001b[49m)\n\u001b[1;32m      7\u001b[0m \u001b[38;5;28;01mreturn\u001b[39;00m htn\n",
      "\u001b[0;31mAttributeError\u001b[0m: 'HybridTensorNetwork' object has no attribute 'qtns'"
     ]
    }
   ],
   "source": [
    "from benchmark.util import append_to_csv\n",
    "\n",
    "for name, circuit in BENCHMARKS * 5:\n",
    "    result = get_result(circuit)\n",
    "    append_to_csv(CSV_FILE, {\"name\": name, **result})"
   ]
  },
  {
   "cell_type": "code",
   "execution_count": null,
   "metadata": {},
   "outputs": [
    {
     "ename": "NameError",
     "evalue": "name 'CSV_FILE' is not defined",
     "output_type": "error",
     "traceback": [
      "\u001b[0;31m---------------------------------------------------------------------------\u001b[0m",
      "\u001b[0;31mNameError\u001b[0m                                 Traceback (most recent call last)",
      "Cell \u001b[0;32mIn[36], line 1\u001b[0m\n\u001b[0;32m----> 1\u001b[0m df \u001b[38;5;241m=\u001b[39m pd\u001b[38;5;241m.\u001b[39mread_csv(\u001b[43mCSV_FILE\u001b[49m)\n\u001b[1;32m      2\u001b[0m df \u001b[38;5;241m=\u001b[39m df\u001b[38;5;241m.\u001b[39mgroupby(\u001b[38;5;124m\"\u001b[39m\u001b[38;5;124mname\u001b[39m\u001b[38;5;124m\"\u001b[39m)\u001b[38;5;241m.\u001b[39mmean()\n\u001b[1;32m      3\u001b[0m df\u001b[38;5;241m.\u001b[39mset_index(df\u001b[38;5;241m.\u001b[39mindex\u001b[38;5;241m.\u001b[39mstr\u001b[38;5;241m.\u001b[39mreplace(\u001b[38;5;124mf\u001b[39m\u001b[38;5;124m\"\u001b[39m\u001b[38;5;124m_\u001b[39m\u001b[38;5;132;01m{\u001b[39;00mNUM_QUBITS\u001b[38;5;132;01m}\u001b[39;00m\u001b[38;5;124m_\u001b[39m\u001b[38;5;124m\"\u001b[39m, \u001b[38;5;124m\"\u001b[39m\u001b[38;5;124m_\u001b[39m\u001b[38;5;124m\"\u001b[39m), inplace\u001b[38;5;241m=\u001b[39m\u001b[38;5;28;01mTrue\u001b[39;00m)\n",
      "\u001b[0;31mNameError\u001b[0m: name 'CSV_FILE' is not defined"
     ]
    }
   ],
   "source": [
    "df = pd.read_csv(CSV_FILE)\n",
    "df = df.groupby(\"name\").mean()\n",
    "df.set_index(df.index.str.replace(f\"_{NUM_QUBITS}_\", \"_\"), inplace=True)\n",
    "# reorder columns\n",
    "df = df[[\"qtpu\", \"scaleqc\", \"ckt\", \"cutqc\"]]\n",
    "\n",
    "\n",
    "ax = df.plot.bar(rot=50)\n",
    "\n",
    "# for ytick in ax.get_yticklabels():\n",
    "    # ytick.set_text(f\"$10^{{{ytick.get_text()}}}$\")\n",
    "\n",
    "ax.set_yticklabels([f\"$10^{{{int(x.get_text())}}}$\" for x in ax.get_yticklabels()])"
   ]
  },
  {
   "cell_type": "code",
   "execution_count": null,
   "metadata": {},
   "outputs": [],
   "source": []
  }
 ],
 "metadata": {
  "kernelspec": {
   "display_name": ".venv",
   "language": "python",
   "name": "python3"
  },
  "language_info": {
   "codemirror_mode": {
    "name": "ipython",
    "version": 3
   },
   "file_extension": ".py",
   "mimetype": "text/x-python",
   "name": "python",
   "nbconvert_exporter": "python",
   "pygments_lexer": "ipython3",
   "version": "3.11.8"
  }
 },
 "nbformat": 4,
 "nbformat_minor": 2
}
